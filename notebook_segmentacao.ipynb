{
  "nbformat": 4,
  "nbformat_minor": 0,
  "metadata": {
    "interpreter": {
      "hash": "af573f283834de0d94267a2f349eb6a57bfc80fc16df6f4176b3eb1c7a5367fc"
    },
    "kernelspec": {
      "name": "python3",
      "display_name": "Python 3.8.8 64-bit ('base': conda)"
    },
    "language_info": {
      "name": "python",
      "version": "3.8.8",
      "mimetype": "text/x-python",
      "codemirror_mode": {
        "name": "ipython",
        "version": 3
      },
      "pygments_lexer": "ipython3",
      "nbconvert_exporter": "python",
      "file_extension": ".py"
    },
    "orig_nbformat": 4,
    "colab": {
      "name": "notebook-segmentacao.ipynb",
      "provenance": [],
      "collapsed_sections": [
        "56N7aJSY40tf",
        "bDYdsPVK2aXO",
        "MzHpVXnx2aXY"
      ],
      "include_colab_link": true
    }
  },
  "cells": [
    {
      "cell_type": "markdown",
      "metadata": {
        "id": "view-in-github",
        "colab_type": "text"
      },
      "source": [
        "<a href=\"https://colab.research.google.com/github/joaovictordds/Segmentacao_de_clientes/blob/main/notebook_segmentacao.ipynb\" target=\"_parent\"><img src=\"https://colab.research.google.com/assets/colab-badge.svg\" alt=\"Open In Colab\"/></a>"
      ]
    },
    {
      "cell_type": "markdown",
      "metadata": {
        "id": "56N7aJSY40tf"
      },
      "source": [
        "### Segmentação de cliente"
      ]
    },
    {
      "cell_type": "markdown",
      "metadata": {
        "id": "Xd98MZOj2aXJ"
      },
      "source": [
        "**O Desafio**\n",
        "\n",
        "Você faz parte do time de cientistas de dados da empresa All In One Place, que precisa determinar quem são os clientes elegíveis para participar da campanha *Insiders*.\n",
        "\n",
        "Em posse dessa lista, o time de Marketing fará uma sequência de ações personalizadas e exclusivas ao grupo, de modo a aumentar o faturamento e a frequência de compra.\n",
        "\n",
        "Como resultado para esse projeto, é esperado que você entregue uma lista de pessoas elegíveis a participar do programa Insiders, junto com um relatório respondendo às seguintes perguntas:\n",
        "\n",
        "- Quem são as pessoas elegíveis para participar do programa de Insiders ?\n",
        "- Quantos clientes farão parte do grupo?\n",
        "- Quais as principais características desses clientes ?\n",
        "- Qual a porcentagem de contribuição do faturamento, vinda do Insiders ?\n",
        "- Qual a expectativa de faturamento desse grupo para os próximos meses ?\n",
        "- Quais as condições para uma pessoa ser elegível ao Insiders ?\n",
        "- Quais as condições para uma pessoa ser removida do Insiders ?\n",
        "- Qual a garantia que o programa Insiders é melhor que o restante da base ?\n",
        "- Quais ações o time de marketing pode realizar para aumentar o faturamento?\n",
        "\n",
        "O conjunto de dados inclui as seguintes informações:\n",
        "\n",
        "- Invoice Number: identificador único de cada transação.\n",
        "- Stock Code Product: código do item.\n",
        "- Description Product: nome do item\n",
        "- Quantity: A quantidade de cada item comprado por transação.\n",
        "- Invoice Date: O dia em que a transação ocorreu\n",
        "- Unit Price: Preço do produto por unidade\n",
        "- Customer ID: identificador único do cliente\n",
        "- Country: O nome do país que o cliente reside"
      ]
    },
    {
      "cell_type": "markdown",
      "metadata": {
        "id": "rJjSrfFQ2aXN"
      },
      "source": [
        "Roteiro Sugerido para a Solução:\n",
        "\n",
        "- Explore os Dados usando ferramentas e testes Estatísticos com o objetivo de encontrar inconsistências dos dados e tratar possíveis dados faltantes.\n",
        "- Levante Hipóteses sobre as características de um cliente Insider. Valide ou refute essas hipóteses através dos dados.\n",
        "- Prepare os Dados para que os Algoritmos Estatísticos ou de Machine Learning sejam capazes de aprender a tarefa.\n",
        "- Escreva vários algoritmos de Agrupamento ou clusterização.\n",
        "- Contabilize a Performance do Modelo de Machine Learning e transforme em Performance de Negócio.\n",
        "- Desenvolva uma API que retorne um “Score de Cluster” para cada cliente, indicando à qual cluster ele pertence.\n",
        "- Crie um README sobre como interpretar e usar a sua solução.\n",
        "- Escreva um Relatório, respondendo às perguntas de negócio."
      ]
    },
    {
      "cell_type": "markdown",
      "metadata": {
        "id": "bDYdsPVK2aXO"
      },
      "source": [
        "### Limpeza & Preparação dos dados\n",
        "- Explore os Dados usando ferramentas e testes Estatísticos com o objetivo de encontrar inconsistências dos dados e tratar possíveis dados faltantes."
      ]
    },
    {
      "cell_type": "code",
      "metadata": {
        "colab": {
          "base_uri": "https://localhost:8080/",
          "height": 0
        },
        "id": "c0T80A7I2aXO",
        "outputId": "81e6d3e2-a443-46ee-f055-ee24b37b3db2"
      },
      "source": [
        "#Importação das 1ªs bibliotecas e acesso aos dados\n",
        "import pandas as pd\n",
        "import numpy as np\n",
        "import warnings\n",
        "warnings.filterwarnings(\"ignore\")\n",
        "\n",
        "dados = pd.read_csv('Ecommerce.csv', encoding='ISO-8859-1', parse_dates=['InvoiceDate'])\n",
        "dados.head(3)"
      ],
      "execution_count": 1,
      "outputs": [
        {
          "output_type": "execute_result",
          "data": {
            "text/html": [
              "<div>\n",
              "<style scoped>\n",
              "    .dataframe tbody tr th:only-of-type {\n",
              "        vertical-align: middle;\n",
              "    }\n",
              "\n",
              "    .dataframe tbody tr th {\n",
              "        vertical-align: top;\n",
              "    }\n",
              "\n",
              "    .dataframe thead th {\n",
              "        text-align: right;\n",
              "    }\n",
              "</style>\n",
              "<table border=\"1\" class=\"dataframe\">\n",
              "  <thead>\n",
              "    <tr style=\"text-align: right;\">\n",
              "      <th></th>\n",
              "      <th>InvoiceNo</th>\n",
              "      <th>StockCode</th>\n",
              "      <th>Description</th>\n",
              "      <th>Quantity</th>\n",
              "      <th>InvoiceDate</th>\n",
              "      <th>UnitPrice</th>\n",
              "      <th>CustomerID</th>\n",
              "      <th>Country</th>\n",
              "      <th>Unnamed: 8</th>\n",
              "    </tr>\n",
              "  </thead>\n",
              "  <tbody>\n",
              "    <tr>\n",
              "      <th>0</th>\n",
              "      <td>536365</td>\n",
              "      <td>85123A</td>\n",
              "      <td>WHITE HANGING HEART T-LIGHT HOLDER</td>\n",
              "      <td>6</td>\n",
              "      <td>2016-11-29</td>\n",
              "      <td>2.55</td>\n",
              "      <td>17850.0</td>\n",
              "      <td>United Kingdom</td>\n",
              "      <td>NaN</td>\n",
              "    </tr>\n",
              "    <tr>\n",
              "      <th>1</th>\n",
              "      <td>536365</td>\n",
              "      <td>71053</td>\n",
              "      <td>WHITE METAL LANTERN</td>\n",
              "      <td>6</td>\n",
              "      <td>2016-11-29</td>\n",
              "      <td>3.39</td>\n",
              "      <td>17850.0</td>\n",
              "      <td>United Kingdom</td>\n",
              "      <td>NaN</td>\n",
              "    </tr>\n",
              "    <tr>\n",
              "      <th>2</th>\n",
              "      <td>536365</td>\n",
              "      <td>84406B</td>\n",
              "      <td>CREAM CUPID HEARTS COAT HANGER</td>\n",
              "      <td>8</td>\n",
              "      <td>2016-11-29</td>\n",
              "      <td>2.75</td>\n",
              "      <td>17850.0</td>\n",
              "      <td>United Kingdom</td>\n",
              "      <td>NaN</td>\n",
              "    </tr>\n",
              "  </tbody>\n",
              "</table>\n",
              "</div>"
            ],
            "text/plain": [
              "  InvoiceNo StockCode  ...         Country  Unnamed: 8\n",
              "0    536365    85123A  ...  United Kingdom         NaN\n",
              "1    536365     71053  ...  United Kingdom         NaN\n",
              "2    536365    84406B  ...  United Kingdom         NaN\n",
              "\n",
              "[3 rows x 9 columns]"
            ]
          },
          "metadata": {
            "tags": []
          },
          "execution_count": 1
        }
      ]
    },
    {
      "cell_type": "code",
      "metadata": {
        "colab": {
          "base_uri": "https://localhost:8080/",
          "height": 0
        },
        "id": "DDxRFFTQ2aXQ",
        "outputId": "4993a41d-b484-4ee7-8e47-e5481ad70566"
      },
      "source": [
        "#Renomeando colunas\n",
        "nomes = ['IdVenda', 'CodItem', 'ITEM', 'QTDE', 'DataVenda', 'PrecoUnit', 'CLIENTE', 'País', 'desc',]         \n",
        "dados.columns = nomes\n",
        "dados.head(3)"
      ],
      "execution_count": 2,
      "outputs": [
        {
          "output_type": "execute_result",
          "data": {
            "text/html": [
              "<div>\n",
              "<style scoped>\n",
              "    .dataframe tbody tr th:only-of-type {\n",
              "        vertical-align: middle;\n",
              "    }\n",
              "\n",
              "    .dataframe tbody tr th {\n",
              "        vertical-align: top;\n",
              "    }\n",
              "\n",
              "    .dataframe thead th {\n",
              "        text-align: right;\n",
              "    }\n",
              "</style>\n",
              "<table border=\"1\" class=\"dataframe\">\n",
              "  <thead>\n",
              "    <tr style=\"text-align: right;\">\n",
              "      <th></th>\n",
              "      <th>IdVenda</th>\n",
              "      <th>CodItem</th>\n",
              "      <th>ITEM</th>\n",
              "      <th>QTDE</th>\n",
              "      <th>DataVenda</th>\n",
              "      <th>PrecoUnit</th>\n",
              "      <th>CLIENTE</th>\n",
              "      <th>País</th>\n",
              "      <th>desc</th>\n",
              "    </tr>\n",
              "  </thead>\n",
              "  <tbody>\n",
              "    <tr>\n",
              "      <th>0</th>\n",
              "      <td>536365</td>\n",
              "      <td>85123A</td>\n",
              "      <td>WHITE HANGING HEART T-LIGHT HOLDER</td>\n",
              "      <td>6</td>\n",
              "      <td>2016-11-29</td>\n",
              "      <td>2.55</td>\n",
              "      <td>17850.0</td>\n",
              "      <td>United Kingdom</td>\n",
              "      <td>NaN</td>\n",
              "    </tr>\n",
              "    <tr>\n",
              "      <th>1</th>\n",
              "      <td>536365</td>\n",
              "      <td>71053</td>\n",
              "      <td>WHITE METAL LANTERN</td>\n",
              "      <td>6</td>\n",
              "      <td>2016-11-29</td>\n",
              "      <td>3.39</td>\n",
              "      <td>17850.0</td>\n",
              "      <td>United Kingdom</td>\n",
              "      <td>NaN</td>\n",
              "    </tr>\n",
              "    <tr>\n",
              "      <th>2</th>\n",
              "      <td>536365</td>\n",
              "      <td>84406B</td>\n",
              "      <td>CREAM CUPID HEARTS COAT HANGER</td>\n",
              "      <td>8</td>\n",
              "      <td>2016-11-29</td>\n",
              "      <td>2.75</td>\n",
              "      <td>17850.0</td>\n",
              "      <td>United Kingdom</td>\n",
              "      <td>NaN</td>\n",
              "    </tr>\n",
              "  </tbody>\n",
              "</table>\n",
              "</div>"
            ],
            "text/plain": [
              "  IdVenda CodItem  ...            País  desc\n",
              "0  536365  85123A  ...  United Kingdom   NaN\n",
              "1  536365   71053  ...  United Kingdom   NaN\n",
              "2  536365  84406B  ...  United Kingdom   NaN\n",
              "\n",
              "[3 rows x 9 columns]"
            ]
          },
          "metadata": {
            "tags": []
          },
          "execution_count": 2
        }
      ]
    },
    {
      "cell_type": "code",
      "metadata": {
        "id": "JUZbW0fE2aXR"
      },
      "source": [
        "#Eliminando a coluna desnecessária\n",
        "dados.drop(columns='desc', inplace=True)"
      ],
      "execution_count": 3,
      "outputs": []
    },
    {
      "cell_type": "code",
      "metadata": {
        "colab": {
          "base_uri": "https://localhost:8080/",
          "height": 0
        },
        "id": "2ANORVEI2aXR",
        "outputId": "38396449-eab6-4887-c924-5bb690141cbd"
      },
      "source": [
        "#Desmenbrando a variável data\n",
        "dados['Ano'] = dados['DataVenda'].dt.year\n",
        "dados['Mes'] = dados['DataVenda'].dt.month\n",
        "dados['Dia'] = dados['DataVenda'].dt.day\n",
        "dados.head(3)"
      ],
      "execution_count": 4,
      "outputs": [
        {
          "output_type": "execute_result",
          "data": {
            "text/html": [
              "<div>\n",
              "<style scoped>\n",
              "    .dataframe tbody tr th:only-of-type {\n",
              "        vertical-align: middle;\n",
              "    }\n",
              "\n",
              "    .dataframe tbody tr th {\n",
              "        vertical-align: top;\n",
              "    }\n",
              "\n",
              "    .dataframe thead th {\n",
              "        text-align: right;\n",
              "    }\n",
              "</style>\n",
              "<table border=\"1\" class=\"dataframe\">\n",
              "  <thead>\n",
              "    <tr style=\"text-align: right;\">\n",
              "      <th></th>\n",
              "      <th>IdVenda</th>\n",
              "      <th>CodItem</th>\n",
              "      <th>ITEM</th>\n",
              "      <th>QTDE</th>\n",
              "      <th>DataVenda</th>\n",
              "      <th>PrecoUnit</th>\n",
              "      <th>CLIENTE</th>\n",
              "      <th>País</th>\n",
              "      <th>Ano</th>\n",
              "      <th>Mes</th>\n",
              "      <th>Dia</th>\n",
              "    </tr>\n",
              "  </thead>\n",
              "  <tbody>\n",
              "    <tr>\n",
              "      <th>0</th>\n",
              "      <td>536365</td>\n",
              "      <td>85123A</td>\n",
              "      <td>WHITE HANGING HEART T-LIGHT HOLDER</td>\n",
              "      <td>6</td>\n",
              "      <td>2016-11-29</td>\n",
              "      <td>2.55</td>\n",
              "      <td>17850.0</td>\n",
              "      <td>United Kingdom</td>\n",
              "      <td>2016</td>\n",
              "      <td>11</td>\n",
              "      <td>29</td>\n",
              "    </tr>\n",
              "    <tr>\n",
              "      <th>1</th>\n",
              "      <td>536365</td>\n",
              "      <td>71053</td>\n",
              "      <td>WHITE METAL LANTERN</td>\n",
              "      <td>6</td>\n",
              "      <td>2016-11-29</td>\n",
              "      <td>3.39</td>\n",
              "      <td>17850.0</td>\n",
              "      <td>United Kingdom</td>\n",
              "      <td>2016</td>\n",
              "      <td>11</td>\n",
              "      <td>29</td>\n",
              "    </tr>\n",
              "    <tr>\n",
              "      <th>2</th>\n",
              "      <td>536365</td>\n",
              "      <td>84406B</td>\n",
              "      <td>CREAM CUPID HEARTS COAT HANGER</td>\n",
              "      <td>8</td>\n",
              "      <td>2016-11-29</td>\n",
              "      <td>2.75</td>\n",
              "      <td>17850.0</td>\n",
              "      <td>United Kingdom</td>\n",
              "      <td>2016</td>\n",
              "      <td>11</td>\n",
              "      <td>29</td>\n",
              "    </tr>\n",
              "  </tbody>\n",
              "</table>\n",
              "</div>"
            ],
            "text/plain": [
              "  IdVenda CodItem                                ITEM  ...   Ano Mes  Dia\n",
              "0  536365  85123A  WHITE HANGING HEART T-LIGHT HOLDER  ...  2016  11   29\n",
              "1  536365   71053                 WHITE METAL LANTERN  ...  2016  11   29\n",
              "2  536365  84406B      CREAM CUPID HEARTS COAT HANGER  ...  2016  11   29\n",
              "\n",
              "[3 rows x 11 columns]"
            ]
          },
          "metadata": {
            "tags": []
          },
          "execution_count": 4
        }
      ]
    },
    {
      "cell_type": "code",
      "metadata": {
        "colab": {
          "base_uri": "https://localhost:8080/",
          "height": 0
        },
        "id": "InaDUkbp2aXR",
        "outputId": "4b738ab0-bae9-4354-98aa-85afbab2b3a4"
      },
      "source": [
        "#Criando a variável Total Vendido\n",
        "dados['TotalVenda'] = dados['QTDE'] * dados['PrecoUnit']\n",
        "dados.head(3)"
      ],
      "execution_count": 5,
      "outputs": [
        {
          "output_type": "execute_result",
          "data": {
            "text/html": [
              "<div>\n",
              "<style scoped>\n",
              "    .dataframe tbody tr th:only-of-type {\n",
              "        vertical-align: middle;\n",
              "    }\n",
              "\n",
              "    .dataframe tbody tr th {\n",
              "        vertical-align: top;\n",
              "    }\n",
              "\n",
              "    .dataframe thead th {\n",
              "        text-align: right;\n",
              "    }\n",
              "</style>\n",
              "<table border=\"1\" class=\"dataframe\">\n",
              "  <thead>\n",
              "    <tr style=\"text-align: right;\">\n",
              "      <th></th>\n",
              "      <th>IdVenda</th>\n",
              "      <th>CodItem</th>\n",
              "      <th>ITEM</th>\n",
              "      <th>QTDE</th>\n",
              "      <th>DataVenda</th>\n",
              "      <th>PrecoUnit</th>\n",
              "      <th>CLIENTE</th>\n",
              "      <th>País</th>\n",
              "      <th>Ano</th>\n",
              "      <th>Mes</th>\n",
              "      <th>Dia</th>\n",
              "      <th>TotalVenda</th>\n",
              "    </tr>\n",
              "  </thead>\n",
              "  <tbody>\n",
              "    <tr>\n",
              "      <th>0</th>\n",
              "      <td>536365</td>\n",
              "      <td>85123A</td>\n",
              "      <td>WHITE HANGING HEART T-LIGHT HOLDER</td>\n",
              "      <td>6</td>\n",
              "      <td>2016-11-29</td>\n",
              "      <td>2.55</td>\n",
              "      <td>17850.0</td>\n",
              "      <td>United Kingdom</td>\n",
              "      <td>2016</td>\n",
              "      <td>11</td>\n",
              "      <td>29</td>\n",
              "      <td>15.30</td>\n",
              "    </tr>\n",
              "    <tr>\n",
              "      <th>1</th>\n",
              "      <td>536365</td>\n",
              "      <td>71053</td>\n",
              "      <td>WHITE METAL LANTERN</td>\n",
              "      <td>6</td>\n",
              "      <td>2016-11-29</td>\n",
              "      <td>3.39</td>\n",
              "      <td>17850.0</td>\n",
              "      <td>United Kingdom</td>\n",
              "      <td>2016</td>\n",
              "      <td>11</td>\n",
              "      <td>29</td>\n",
              "      <td>20.34</td>\n",
              "    </tr>\n",
              "    <tr>\n",
              "      <th>2</th>\n",
              "      <td>536365</td>\n",
              "      <td>84406B</td>\n",
              "      <td>CREAM CUPID HEARTS COAT HANGER</td>\n",
              "      <td>8</td>\n",
              "      <td>2016-11-29</td>\n",
              "      <td>2.75</td>\n",
              "      <td>17850.0</td>\n",
              "      <td>United Kingdom</td>\n",
              "      <td>2016</td>\n",
              "      <td>11</td>\n",
              "      <td>29</td>\n",
              "      <td>22.00</td>\n",
              "    </tr>\n",
              "  </tbody>\n",
              "</table>\n",
              "</div>"
            ],
            "text/plain": [
              "  IdVenda CodItem                                ITEM  ...  Mes Dia  TotalVenda\n",
              "0  536365  85123A  WHITE HANGING HEART T-LIGHT HOLDER  ...   11  29       15.30\n",
              "1  536365   71053                 WHITE METAL LANTERN  ...   11  29       20.34\n",
              "2  536365  84406B      CREAM CUPID HEARTS COAT HANGER  ...   11  29       22.00\n",
              "\n",
              "[3 rows x 12 columns]"
            ]
          },
          "metadata": {
            "tags": []
          },
          "execution_count": 5
        }
      ]
    },
    {
      "cell_type": "code",
      "metadata": {
        "colab": {
          "base_uri": "https://localhost:8080/"
        },
        "id": "NXg8Moge2aXS",
        "outputId": "cd7e7111-9c8f-4246-eade-8dda85215ed8"
      },
      "source": [
        "dados.shape"
      ],
      "execution_count": 6,
      "outputs": [
        {
          "output_type": "execute_result",
          "data": {
            "text/plain": [
              "(541909, 12)"
            ]
          },
          "metadata": {
            "tags": []
          },
          "execution_count": 6
        }
      ]
    },
    {
      "cell_type": "code",
      "metadata": {
        "colab": {
          "base_uri": "https://localhost:8080/"
        },
        "id": "jomdRPXO2aXS",
        "outputId": "7ebf95b8-6d98-40db-ba55-830b0799cffa"
      },
      "source": [
        "#Verificando dados nulos\n",
        "dados.isnull().sum()"
      ],
      "execution_count": 7,
      "outputs": [
        {
          "output_type": "execute_result",
          "data": {
            "text/plain": [
              "IdVenda            0\n",
              "CodItem            0\n",
              "ITEM            1454\n",
              "QTDE               0\n",
              "DataVenda          0\n",
              "PrecoUnit          0\n",
              "CLIENTE       135080\n",
              "País               0\n",
              "Ano                0\n",
              "Mes                0\n",
              "Dia                0\n",
              "TotalVenda         0\n",
              "dtype: int64"
            ]
          },
          "metadata": {
            "tags": []
          },
          "execution_count": 7
        }
      ]
    },
    {
      "cell_type": "code",
      "metadata": {
        "colab": {
          "base_uri": "https://localhost:8080/"
        },
        "id": "hKeSLhAc2aXT",
        "outputId": "fa9ab787-8194-4e06-cb51-b3399924f233"
      },
      "source": [
        "# Eliminando linhas dos dados inválidos\n",
        "dados.dropna(axis = 0, inplace = True)\n",
        "dados.shape"
      ],
      "execution_count": 8,
      "outputs": [
        {
          "output_type": "execute_result",
          "data": {
            "text/plain": [
              "(406829, 12)"
            ]
          },
          "metadata": {
            "tags": []
          },
          "execution_count": 8
        }
      ]
    },
    {
      "cell_type": "code",
      "metadata": {
        "colab": {
          "base_uri": "https://localhost:8080/"
        },
        "id": "7sL3pYiY2aXT",
        "outputId": "76c4ca82-24a8-43e5-ff23-1e673808a240"
      },
      "source": [
        "# Linhas com erro na venda\n",
        "sem_vendas = dados[dados['TotalVenda'] <=0]#.index\n",
        "sem_vendas.shape"
      ],
      "execution_count": 9,
      "outputs": [
        {
          "output_type": "execute_result",
          "data": {
            "text/plain": [
              "(8945, 12)"
            ]
          },
          "metadata": {
            "tags": []
          },
          "execution_count": 9
        }
      ]
    },
    {
      "cell_type": "code",
      "metadata": {
        "id": "TYetqdKP2aXU"
      },
      "source": [
        "# Elimando essas linhas\n",
        "sem_vendas = dados[dados['TotalVenda'] <=0].index\n",
        "dados.drop(sem_vendas, inplace = True)"
      ],
      "execution_count": 10,
      "outputs": []
    },
    {
      "cell_type": "code",
      "metadata": {
        "colab": {
          "base_uri": "https://localhost:8080/"
        },
        "id": "GPFEVYtf2aXU",
        "outputId": "7403c6d1-cc73-438c-a64c-40d579cf48dd"
      },
      "source": [
        "# Linhas com erro na quantidade - eliminando\n",
        "erro_qt = dados[dados['QTDE'] <= 0].index\n",
        "dados.drop(erro_qt, inplace=True )\n",
        "dados.shape"
      ],
      "execution_count": 11,
      "outputs": [
        {
          "output_type": "execute_result",
          "data": {
            "text/plain": [
              "(397884, 12)"
            ]
          },
          "metadata": {
            "tags": []
          },
          "execution_count": 11
        }
      ]
    },
    {
      "cell_type": "markdown",
      "metadata": {
        "id": "jd9BbtfR2aXU"
      },
      "source": [
        "**Verificando outliers das variáveis numéricas**"
      ]
    },
    {
      "cell_type": "code",
      "metadata": {
        "colab": {
          "base_uri": "https://localhost:8080/",
          "height": 0
        },
        "id": "Xed5tgNu2aXV",
        "outputId": "330f9d72-e24e-4433-e31f-da717d76c409"
      },
      "source": [
        "import seaborn as sns\n",
        "sns.boxplot(dados['QTDE']).set_title('Outliers - QTDE');"
      ],
      "execution_count": 12,
      "outputs": [
        {
          "output_type": "display_data",
          "data": {
            "image/png": "[encoded data removed]",
            "text/plain": [
              "<Figure size 432x288 with 1 Axes>"
            ]
          },
          "metadata": {
            "tags": [],
            "needs_background": "light"
          }
        }
      ]
    },
    {
      "cell_type": "code",
      "metadata": {
        "colab": {
          "base_uri": "https://localhost:8080/",
          "height": 0
        },
        "id": "FWhE-z-X2aXV",
        "outputId": "ecdd62c2-ee61-4131-9996-781029bb5f56"
      },
      "source": [
        "dados[dados['QTDE'] > 2000]"
      ],
      "execution_count": 13,
      "outputs": [
        {
          "output_type": "execute_result",
          "data": {
            "text/html": [
              "<div>\n",
              "<style scoped>\n",
              "    .dataframe tbody tr th:only-of-type {\n",
              "        vertical-align: middle;\n",
              "    }\n",
              "\n",
              "    .dataframe tbody tr th {\n",
              "        vertical-align: top;\n",
              "    }\n",
              "\n",
              "    .dataframe thead th {\n",
              "        text-align: right;\n",
              "    }\n",
              "</style>\n",
              "<table border=\"1\" class=\"dataframe\">\n",
              "  <thead>\n",
              "    <tr style=\"text-align: right;\">\n",
              "      <th></th>\n",
              "      <th>IdVenda</th>\n",
              "      <th>CodItem</th>\n",
              "      <th>ITEM</th>\n",
              "      <th>QTDE</th>\n",
              "      <th>DataVenda</th>\n",
              "      <th>PrecoUnit</th>\n",
              "      <th>CLIENTE</th>\n",
              "      <th>País</th>\n",
              "      <th>Ano</th>\n",
              "      <th>Mes</th>\n",
              "      <th>Dia</th>\n",
              "      <th>TotalVenda</th>\n",
              "    </tr>\n",
              "  </thead>\n",
              "  <tbody>\n",
              "    <tr>\n",
              "      <th>4945</th>\n",
              "      <td>536830</td>\n",
              "      <td>84077</td>\n",
              "      <td>WORLD WAR 2 GLIDERS ASSTD DESIGNS</td>\n",
              "      <td>2880</td>\n",
              "      <td>2016-11-30</td>\n",
              "      <td>0.18</td>\n",
              "      <td>16754.0</td>\n",
              "      <td>United Kingdom</td>\n",
              "      <td>2016</td>\n",
              "      <td>11</td>\n",
              "      <td>30</td>\n",
              "      <td>518.40</td>\n",
              "    </tr>\n",
              "    <tr>\n",
              "      <th>32671</th>\n",
              "      <td>539101</td>\n",
              "      <td>22693</td>\n",
              "      <td>GROW A FLYTRAP OR SUNFLOWER IN TIN</td>\n",
              "      <td>2400</td>\n",
              "      <td>2016-12-14</td>\n",
              "      <td>0.94</td>\n",
              "      <td>16029.0</td>\n",
              "      <td>United Kingdom</td>\n",
              "      <td>2016</td>\n",
              "      <td>12</td>\n",
              "      <td>14</td>\n",
              "      <td>2256.00</td>\n",
              "    </tr>\n",
              "    <tr>\n",
              "      <th>52711</th>\n",
              "      <td>540815</td>\n",
              "      <td>21108</td>\n",
              "      <td>FAIRY CAKE FLANNEL ASSORTED COLOUR</td>\n",
              "      <td>3114</td>\n",
              "      <td>2017-01-09</td>\n",
              "      <td>2.10</td>\n",
              "      <td>15749.0</td>\n",
              "      <td>United Kingdom</td>\n",
              "      <td>2017</td>\n",
              "      <td>1</td>\n",
              "      <td>9</td>\n",
              "      <td>6539.40</td>\n",
              "    </tr>\n",
              "    <tr>\n",
              "      <th>61619</th>\n",
              "      <td>541431</td>\n",
              "      <td>23166</td>\n",
              "      <td>MEDIUM CERAMIC TOP STORAGE JAR</td>\n",
              "      <td>74215</td>\n",
              "      <td>2017-01-16</td>\n",
              "      <td>1.04</td>\n",
              "      <td>12346.0</td>\n",
              "      <td>United Kingdom</td>\n",
              "      <td>2017</td>\n",
              "      <td>1</td>\n",
              "      <td>16</td>\n",
              "      <td>77183.60</td>\n",
              "    </tr>\n",
              "    <tr>\n",
              "      <th>80742</th>\n",
              "      <td>543057</td>\n",
              "      <td>84077</td>\n",
              "      <td>WORLD WAR 2 GLIDERS ASSTD DESIGNS</td>\n",
              "      <td>2592</td>\n",
              "      <td>2017-02-01</td>\n",
              "      <td>0.21</td>\n",
              "      <td>16333.0</td>\n",
              "      <td>United Kingdom</td>\n",
              "      <td>2017</td>\n",
              "      <td>2</td>\n",
              "      <td>1</td>\n",
              "      <td>544.32</td>\n",
              "    </tr>\n",
              "    <tr>\n",
              "      <th>87631</th>\n",
              "      <td>543669</td>\n",
              "      <td>22693</td>\n",
              "      <td>GROW A FLYTRAP OR SUNFLOWER IN TIN</td>\n",
              "      <td>2400</td>\n",
              "      <td>2017-02-09</td>\n",
              "      <td>0.94</td>\n",
              "      <td>16029.0</td>\n",
              "      <td>United Kingdom</td>\n",
              "      <td>2017</td>\n",
              "      <td>2</td>\n",
              "      <td>9</td>\n",
              "      <td>2256.00</td>\n",
              "    </tr>\n",
              "    <tr>\n",
              "      <th>91772</th>\n",
              "      <td>544152</td>\n",
              "      <td>18007</td>\n",
              "      <td>ESSENTIAL BALM 3.5g TIN IN ENVELOPE</td>\n",
              "      <td>2400</td>\n",
              "      <td>2017-02-14</td>\n",
              "      <td>0.06</td>\n",
              "      <td>14609.0</td>\n",
              "      <td>United Kingdom</td>\n",
              "      <td>2017</td>\n",
              "      <td>2</td>\n",
              "      <td>14</td>\n",
              "      <td>144.00</td>\n",
              "    </tr>\n",
              "    <tr>\n",
              "      <th>97432</th>\n",
              "      <td>544612</td>\n",
              "      <td>22053</td>\n",
              "      <td>EMPIRE DESIGN ROSETTE</td>\n",
              "      <td>3906</td>\n",
              "      <td>2017-02-20</td>\n",
              "      <td>0.82</td>\n",
              "      <td>18087.0</td>\n",
              "      <td>United Kingdom</td>\n",
              "      <td>2017</td>\n",
              "      <td>2</td>\n",
              "      <td>20</td>\n",
              "      <td>3202.92</td>\n",
              "    </tr>\n",
              "    <tr>\n",
              "      <th>125282</th>\n",
              "      <td>547037</td>\n",
              "      <td>21967</td>\n",
              "      <td>PACK OF 12 SKULL TISSUES</td>\n",
              "      <td>2160</td>\n",
              "      <td>2017-03-18</td>\n",
              "      <td>0.25</td>\n",
              "      <td>14101.0</td>\n",
              "      <td>United Kingdom</td>\n",
              "      <td>2017</td>\n",
              "      <td>3</td>\n",
              "      <td>18</td>\n",
              "      <td>540.00</td>\n",
              "    </tr>\n",
              "    <tr>\n",
              "      <th>160546</th>\n",
              "      <td>550461</td>\n",
              "      <td>21108</td>\n",
              "      <td>FAIRY CAKE FLANNEL ASSORTED COLOUR</td>\n",
              "      <td>3114</td>\n",
              "      <td>2017-04-16</td>\n",
              "      <td>2.10</td>\n",
              "      <td>15749.0</td>\n",
              "      <td>United Kingdom</td>\n",
              "      <td>2017</td>\n",
              "      <td>4</td>\n",
              "      <td>16</td>\n",
              "      <td>6539.40</td>\n",
              "    </tr>\n",
              "    <tr>\n",
              "      <th>201149</th>\n",
              "      <td>554272</td>\n",
              "      <td>21977</td>\n",
              "      <td>PACK OF 60 PINK PAISLEY CAKE CASES</td>\n",
              "      <td>2700</td>\n",
              "      <td>2017-05-21</td>\n",
              "      <td>0.42</td>\n",
              "      <td>12901.0</td>\n",
              "      <td>United Kingdom</td>\n",
              "      <td>2017</td>\n",
              "      <td>5</td>\n",
              "      <td>21</td>\n",
              "      <td>1134.00</td>\n",
              "    </tr>\n",
              "    <tr>\n",
              "      <th>206121</th>\n",
              "      <td>554868</td>\n",
              "      <td>22197</td>\n",
              "      <td>SMALL POPCORN HOLDER</td>\n",
              "      <td>4300</td>\n",
              "      <td>2017-05-25</td>\n",
              "      <td>0.72</td>\n",
              "      <td>13135.0</td>\n",
              "      <td>United Kingdom</td>\n",
              "      <td>2017</td>\n",
              "      <td>5</td>\n",
              "      <td>25</td>\n",
              "      <td>3096.00</td>\n",
              "    </tr>\n",
              "    <tr>\n",
              "      <th>270885</th>\n",
              "      <td>560599</td>\n",
              "      <td>18007</td>\n",
              "      <td>ESSENTIAL BALM 3.5g TIN IN ENVELOPE</td>\n",
              "      <td>3186</td>\n",
              "      <td>2017-07-17</td>\n",
              "      <td>0.06</td>\n",
              "      <td>14609.0</td>\n",
              "      <td>United Kingdom</td>\n",
              "      <td>2017</td>\n",
              "      <td>7</td>\n",
              "      <td>17</td>\n",
              "      <td>191.16</td>\n",
              "    </tr>\n",
              "    <tr>\n",
              "      <th>291249</th>\n",
              "      <td>562439</td>\n",
              "      <td>84879</td>\n",
              "      <td>ASSORTED COLOUR BIRD ORNAMENT</td>\n",
              "      <td>2880</td>\n",
              "      <td>2017-08-02</td>\n",
              "      <td>1.45</td>\n",
              "      <td>12931.0</td>\n",
              "      <td>United Kingdom</td>\n",
              "      <td>2017</td>\n",
              "      <td>8</td>\n",
              "      <td>2</td>\n",
              "      <td>4176.00</td>\n",
              "    </tr>\n",
              "    <tr>\n",
              "      <th>421601</th>\n",
              "      <td>573003</td>\n",
              "      <td>23084</td>\n",
              "      <td>RABBIT NIGHT LIGHT</td>\n",
              "      <td>2400</td>\n",
              "      <td>2017-10-25</td>\n",
              "      <td>2.08</td>\n",
              "      <td>14646.0</td>\n",
              "      <td>Netherlands</td>\n",
              "      <td>2017</td>\n",
              "      <td>10</td>\n",
              "      <td>25</td>\n",
              "      <td>4992.00</td>\n",
              "    </tr>\n",
              "    <tr>\n",
              "      <th>421632</th>\n",
              "      <td>573008</td>\n",
              "      <td>84077</td>\n",
              "      <td>WORLD WAR 2 GLIDERS ASSTD DESIGNS</td>\n",
              "      <td>4800</td>\n",
              "      <td>2017-10-25</td>\n",
              "      <td>0.21</td>\n",
              "      <td>12901.0</td>\n",
              "      <td>United Kingdom</td>\n",
              "      <td>2017</td>\n",
              "      <td>10</td>\n",
              "      <td>25</td>\n",
              "      <td>1008.00</td>\n",
              "    </tr>\n",
              "    <tr>\n",
              "      <th>433788</th>\n",
              "      <td>573995</td>\n",
              "      <td>16014</td>\n",
              "      <td>SMALL CHINESE STYLE SCISSOR</td>\n",
              "      <td>3000</td>\n",
              "      <td>2017-10-31</td>\n",
              "      <td>0.32</td>\n",
              "      <td>16308.0</td>\n",
              "      <td>United Kingdom</td>\n",
              "      <td>2017</td>\n",
              "      <td>10</td>\n",
              "      <td>31</td>\n",
              "      <td>960.00</td>\n",
              "    </tr>\n",
              "    <tr>\n",
              "      <th>437480</th>\n",
              "      <td>574294</td>\n",
              "      <td>21915</td>\n",
              "      <td>RED  HARMONICA IN BOX</td>\n",
              "      <td>2100</td>\n",
              "      <td>2017-11-01</td>\n",
              "      <td>1.06</td>\n",
              "      <td>16333.0</td>\n",
              "      <td>United Kingdom</td>\n",
              "      <td>2017</td>\n",
              "      <td>11</td>\n",
              "      <td>1</td>\n",
              "      <td>2226.00</td>\n",
              "    </tr>\n",
              "    <tr>\n",
              "      <th>511421</th>\n",
              "      <td>579498</td>\n",
              "      <td>23084</td>\n",
              "      <td>RABBIT NIGHT LIGHT</td>\n",
              "      <td>2040</td>\n",
              "      <td>2017-11-27</td>\n",
              "      <td>1.79</td>\n",
              "      <td>12798.0</td>\n",
              "      <td>Japan</td>\n",
              "      <td>2017</td>\n",
              "      <td>11</td>\n",
              "      <td>27</td>\n",
              "      <td>3651.60</td>\n",
              "    </tr>\n",
              "    <tr>\n",
              "      <th>540421</th>\n",
              "      <td>581483</td>\n",
              "      <td>23843</td>\n",
              "      <td>PAPER CRAFT , LITTLE BIRDIE</td>\n",
              "      <td>80995</td>\n",
              "      <td>2017-12-07</td>\n",
              "      <td>2.08</td>\n",
              "      <td>16446.0</td>\n",
              "      <td>United Kingdom</td>\n",
              "      <td>2017</td>\n",
              "      <td>12</td>\n",
              "      <td>7</td>\n",
              "      <td>168469.60</td>\n",
              "    </tr>\n",
              "  </tbody>\n",
              "</table>\n",
              "</div>"
            ],
            "text/plain": [
              "       IdVenda CodItem  ... Dia  TotalVenda\n",
              "4945    536830   84077  ...  30      518.40\n",
              "32671   539101   22693  ...  14     2256.00\n",
              "52711   540815   21108  ...   9     6539.40\n",
              "61619   541431   23166  ...  16    77183.60\n",
              "80742   543057   84077  ...   1      544.32\n",
              "87631   543669   22693  ...   9     2256.00\n",
              "91772   544152   18007  ...  14      144.00\n",
              "97432   544612   22053  ...  20     3202.92\n",
              "125282  547037   21967  ...  18      540.00\n",
              "160546  550461   21108  ...  16     6539.40\n",
              "201149  554272   21977  ...  21     1134.00\n",
              "206121  554868   22197  ...  25     3096.00\n",
              "270885  560599   18007  ...  17      191.16\n",
              "291249  562439   84879  ...   2     4176.00\n",
              "421601  573003   23084  ...  25     4992.00\n",
              "421632  573008   84077  ...  25     1008.00\n",
              "433788  573995   16014  ...  31      960.00\n",
              "437480  574294   21915  ...   1     2226.00\n",
              "511421  579498   23084  ...  27     3651.60\n",
              "540421  581483   23843  ...   7   168469.60\n",
              "\n",
              "[20 rows x 12 columns]"
            ]
          },
          "metadata": {
            "tags": []
          },
          "execution_count": 13
        }
      ]
    },
    {
      "cell_type": "code",
      "metadata": {
        "colab": {
          "base_uri": "https://localhost:8080/",
          "height": 0
        },
        "id": "_k8crxcy2aXW",
        "outputId": "81f5569d-f281-4f82-af9c-3c1d82b803b0"
      },
      "source": [
        "# Eliminando os valores discrepantes\n",
        "outliers = dados[(dados['QTDE'] > 2000)].index\n",
        "dados.drop(outliers, inplace = True)\n",
        "sns.boxplot(dados['QTDE']).set_title('QTDE');"
      ],
      "execution_count": 14,
      "outputs": [
        {
          "output_type": "display_data",
          "data": {
            "image/png": "[encoded data removed]",
            "text/plain": [
              "<Figure size 432x288 with 1 Axes>"
            ]
          },
          "metadata": {
            "tags": [],
            "needs_background": "light"
          }
        }
      ]
    },
    {
      "cell_type": "code",
      "metadata": {
        "colab": {
          "base_uri": "https://localhost:8080/",
          "height": 0
        },
        "id": "lKF3eDFJ2aXW",
        "outputId": "5e1b09dc-69de-496d-e6a0-6818ebba4ddb"
      },
      "source": [
        "sns.boxplot(dados['TotalVenda']).set_title('Outliers - TotalVenda');"
      ],
      "execution_count": 15,
      "outputs": [
        {
          "output_type": "display_data",
          "data": {
            "image/png": "[encoded data removed]",
            "text/plain": [
              "<Figure size 432x288 with 1 Axes>"
            ]
          },
          "metadata": {
            "tags": [],
            "needs_background": "light"
          }
        }
      ]
    },
    {
      "cell_type": "code",
      "metadata": {
        "colab": {
          "base_uri": "https://localhost:8080/",
          "height": 0
        },
        "id": "Jur5iBRk2aXW",
        "outputId": "bc72fcbd-ea8d-480d-dcff-756b8559e5a9"
      },
      "source": [
        "dados[dados['TotalVenda'] > 4000]"
      ],
      "execution_count": 16,
      "outputs": [
        {
          "output_type": "execute_result",
          "data": {
            "text/html": [
              "<div>\n",
              "<style scoped>\n",
              "    .dataframe tbody tr th:only-of-type {\n",
              "        vertical-align: middle;\n",
              "    }\n",
              "\n",
              "    .dataframe tbody tr th {\n",
              "        vertical-align: top;\n",
              "    }\n",
              "\n",
              "    .dataframe thead th {\n",
              "        text-align: right;\n",
              "    }\n",
              "</style>\n",
              "<table border=\"1\" class=\"dataframe\">\n",
              "  <thead>\n",
              "    <tr style=\"text-align: right;\">\n",
              "      <th></th>\n",
              "      <th>IdVenda</th>\n",
              "      <th>CodItem</th>\n",
              "      <th>ITEM</th>\n",
              "      <th>QTDE</th>\n",
              "      <th>DataVenda</th>\n",
              "      <th>PrecoUnit</th>\n",
              "      <th>CLIENTE</th>\n",
              "      <th>País</th>\n",
              "      <th>Ano</th>\n",
              "      <th>Mes</th>\n",
              "      <th>Dia</th>\n",
              "      <th>TotalVenda</th>\n",
              "    </tr>\n",
              "  </thead>\n",
              "  <tbody>\n",
              "    <tr>\n",
              "      <th>52134</th>\n",
              "      <td>540689</td>\n",
              "      <td>22470</td>\n",
              "      <td>HEART OF WICKER LARGE</td>\n",
              "      <td>1284</td>\n",
              "      <td>2017-01-09</td>\n",
              "      <td>3.21</td>\n",
              "      <td>17450.0</td>\n",
              "      <td>United Kingdom</td>\n",
              "      <td>2017</td>\n",
              "      <td>1</td>\n",
              "      <td>9</td>\n",
              "      <td>4121.64</td>\n",
              "    </tr>\n",
              "    <tr>\n",
              "      <th>52709</th>\n",
              "      <td>540815</td>\n",
              "      <td>85123A</td>\n",
              "      <td>WHITE HANGING HEART T-LIGHT HOLDER</td>\n",
              "      <td>1930</td>\n",
              "      <td>2017-01-09</td>\n",
              "      <td>2.55</td>\n",
              "      <td>15749.0</td>\n",
              "      <td>United Kingdom</td>\n",
              "      <td>2017</td>\n",
              "      <td>1</td>\n",
              "      <td>9</td>\n",
              "      <td>4921.50</td>\n",
              "    </tr>\n",
              "    <tr>\n",
              "      <th>52772</th>\n",
              "      <td>540818</td>\n",
              "      <td>48185</td>\n",
              "      <td>DOORMAT FAIRY CAKE</td>\n",
              "      <td>670</td>\n",
              "      <td>2017-01-09</td>\n",
              "      <td>6.75</td>\n",
              "      <td>15749.0</td>\n",
              "      <td>United Kingdom</td>\n",
              "      <td>2017</td>\n",
              "      <td>1</td>\n",
              "      <td>9</td>\n",
              "      <td>4522.50</td>\n",
              "    </tr>\n",
              "    <tr>\n",
              "      <th>160542</th>\n",
              "      <td>550461</td>\n",
              "      <td>85123A</td>\n",
              "      <td>WHITE HANGING HEART T-LIGHT HOLDER</td>\n",
              "      <td>1930</td>\n",
              "      <td>2017-04-16</td>\n",
              "      <td>2.40</td>\n",
              "      <td>15749.0</td>\n",
              "      <td>United Kingdom</td>\n",
              "      <td>2017</td>\n",
              "      <td>4</td>\n",
              "      <td>16</td>\n",
              "      <td>4632.00</td>\n",
              "    </tr>\n",
              "    <tr>\n",
              "      <th>160544</th>\n",
              "      <td>550461</td>\n",
              "      <td>48185</td>\n",
              "      <td>DOORMAT FAIRY CAKE</td>\n",
              "      <td>670</td>\n",
              "      <td>2017-04-16</td>\n",
              "      <td>6.35</td>\n",
              "      <td>15749.0</td>\n",
              "      <td>United Kingdom</td>\n",
              "      <td>2017</td>\n",
              "      <td>4</td>\n",
              "      <td>16</td>\n",
              "      <td>4254.50</td>\n",
              "    </tr>\n",
              "    <tr>\n",
              "      <th>173382</th>\n",
              "      <td>551697</td>\n",
              "      <td>POST</td>\n",
              "      <td>POSTAGE</td>\n",
              "      <td>1</td>\n",
              "      <td>2017-05-01</td>\n",
              "      <td>8142.75</td>\n",
              "      <td>16029.0</td>\n",
              "      <td>United Kingdom</td>\n",
              "      <td>2017</td>\n",
              "      <td>5</td>\n",
              "      <td>1</td>\n",
              "      <td>8142.75</td>\n",
              "    </tr>\n",
              "    <tr>\n",
              "      <th>222680</th>\n",
              "      <td>556444</td>\n",
              "      <td>22502</td>\n",
              "      <td>PICNIC BASKET WICKER 60 PIECES</td>\n",
              "      <td>60</td>\n",
              "      <td>2017-06-08</td>\n",
              "      <td>649.50</td>\n",
              "      <td>15098.0</td>\n",
              "      <td>United Kingdom</td>\n",
              "      <td>2017</td>\n",
              "      <td>6</td>\n",
              "      <td>8</td>\n",
              "      <td>38970.00</td>\n",
              "    </tr>\n",
              "    <tr>\n",
              "      <th>244419</th>\n",
              "      <td>558526</td>\n",
              "      <td>23173</td>\n",
              "      <td>REGENCY TEAPOT ROSES</td>\n",
              "      <td>540</td>\n",
              "      <td>2017-06-28</td>\n",
              "      <td>8.15</td>\n",
              "      <td>17949.0</td>\n",
              "      <td>United Kingdom</td>\n",
              "      <td>2017</td>\n",
              "      <td>6</td>\n",
              "      <td>28</td>\n",
              "      <td>4401.00</td>\n",
              "    </tr>\n",
              "    <tr>\n",
              "      <th>348325</th>\n",
              "      <td>567423</td>\n",
              "      <td>23243</td>\n",
              "      <td>SET OF TEA COFFEE SUGAR TINS PANTRY</td>\n",
              "      <td>1412</td>\n",
              "      <td>2017-09-18</td>\n",
              "      <td>5.06</td>\n",
              "      <td>17450.0</td>\n",
              "      <td>United Kingdom</td>\n",
              "      <td>2017</td>\n",
              "      <td>9</td>\n",
              "      <td>18</td>\n",
              "      <td>7144.72</td>\n",
              "    </tr>\n",
              "    <tr>\n",
              "      <th>422351</th>\n",
              "      <td>573077</td>\n",
              "      <td>M</td>\n",
              "      <td>Manual</td>\n",
              "      <td>1</td>\n",
              "      <td>2017-10-25</td>\n",
              "      <td>4161.06</td>\n",
              "      <td>12536.0</td>\n",
              "      <td>France</td>\n",
              "      <td>2017</td>\n",
              "      <td>10</td>\n",
              "      <td>25</td>\n",
              "      <td>4161.06</td>\n",
              "    </tr>\n",
              "    <tr>\n",
              "      <th>422376</th>\n",
              "      <td>573080</td>\n",
              "      <td>M</td>\n",
              "      <td>Manual</td>\n",
              "      <td>1</td>\n",
              "      <td>2017-10-25</td>\n",
              "      <td>4161.06</td>\n",
              "      <td>12536.0</td>\n",
              "      <td>France</td>\n",
              "      <td>2017</td>\n",
              "      <td>10</td>\n",
              "      <td>25</td>\n",
              "      <td>4161.06</td>\n",
              "    </tr>\n",
              "  </tbody>\n",
              "</table>\n",
              "</div>"
            ],
            "text/plain": [
              "       IdVenda CodItem  ... Dia  TotalVenda\n",
              "52134   540689   22470  ...   9     4121.64\n",
              "52709   540815  85123A  ...   9     4921.50\n",
              "52772   540818   48185  ...   9     4522.50\n",
              "160542  550461  85123A  ...  16     4632.00\n",
              "160544  550461   48185  ...  16     4254.50\n",
              "173382  551697    POST  ...   1     8142.75\n",
              "222680  556444   22502  ...   8    38970.00\n",
              "244419  558526   23173  ...  28     4401.00\n",
              "348325  567423   23243  ...  18     7144.72\n",
              "422351  573077       M  ...  25     4161.06\n",
              "422376  573080       M  ...  25     4161.06\n",
              "\n",
              "[11 rows x 12 columns]"
            ]
          },
          "metadata": {
            "tags": []
          },
          "execution_count": 16
        }
      ]
    },
    {
      "cell_type": "code",
      "metadata": {
        "colab": {
          "base_uri": "https://localhost:8080/",
          "height": 0
        },
        "id": "wmauJ10w2aXX",
        "outputId": "ceddb1f7-f2a3-412e-96bf-5311a05dc19d"
      },
      "source": [
        "# Eliminando os valores discrepantes\n",
        "outliers = dados[(dados['TotalVenda'] > 4000)].index\n",
        "dados.drop(outliers, inplace = True)\n",
        "sns.boxplot(dados['TotalVenda']).set_title('TotalVenda');"
      ],
      "execution_count": 17,
      "outputs": [
        {
          "output_type": "display_data",
          "data": {
            "image/png": "[encoded data removed]",
            "text/plain": [
              "<Figure size 432x288 with 1 Axes>"
            ]
          },
          "metadata": {
            "tags": [],
            "needs_background": "light"
          }
        }
      ]
    },
    {
      "cell_type": "code",
      "metadata": {
        "colab": {
          "base_uri": "https://localhost:8080/"
        },
        "id": "-XjPNoOY2aXX",
        "outputId": "92568371-c64c-43d2-f2cf-8cae5356d7df"
      },
      "source": [
        "# Transformando variáveis objeto em categoricas para reduzir o uso da memória\n",
        "categoricas = ['IdVenda', 'CodItem', 'ITEM', 'País']\n",
        "for c in categoricas:\n",
        "    dados[c] = dados[c].astype('category')\n",
        "dados.info()"
      ],
      "execution_count": 18,
      "outputs": [
        {
          "output_type": "stream",
          "text": [
            "<class 'pandas.core.frame.DataFrame'>\n",
            "Int64Index: 397853 entries, 0 to 541908\n",
            "Data columns (total 12 columns):\n",
            " #   Column      Non-Null Count   Dtype         \n",
            "---  ------      --------------   -----         \n",
            " 0   IdVenda     397853 non-null  category      \n",
            " 1   CodItem     397853 non-null  category      \n",
            " 2   ITEM        397853 non-null  category      \n",
            " 3   QTDE        397853 non-null  int64         \n",
            " 4   DataVenda   397853 non-null  datetime64[ns]\n",
            " 5   PrecoUnit   397853 non-null  float64       \n",
            " 6   CLIENTE     397853 non-null  float64       \n",
            " 7   País        397853 non-null  category      \n",
            " 8   Ano         397853 non-null  int64         \n",
            " 9   Mes         397853 non-null  int64         \n",
            " 10  Dia         397853 non-null  int64         \n",
            " 11  TotalVenda  397853 non-null  float64       \n",
            "dtypes: category(4), datetime64[ns](1), float64(3), int64(4)\n",
            "memory usage: 31.1 MB\n"
          ],
          "name": "stdout"
        }
      ]
    },
    {
      "cell_type": "code",
      "metadata": {
        "colab": {
          "base_uri": "https://localhost:8080/",
          "height": 0
        },
        "id": "H7liJVvU2aXX",
        "outputId": "8886f2e4-f273-4e40-b421-5d24af4e35d3"
      },
      "source": [
        "dados.describe()"
      ],
      "execution_count": 19,
      "outputs": [
        {
          "output_type": "execute_result",
          "data": {
            "text/html": [
              "<div>\n",
              "<style scoped>\n",
              "    .dataframe tbody tr th:only-of-type {\n",
              "        vertical-align: middle;\n",
              "    }\n",
              "\n",
              "    .dataframe tbody tr th {\n",
              "        vertical-align: top;\n",
              "    }\n",
              "\n",
              "    .dataframe thead th {\n",
              "        text-align: right;\n",
              "    }\n",
              "</style>\n",
              "<table border=\"1\" class=\"dataframe\">\n",
              "  <thead>\n",
              "    <tr style=\"text-align: right;\">\n",
              "      <th></th>\n",
              "      <th>QTDE</th>\n",
              "      <th>PrecoUnit</th>\n",
              "      <th>CLIENTE</th>\n",
              "      <th>Ano</th>\n",
              "      <th>Mes</th>\n",
              "      <th>Dia</th>\n",
              "      <th>TotalVenda</th>\n",
              "    </tr>\n",
              "  </thead>\n",
              "  <tbody>\n",
              "    <tr>\n",
              "      <th>count</th>\n",
              "      <td>397853.000000</td>\n",
              "      <td>397853.000000</td>\n",
              "      <td>397853.00000</td>\n",
              "      <td>397853.000000</td>\n",
              "      <td>397853.000000</td>\n",
              "      <td>397853.000000</td>\n",
              "      <td>397853.000000</td>\n",
              "    </tr>\n",
              "    <tr>\n",
              "      <th>mean</th>\n",
              "      <td>12.446132</td>\n",
              "      <td>3.073580</td>\n",
              "      <td>15294.43172</td>\n",
              "      <td>2016.934260</td>\n",
              "      <td>7.547929</td>\n",
              "      <td>15.004766</td>\n",
              "      <td>21.445978</td>\n",
              "    </tr>\n",
              "    <tr>\n",
              "      <th>std</th>\n",
              "      <td>37.477737</td>\n",
              "      <td>15.292622</td>\n",
              "      <td>1713.14352</td>\n",
              "      <td>0.247828</td>\n",
              "      <td>3.407192</td>\n",
              "      <td>8.796117</td>\n",
              "      <td>65.626095</td>\n",
              "    </tr>\n",
              "    <tr>\n",
              "      <th>min</th>\n",
              "      <td>1.000000</td>\n",
              "      <td>0.001000</td>\n",
              "      <td>12347.00000</td>\n",
              "      <td>2016.000000</td>\n",
              "      <td>1.000000</td>\n",
              "      <td>1.000000</td>\n",
              "      <td>0.001000</td>\n",
              "    </tr>\n",
              "    <tr>\n",
              "      <th>25%</th>\n",
              "      <td>2.000000</td>\n",
              "      <td>1.250000</td>\n",
              "      <td>13969.00000</td>\n",
              "      <td>2017.000000</td>\n",
              "      <td>5.000000</td>\n",
              "      <td>7.000000</td>\n",
              "      <td>4.680000</td>\n",
              "    </tr>\n",
              "    <tr>\n",
              "      <th>50%</th>\n",
              "      <td>6.000000</td>\n",
              "      <td>1.950000</td>\n",
              "      <td>15159.00000</td>\n",
              "      <td>2017.000000</td>\n",
              "      <td>8.000000</td>\n",
              "      <td>15.000000</td>\n",
              "      <td>11.800000</td>\n",
              "    </tr>\n",
              "    <tr>\n",
              "      <th>75%</th>\n",
              "      <td>12.000000</td>\n",
              "      <td>3.750000</td>\n",
              "      <td>16795.00000</td>\n",
              "      <td>2017.000000</td>\n",
              "      <td>11.000000</td>\n",
              "      <td>22.000000</td>\n",
              "      <td>19.800000</td>\n",
              "    </tr>\n",
              "    <tr>\n",
              "      <th>max</th>\n",
              "      <td>2000.000000</td>\n",
              "      <td>3949.320000</td>\n",
              "      <td>18287.00000</td>\n",
              "      <td>2017.000000</td>\n",
              "      <td>12.000000</td>\n",
              "      <td>31.000000</td>\n",
              "      <td>3949.320000</td>\n",
              "    </tr>\n",
              "  </tbody>\n",
              "</table>\n",
              "</div>"
            ],
            "text/plain": [
              "                QTDE      PrecoUnit  ...            Dia     TotalVenda\n",
              "count  397853.000000  397853.000000  ...  397853.000000  397853.000000\n",
              "mean       12.446132       3.073580  ...      15.004766      21.445978\n",
              "std        37.477737      15.292622  ...       8.796117      65.626095\n",
              "min         1.000000       0.001000  ...       1.000000       0.001000\n",
              "25%         2.000000       1.250000  ...       7.000000       4.680000\n",
              "50%         6.000000       1.950000  ...      15.000000      11.800000\n",
              "75%        12.000000       3.750000  ...      22.000000      19.800000\n",
              "max      2000.000000    3949.320000  ...      31.000000    3949.320000\n",
              "\n",
              "[8 rows x 7 columns]"
            ]
          },
          "metadata": {
            "tags": []
          },
          "execution_count": 19
        }
      ]
    },
    {
      "cell_type": "code",
      "metadata": {
        "colab": {
          "base_uri": "https://localhost:8080/",
          "height": 0
        },
        "id": "n-Ut9RRY2aXY",
        "outputId": "3e3ff1d8-4fa2-473e-8617-a6046a983d5c"
      },
      "source": [
        "# Dados Finalizados para uso\n",
        "dados.head(5)"
      ],
      "execution_count": 20,
      "outputs": [
        {
          "output_type": "execute_result",
          "data": {
            "text/html": [
              "<div>\n",
              "<style scoped>\n",
              "    .dataframe tbody tr th:only-of-type {\n",
              "        vertical-align: middle;\n",
              "    }\n",
              "\n",
              "    .dataframe tbody tr th {\n",
              "        vertical-align: top;\n",
              "    }\n",
              "\n",
              "    .dataframe thead th {\n",
              "        text-align: right;\n",
              "    }\n",
              "</style>\n",
              "<table border=\"1\" class=\"dataframe\">\n",
              "  <thead>\n",
              "    <tr style=\"text-align: right;\">\n",
              "      <th></th>\n",
              "      <th>IdVenda</th>\n",
              "      <th>CodItem</th>\n",
              "      <th>ITEM</th>\n",
              "      <th>QTDE</th>\n",
              "      <th>DataVenda</th>\n",
              "      <th>PrecoUnit</th>\n",
              "      <th>CLIENTE</th>\n",
              "      <th>País</th>\n",
              "      <th>Ano</th>\n",
              "      <th>Mes</th>\n",
              "      <th>Dia</th>\n",
              "      <th>TotalVenda</th>\n",
              "    </tr>\n",
              "  </thead>\n",
              "  <tbody>\n",
              "    <tr>\n",
              "      <th>0</th>\n",
              "      <td>536365</td>\n",
              "      <td>85123A</td>\n",
              "      <td>WHITE HANGING HEART T-LIGHT HOLDER</td>\n",
              "      <td>6</td>\n",
              "      <td>2016-11-29</td>\n",
              "      <td>2.55</td>\n",
              "      <td>17850.0</td>\n",
              "      <td>United Kingdom</td>\n",
              "      <td>2016</td>\n",
              "      <td>11</td>\n",
              "      <td>29</td>\n",
              "      <td>15.30</td>\n",
              "    </tr>\n",
              "    <tr>\n",
              "      <th>1</th>\n",
              "      <td>536365</td>\n",
              "      <td>71053</td>\n",
              "      <td>WHITE METAL LANTERN</td>\n",
              "      <td>6</td>\n",
              "      <td>2016-11-29</td>\n",
              "      <td>3.39</td>\n",
              "      <td>17850.0</td>\n",
              "      <td>United Kingdom</td>\n",
              "      <td>2016</td>\n",
              "      <td>11</td>\n",
              "      <td>29</td>\n",
              "      <td>20.34</td>\n",
              "    </tr>\n",
              "    <tr>\n",
              "      <th>2</th>\n",
              "      <td>536365</td>\n",
              "      <td>84406B</td>\n",
              "      <td>CREAM CUPID HEARTS COAT HANGER</td>\n",
              "      <td>8</td>\n",
              "      <td>2016-11-29</td>\n",
              "      <td>2.75</td>\n",
              "      <td>17850.0</td>\n",
              "      <td>United Kingdom</td>\n",
              "      <td>2016</td>\n",
              "      <td>11</td>\n",
              "      <td>29</td>\n",
              "      <td>22.00</td>\n",
              "    </tr>\n",
              "    <tr>\n",
              "      <th>3</th>\n",
              "      <td>536365</td>\n",
              "      <td>84029G</td>\n",
              "      <td>KNITTED UNION FLAG HOT WATER BOTTLE</td>\n",
              "      <td>6</td>\n",
              "      <td>2016-11-29</td>\n",
              "      <td>3.39</td>\n",
              "      <td>17850.0</td>\n",
              "      <td>United Kingdom</td>\n",
              "      <td>2016</td>\n",
              "      <td>11</td>\n",
              "      <td>29</td>\n",
              "      <td>20.34</td>\n",
              "    </tr>\n",
              "    <tr>\n",
              "      <th>4</th>\n",
              "      <td>536365</td>\n",
              "      <td>84029E</td>\n",
              "      <td>RED WOOLLY HOTTIE WHITE HEART.</td>\n",
              "      <td>6</td>\n",
              "      <td>2016-11-29</td>\n",
              "      <td>3.39</td>\n",
              "      <td>17850.0</td>\n",
              "      <td>United Kingdom</td>\n",
              "      <td>2016</td>\n",
              "      <td>11</td>\n",
              "      <td>29</td>\n",
              "      <td>20.34</td>\n",
              "    </tr>\n",
              "  </tbody>\n",
              "</table>\n",
              "</div>"
            ],
            "text/plain": [
              "  IdVenda CodItem                                 ITEM  ...  Mes Dia  TotalVenda\n",
              "0  536365  85123A   WHITE HANGING HEART T-LIGHT HOLDER  ...   11  29       15.30\n",
              "1  536365   71053                  WHITE METAL LANTERN  ...   11  29       20.34\n",
              "2  536365  84406B       CREAM CUPID HEARTS COAT HANGER  ...   11  29       22.00\n",
              "3  536365  84029G  KNITTED UNION FLAG HOT WATER BOTTLE  ...   11  29       20.34\n",
              "4  536365  84029E       RED WOOLLY HOTTIE WHITE HEART.  ...   11  29       20.34\n",
              "\n",
              "[5 rows x 12 columns]"
            ]
          },
          "metadata": {
            "tags": []
          },
          "execution_count": 20
        }
      ]
    },
    {
      "cell_type": "markdown",
      "metadata": {
        "id": "MzHpVXnx2aXY"
      },
      "source": [
        "### Exploração dos Dados\n",
        "* Levante Hipóteses sobre as características de um cliente Insider. Valide ou refute essas hipóteses através dos dados."
      ]
    },
    {
      "cell_type": "code",
      "metadata": {
        "id": "TNE5tVcj2aXY"
      },
      "source": [
        "import matplotlib.pyplot as plt\n",
        "import seaborn as sns"
      ],
      "execution_count": null,
      "outputs": []
    },
    {
      "cell_type": "code",
      "metadata": {
        "id": "CGMB6jXl2aXY"
      },
      "source": [
        "import sweetviz as sv\n",
        "eda = sv.analyze(dados)\n",
        "eda.show_html()"
      ],
      "execution_count": null,
      "outputs": []
    },
    {
      "cell_type": "code",
      "metadata": {
        "id": "3vKy1P6b2aXZ",
        "outputId": "8c5b72dc-175e-419d-9660-1210fac8d435"
      },
      "source": [
        "dados['Ano'].value_counts()"
      ],
      "execution_count": null,
      "outputs": [
        {
          "output_type": "execute_result",
          "data": {
            "text/plain": [
              "2017    371698\n",
              "2016     26155\n",
              "Name: Ano, dtype: int64"
            ]
          },
          "metadata": {
            "tags": []
          },
          "execution_count": 23
        }
      ]
    },
    {
      "cell_type": "code",
      "metadata": {
        "id": "UALRIco42aXZ",
        "outputId": "464f8c82-031d-4a28-ed5e-aced9356226c"
      },
      "source": [
        "dados['Ano'].value_counts().plot(kind='pie');"
      ],
      "execution_count": null,
      "outputs": [
        {
          "output_type": "display_data",
          "data": {
            "text/plain": [
              "<Figure size 432x288 with 1 Axes>"
            ],
            "image/png": "[encoded data removed]"
          },
          "metadata": {
            "tags": []
          }
        }
      ]
    },
    {
      "cell_type": "code",
      "metadata": {
        "id": "V2hDSqlj2aXZ"
      },
      "source": [
        "# Separando vendas por ano\n",
        "vendas_16 = dados[dados['Ano'] == 2016]\n",
        "vendas_17 = dados[dados['Ano'] == 2017]"
      ],
      "execution_count": null,
      "outputs": []
    },
    {
      "cell_type": "code",
      "metadata": {
        "id": "-TOMQQK72aXa",
        "outputId": "43be86c8-9938-4fe4-cbf8-25987f4bd196"
      },
      "source": [
        "vendas_16.describe()"
      ],
      "execution_count": null,
      "outputs": [
        {
          "output_type": "execute_result",
          "data": {
            "text/plain": [
              "               QTDE     PrecoUnit       CLIENTE      Ano           Mes  \\\n",
              "count  26155.000000  26155.000000  26155.000000  26155.0  26155.000000   \n",
              "mean      11.737144      3.132651  15529.116880   2016.0     11.849321   \n",
              "std       39.726228      5.220632   1740.384018      0.0      0.357742   \n",
              "min        1.000000      0.070000  12347.000000   2016.0     11.000000   \n",
              "25%        2.000000      1.250000  14161.000000   2016.0     12.000000   \n",
              "50%        4.000000      2.100000  15570.000000   2016.0     12.000000   \n",
              "75%       12.000000      3.750000  17179.000000   2016.0     12.000000   \n",
              "max     1824.000000    295.000000  18269.000000   2016.0     12.000000   \n",
              "\n",
              "                Dia    TotalVenda  \n",
              "count  26155.000000  26155.000000  \n",
              "mean      12.032040     21.790843  \n",
              "std        8.745956     75.327363  \n",
              "min        1.000000      0.140000  \n",
              "25%        5.000000      4.200000  \n",
              "50%       10.000000     10.500000  \n",
              "75%       15.000000     19.800000  \n",
              "max       30.000000   3828.000000  "
            ],
            "text/html": [
              "<div>\n",
              "<style scoped>\n",
              "    .dataframe tbody tr th:only-of-type {\n",
              "        vertical-align: middle;\n",
              "    }\n",
              "\n",
              "    .dataframe tbody tr th {\n",
              "        vertical-align: top;\n",
              "    }\n",
              "\n",
              "    .dataframe thead th {\n",
              "        text-align: right;\n",
              "    }\n",
              "</style>\n",
              "<table border=\"1\" class=\"dataframe\">\n",
              "  <thead>\n",
              "    <tr style=\"text-align: right;\">\n",
              "      <th></th>\n",
              "      <th>QTDE</th>\n",
              "      <th>PrecoUnit</th>\n",
              "      <th>CLIENTE</th>\n",
              "      <th>Ano</th>\n",
              "      <th>Mes</th>\n",
              "      <th>Dia</th>\n",
              "      <th>TotalVenda</th>\n",
              "    </tr>\n",
              "  </thead>\n",
              "  <tbody>\n",
              "    <tr>\n",
              "      <th>count</th>\n",
              "      <td>26155.000000</td>\n",
              "      <td>26155.000000</td>\n",
              "      <td>26155.000000</td>\n",
              "      <td>26155.0</td>\n",
              "      <td>26155.000000</td>\n",
              "      <td>26155.000000</td>\n",
              "      <td>26155.000000</td>\n",
              "    </tr>\n",
              "    <tr>\n",
              "      <th>mean</th>\n",
              "      <td>11.737144</td>\n",
              "      <td>3.132651</td>\n",
              "      <td>15529.116880</td>\n",
              "      <td>2016.0</td>\n",
              "      <td>11.849321</td>\n",
              "      <td>12.032040</td>\n",
              "      <td>21.790843</td>\n",
              "    </tr>\n",
              "    <tr>\n",
              "      <th>std</th>\n",
              "      <td>39.726228</td>\n",
              "      <td>5.220632</td>\n",
              "      <td>1740.384018</td>\n",
              "      <td>0.0</td>\n",
              "      <td>0.357742</td>\n",
              "      <td>8.745956</td>\n",
              "      <td>75.327363</td>\n",
              "    </tr>\n",
              "    <tr>\n",
              "      <th>min</th>\n",
              "      <td>1.000000</td>\n",
              "      <td>0.070000</td>\n",
              "      <td>12347.000000</td>\n",
              "      <td>2016.0</td>\n",
              "      <td>11.000000</td>\n",
              "      <td>1.000000</td>\n",
              "      <td>0.140000</td>\n",
              "    </tr>\n",
              "    <tr>\n",
              "      <th>25%</th>\n",
              "      <td>2.000000</td>\n",
              "      <td>1.250000</td>\n",
              "      <td>14161.000000</td>\n",
              "      <td>2016.0</td>\n",
              "      <td>12.000000</td>\n",
              "      <td>5.000000</td>\n",
              "      <td>4.200000</td>\n",
              "    </tr>\n",
              "    <tr>\n",
              "      <th>50%</th>\n",
              "      <td>4.000000</td>\n",
              "      <td>2.100000</td>\n",
              "      <td>15570.000000</td>\n",
              "      <td>2016.0</td>\n",
              "      <td>12.000000</td>\n",
              "      <td>10.000000</td>\n",
              "      <td>10.500000</td>\n",
              "    </tr>\n",
              "    <tr>\n",
              "      <th>75%</th>\n",
              "      <td>12.000000</td>\n",
              "      <td>3.750000</td>\n",
              "      <td>17179.000000</td>\n",
              "      <td>2016.0</td>\n",
              "      <td>12.000000</td>\n",
              "      <td>15.000000</td>\n",
              "      <td>19.800000</td>\n",
              "    </tr>\n",
              "    <tr>\n",
              "      <th>max</th>\n",
              "      <td>1824.000000</td>\n",
              "      <td>295.000000</td>\n",
              "      <td>18269.000000</td>\n",
              "      <td>2016.0</td>\n",
              "      <td>12.000000</td>\n",
              "      <td>30.000000</td>\n",
              "      <td>3828.000000</td>\n",
              "    </tr>\n",
              "  </tbody>\n",
              "</table>\n",
              "</div>"
            ]
          },
          "metadata": {
            "tags": []
          },
          "execution_count": 45
        }
      ]
    },
    {
      "cell_type": "code",
      "metadata": {
        "id": "MFuPI-8u2aXa",
        "outputId": "7d872bb3-2a9f-41b3-8f61-4abaf30c75fc"
      },
      "source": [
        "sns.boxplot(vendas_16['QTDE']).set_title('Outliers - QTDE');"
      ],
      "execution_count": null,
      "outputs": [
        {
          "output_type": "display_data",
          "data": {
            "text/plain": [
              "<Figure size 432x288 with 1 Axes>"
            ],
            "image/png": "[encoded data removed]"
          },
          "metadata": {
            "tags": [],
            "needs_background": "light"
          }
        }
      ]
    },
    {
      "cell_type": "code",
      "metadata": {
        "id": "0XnKc9Ty2aXa",
        "outputId": "b250535b-4c5d-4178-bf37-f334802a0ed2"
      },
      "source": [
        "# Vendas por mês em 2016\n",
        "sns.countplot(vendas_16['Mes'], color='teal');"
      ],
      "execution_count": null,
      "outputs": [
        {
          "output_type": "display_data",
          "data": {
            "text/plain": [
              "<Figure size 432x288 with 1 Axes>"
            ],
            "image/png": "[encoded data removed]"
          },
          "metadata": {
            "tags": [],
            "needs_background": "light"
          }
        }
      ]
    },
    {
      "cell_type": "code",
      "metadata": {
        "id": "15Zw9Cl32aXa",
        "outputId": "bc9f8a4e-54e4-411f-e233-4b4edb6a7d0d"
      },
      "source": [
        "fat_16 = vendas_16.groupby('Mes')['TotalVenda'].sum()\n",
        "plt.figure(figsize=(8,4))\n",
        "fat_16.sort_index().plot(kind='barh', color='teal')\n",
        "plt.title('Faturamento por mes - 2016')\n",
        "plt.xlabel('Total de Vendas')\n",
        "plt.ylabel('meses')\n",
        "plt.show()"
      ],
      "execution_count": null,
      "outputs": [
        {
          "output_type": "display_data",
          "data": {
            "text/plain": [
              "<Figure size 576x288 with 1 Axes>"
            ],
            "image/png": "[encoded data removed]"
          },
          "metadata": {
            "tags": [],
            "needs_background": "light"
          }
        }
      ]
    },
    {
      "cell_type": "code",
      "metadata": {
        "id": "kJhrtV3A2aXb",
        "outputId": "e2d7c38a-6f94-4066-8638-43d7061ccdd9"
      },
      "source": [
        "#Tirando o primeiro país do gráfico\n",
        "paises = vendas_16['País'].value_counts()[1:]\n",
        "fig, ax = plt.subplots(figsize = (12,6))\n",
        "\n",
        "ax.bar(paises.index, paises, color = 'salmon')\n",
        "ax.set_xticklabels(paises.index, rotation = 90)\n",
        "ax.set_title('Nº clientes por país exceto UK - 2016')\n",
        "ax.grid(color='gray')\n",
        "plt.show();"
      ],
      "execution_count": null,
      "outputs": [
        {
          "output_type": "display_data",
          "data": {
            "text/plain": [
              "<Figure size 864x432 with 1 Axes>"
            ],
            "image/png": "[encoded data removed]"
          },
          "metadata": {
            "tags": [],
            "needs_background": "light"
          }
        }
      ]
    },
    {
      "cell_type": "code",
      "metadata": {
        "id": "H9OPBvSl2aXb",
        "outputId": "b8e2cd3d-25ed-4ebf-8a65-eb098def310a"
      },
      "source": [
        "top_10_clientes = vendas_16.groupby('CLIENTE')['QTDE'].sum()\n",
        "top_customers = top_10_clientes.sort_values(ascending=False).head(10)\n",
        "plt.figure(figsize=(8,4))\n",
        "top_customers.plot(kind='bar', color='salmon')\n",
        "plt.title('Top 10 Clientes 2016 - vol. compras')\n",
        "plt.xlabel('CLIENTE')\n",
        "plt.ylabel('QTDE')\n",
        "plt.show()"
      ],
      "execution_count": null,
      "outputs": [
        {
          "output_type": "display_data",
          "data": {
            "text/plain": [
              "<Figure size 576x288 with 1 Axes>"
            ],
            "image/png": "[encoded data removed]"
          },
          "metadata": {
            "tags": [],
            "needs_background": "light"
          }
        }
      ]
    },
    {
      "cell_type": "code",
      "metadata": {
        "id": "rQ_LxAL62aXc",
        "outputId": "9dfbca44-d5db-4594-cdef-95e235f93ce0"
      },
      "source": [
        "vendas_17.describe()"
      ],
      "execution_count": null,
      "outputs": [
        {
          "output_type": "execute_result",
          "data": {
            "text/plain": [
              "                QTDE      PrecoUnit        CLIENTE       Ano            Mes  \\\n",
              "count  371698.000000  371698.000000  371698.000000  371698.0  371698.000000   \n",
              "mean       12.496021       3.069423   15277.917802    2017.0       7.245256   \n",
              "std        37.313966      15.760788    1710.000232       0.0       3.320136   \n",
              "min         1.000000       0.001000   12347.000000    2017.0       1.000000   \n",
              "25%         2.000000       1.250000   13941.000000    2017.0       5.000000   \n",
              "50%         6.000000       1.850000   15127.000000    2017.0       8.000000   \n",
              "75%        12.000000       3.750000   16775.000000    2017.0      10.000000   \n",
              "max      2000.000000    3949.320000   18287.000000    2017.0      12.000000   \n",
              "\n",
              "                 Dia     TotalVenda  \n",
              "count  371698.000000  371698.000000  \n",
              "mean       15.213945      21.421711  \n",
              "std         8.761747      64.888902  \n",
              "min         1.000000       0.001000  \n",
              "25%         7.000000       4.950000  \n",
              "50%        15.000000      11.900000  \n",
              "75%        23.000000      19.800000  \n",
              "max        31.000000    3949.320000  "
            ],
            "text/html": [
              "<div>\n",
              "<style scoped>\n",
              "    .dataframe tbody tr th:only-of-type {\n",
              "        vertical-align: middle;\n",
              "    }\n",
              "\n",
              "    .dataframe tbody tr th {\n",
              "        vertical-align: top;\n",
              "    }\n",
              "\n",
              "    .dataframe thead th {\n",
              "        text-align: right;\n",
              "    }\n",
              "</style>\n",
              "<table border=\"1\" class=\"dataframe\">\n",
              "  <thead>\n",
              "    <tr style=\"text-align: right;\">\n",
              "      <th></th>\n",
              "      <th>QTDE</th>\n",
              "      <th>PrecoUnit</th>\n",
              "      <th>CLIENTE</th>\n",
              "      <th>Ano</th>\n",
              "      <th>Mes</th>\n",
              "      <th>Dia</th>\n",
              "      <th>TotalVenda</th>\n",
              "    </tr>\n",
              "  </thead>\n",
              "  <tbody>\n",
              "    <tr>\n",
              "      <th>count</th>\n",
              "      <td>371698.000000</td>\n",
              "      <td>371698.000000</td>\n",
              "      <td>371698.000000</td>\n",
              "      <td>371698.0</td>\n",
              "      <td>371698.000000</td>\n",
              "      <td>371698.000000</td>\n",
              "      <td>371698.000000</td>\n",
              "    </tr>\n",
              "    <tr>\n",
              "      <th>mean</th>\n",
              "      <td>12.496021</td>\n",
              "      <td>3.069423</td>\n",
              "      <td>15277.917802</td>\n",
              "      <td>2017.0</td>\n",
              "      <td>7.245256</td>\n",
              "      <td>15.213945</td>\n",
              "      <td>21.421711</td>\n",
              "    </tr>\n",
              "    <tr>\n",
              "      <th>std</th>\n",
              "      <td>37.313966</td>\n",
              "      <td>15.760788</td>\n",
              "      <td>1710.000232</td>\n",
              "      <td>0.0</td>\n",
              "      <td>3.320136</td>\n",
              "      <td>8.761747</td>\n",
              "      <td>64.888902</td>\n",
              "    </tr>\n",
              "    <tr>\n",
              "      <th>min</th>\n",
              "      <td>1.000000</td>\n",
              "      <td>0.001000</td>\n",
              "      <td>12347.000000</td>\n",
              "      <td>2017.0</td>\n",
              "      <td>1.000000</td>\n",
              "      <td>1.000000</td>\n",
              "      <td>0.001000</td>\n",
              "    </tr>\n",
              "    <tr>\n",
              "      <th>25%</th>\n",
              "      <td>2.000000</td>\n",
              "      <td>1.250000</td>\n",
              "      <td>13941.000000</td>\n",
              "      <td>2017.0</td>\n",
              "      <td>5.000000</td>\n",
              "      <td>7.000000</td>\n",
              "      <td>4.950000</td>\n",
              "    </tr>\n",
              "    <tr>\n",
              "      <th>50%</th>\n",
              "      <td>6.000000</td>\n",
              "      <td>1.850000</td>\n",
              "      <td>15127.000000</td>\n",
              "      <td>2017.0</td>\n",
              "      <td>8.000000</td>\n",
              "      <td>15.000000</td>\n",
              "      <td>11.900000</td>\n",
              "    </tr>\n",
              "    <tr>\n",
              "      <th>75%</th>\n",
              "      <td>12.000000</td>\n",
              "      <td>3.750000</td>\n",
              "      <td>16775.000000</td>\n",
              "      <td>2017.0</td>\n",
              "      <td>10.000000</td>\n",
              "      <td>23.000000</td>\n",
              "      <td>19.800000</td>\n",
              "    </tr>\n",
              "    <tr>\n",
              "      <th>max</th>\n",
              "      <td>2000.000000</td>\n",
              "      <td>3949.320000</td>\n",
              "      <td>18287.000000</td>\n",
              "      <td>2017.0</td>\n",
              "      <td>12.000000</td>\n",
              "      <td>31.000000</td>\n",
              "      <td>3949.320000</td>\n",
              "    </tr>\n",
              "  </tbody>\n",
              "</table>\n",
              "</div>"
            ]
          },
          "metadata": {
            "tags": []
          },
          "execution_count": 54
        }
      ]
    },
    {
      "cell_type": "code",
      "metadata": {
        "id": "UY3Ao1Ch2aXc",
        "outputId": "b4ea8d5a-3646-4832-f9b8-3adee07c93cd"
      },
      "source": [
        "sns.boxplot(vendas_17['QTDE']).set_title('Outliers - QTDE');"
      ],
      "execution_count": null,
      "outputs": [
        {
          "output_type": "display_data",
          "data": {
            "text/plain": [
              "<Figure size 432x288 with 1 Axes>"
            ],
            "image/png": "[encoded data removed]"
          },
          "metadata": {
            "tags": [],
            "needs_background": "light"
          }
        }
      ]
    },
    {
      "cell_type": "code",
      "metadata": {
        "id": "sCxykWAV2aXd",
        "outputId": "07dac007-d525-48a4-9fa1-de1208cbd791"
      },
      "source": [
        "# Vendas por mês em 2017\n",
        "sns.countplot(vendas_17['Mes'], color='teal');"
      ],
      "execution_count": null,
      "outputs": [
        {
          "output_type": "display_data",
          "data": {
            "text/plain": [
              "<Figure size 432x288 with 1 Axes>"
            ],
            "image/png": "[encoded data removed]"
          },
          "metadata": {
            "tags": [],
            "needs_background": "light"
          }
        }
      ]
    },
    {
      "cell_type": "code",
      "metadata": {
        "id": "92PBz2vc2aXd",
        "outputId": "dc9340ad-b900-40c6-8fca-20c7f815a3fe"
      },
      "source": [
        "fat_17 = vendas_17.groupby('Mes')['TotalVenda'].sum()\n",
        "plt.figure(figsize=(8,4))\n",
        "fat_17.sort_index().plot(kind='bar')\n",
        "plt.title('Faturamento por mes - 2017')\n",
        "plt.xlabel('Mes')\n",
        "plt.ylabel('valor de venda')\n",
        "plt.show()"
      ],
      "execution_count": null,
      "outputs": [
        {
          "output_type": "display_data",
          "data": {
            "text/plain": [
              "<Figure size 576x288 with 1 Axes>"
            ],
            "image/png": "[encoded data removed]"
          },
          "metadata": {
            "tags": [],
            "needs_background": "light"
          }
        }
      ]
    },
    {
      "cell_type": "code",
      "metadata": {
        "id": "eLhjSFFP2aXe",
        "outputId": "23d94ba1-983e-4f0d-9e6e-493775feb753"
      },
      "source": [
        "#Tirando o primeiro país do gráfico\n",
        "paises = vendas_17['País'].value_counts()[1:]\n",
        "fig, ax = plt.subplots(figsize = (12,6))\n",
        "\n",
        "ax.bar(paises.index, paises, color = 'salmon')\n",
        "ax.set_xticklabels(paises.index, rotation = 90)\n",
        "ax.set_title('Nº clientes por país exceto UK - 2017')\n",
        "ax.grid(color='gray')\n",
        "plt.show();"
      ],
      "execution_count": null,
      "outputs": [
        {
          "output_type": "display_data",
          "data": {
            "text/plain": [
              "<Figure size 864x432 with 1 Axes>"
            ],
            "image/png": "[encoded data removed]"
          },
          "metadata": {
            "tags": [],
            "needs_background": "light"
          }
        }
      ]
    },
    {
      "cell_type": "code",
      "metadata": {
        "id": "TxySScGY2aXe",
        "outputId": "45c00f39-5f48-46a3-d27c-1e3fe9c32847"
      },
      "source": [
        "top_10_clientes = vendas_17.groupby('CLIENTE')['QTDE'].sum()\n",
        "top_customers = top_10_clientes.sort_values(ascending=False).head(10)\n",
        "plt.figure(figsize=(8,4))\n",
        "top_customers.plot(kind='bar', color='salmon')\n",
        "plt.title('Top 10 Clientes 2017 - vol. compras')\n",
        "plt.xlabel('CLIENTE')\n",
        "plt.ylabel('QTDE')\n",
        "plt.show()"
      ],
      "execution_count": null,
      "outputs": [
        {
          "output_type": "display_data",
          "data": {
            "text/plain": [
              "<Figure size 576x288 with 1 Axes>"
            ],
            "image/png": "[encoded data removed]"
          },
          "metadata": {
            "tags": [],
            "needs_background": "light"
          }
        }
      ]
    },
    {
      "cell_type": "code",
      "metadata": {
        "id": "hgCKQvUU2aXe",
        "outputId": "dc4b03d5-44b0-476a-aa2e-5e32253d4ebc"
      },
      "source": [
        "comparacao_mensal = dados[(dados['Mes'] == 11) | (dados['Mes'] == 12)]\n",
        "compar = comparacao_mensal.groupby(['Ano', 'Mes'])['TotalVenda'].sum()\n",
        "compar = comparison.reset_index()\n",
        "plt.figure(figsize=(8,4))\n",
        "sns.barplot(data=compar, x='Mes', y='TotalVenda', hue='Ano')\n",
        "plt.title('Comparação vendas - meses')\n",
        "plt.show()"
      ],
      "execution_count": null,
      "outputs": [
        {
          "output_type": "display_data",
          "data": {
            "text/plain": [
              "<Figure size 576x288 with 1 Axes>"
            ],
            "image/png": "[encoded data removed]"
          },
          "metadata": {
            "tags": [],
            "needs_background": "light"
          }
        }
      ]
    },
    {
      "cell_type": "code",
      "metadata": {
        "id": "SOESulcq2aXf",
        "outputId": "9d9d8f56-bd92-4379-c1c7-166b88ed4e4c"
      },
      "source": [
        "dados.columns"
      ],
      "execution_count": null,
      "outputs": [
        {
          "output_type": "execute_result",
          "data": {
            "text/plain": [
              "Index(['IdVenda', 'CodItem', 'ITEM', 'QTDE', 'DataVenda', 'PrecoUnit',\n",
              "       'CLIENTE', 'País', 'Ano', 'Mes', 'Dia', 'TotalVenda'],\n",
              "      dtype='object')"
            ]
          },
          "metadata": {
            "tags": []
          },
          "execution_count": 31
        }
      ]
    },
    {
      "cell_type": "code",
      "metadata": {
        "id": "8b_SAIk22aXf",
        "outputId": "512520eb-98b1-4c70-fae8-9e1d199b6011"
      },
      "source": [
        "top_10_clientes = dados.groupby('CLIENTE')['QTDE'].sum()\n",
        "top_customers = top_10_clientes.sort_values(ascending=False).head(10)\n",
        "\n",
        "plt.figure(figsize=(8,4))\n",
        "top_customers.plot(kind='bar', color='salmon')\n",
        "plt.title('Top 10 Clientes - vol. compras')\n",
        "plt.xlabel('CLIENTE')\n",
        "plt.ylabel('QTDE')\n",
        "\n",
        "plt.show()"
      ],
      "execution_count": null,
      "outputs": [
        {
          "output_type": "display_data",
          "data": {
            "text/plain": [
              "<Figure size 576x288 with 1 Axes>"
            ],
            "image/png": "[encoded data removed]"
          },
          "metadata": {
            "tags": [],
            "needs_background": "light"
          }
        }
      ]
    },
    {
      "cell_type": "code",
      "metadata": {
        "id": "JmgyGBnT2aXf",
        "outputId": "65d5f987-9bc5-48e1-8bf3-4cef2f91d7c1"
      },
      "source": [
        "# QTDE de clientes por país\n",
        "dados['País'].value_counts().head(10)"
      ],
      "execution_count": null,
      "outputs": [
        {
          "output_type": "execute_result",
          "data": {
            "text/plain": [
              "United Kingdom    354294\n",
              "Germany             9040\n",
              "France              8339\n",
              "EIRE                7236\n",
              "Spain               2484\n",
              "Netherlands         2358\n",
              "Belgium             2031\n",
              "Switzerland         1841\n",
              "Portugal            1462\n",
              "Australia           1182\n",
              "Name: País, dtype: int64"
            ]
          },
          "metadata": {
            "tags": []
          },
          "execution_count": 33
        }
      ]
    },
    {
      "cell_type": "code",
      "metadata": {
        "id": "VpvTevGJ2aXf",
        "outputId": "eed1f257-9c48-4d14-a2a9-0b4d1c4ae320"
      },
      "source": [
        "#Tirando o primeiro país do gráfico\n",
        "paises = dados['País'].value_counts()[1:]\n",
        "fig, ax = plt.subplots(figsize = (12,6))\n",
        "\n",
        "ax.bar(paises.index, paises, color = 'salmon')\n",
        "ax.set_xticklabels(paises.index, rotation = 90)\n",
        "ax.set_title('Nº clientes por país exceto UK')\n",
        "ax.grid(color='gray')\n",
        "plt.show();"
      ],
      "execution_count": null,
      "outputs": [
        {
          "output_type": "display_data",
          "data": {
            "text/plain": [
              "<Figure size 864x432 with 1 Axes>"
            ],
            "image/png": "[encoded data removed]"
          },
          "metadata": {
            "tags": [],
            "needs_background": "light"
          }
        }
      ]
    },
    {
      "cell_type": "markdown",
      "metadata": {
        "id": "6EA1FSOL2aXg"
      },
      "source": [
        "### Modelo de Clusterização"
      ]
    },
    {
      "cell_type": "code",
      "metadata": {
        "id": "7TCBE7q02aXg"
      },
      "source": [
        "# Importando bilbiotecas\n",
        "from sklearn.preprocessing import StandardScaler\n",
        "from sklearn.cluster import KMeans\n",
        "import plotly.express as px"
      ],
      "execution_count": null,
      "outputs": []
    },
    {
      "cell_type": "code",
      "metadata": {
        "id": "ZhKS-TMK2aXg",
        "outputId": "0fd1bc50-5f83-48dc-f883-51b15519810c"
      },
      "source": [
        "# Criando um dataset agrupando as vendas por cliente e algumas estatisticas\n",
        "var = dados.groupby('CLIENTE').agg({'TotalVenda': ['mean','sum','max']})\n",
        "clientes = pd.DataFrame(var)\n",
        "clientes.columns = ['Mean', 'Sum','Max']\n",
        "clientes.head(6)"
      ],
      "execution_count": null,
      "outputs": [
        {
          "output_type": "execute_result",
          "data": {
            "text/plain": [
              "              Mean      Sum    Max\n",
              "CLIENTE                           \n",
              "12347.0  23.681319  4310.00  249.6\n",
              "12348.0  57.975484  1797.24  240.0\n",
              "12349.0  24.076027  1757.55  300.0\n",
              "12350.0  19.670588   334.40   40.0\n",
              "12352.0  29.482824  2506.04  376.5\n",
              "12353.0  22.250000    89.00   39.8"
            ],
            "text/html": [
              "<div>\n",
              "<style scoped>\n",
              "    .dataframe tbody tr th:only-of-type {\n",
              "        vertical-align: middle;\n",
              "    }\n",
              "\n",
              "    .dataframe tbody tr th {\n",
              "        vertical-align: top;\n",
              "    }\n",
              "\n",
              "    .dataframe thead th {\n",
              "        text-align: right;\n",
              "    }\n",
              "</style>\n",
              "<table border=\"1\" class=\"dataframe\">\n",
              "  <thead>\n",
              "    <tr style=\"text-align: right;\">\n",
              "      <th></th>\n",
              "      <th>Mean</th>\n",
              "      <th>Sum</th>\n",
              "      <th>Max</th>\n",
              "    </tr>\n",
              "    <tr>\n",
              "      <th>CLIENTE</th>\n",
              "      <th></th>\n",
              "      <th></th>\n",
              "      <th></th>\n",
              "    </tr>\n",
              "  </thead>\n",
              "  <tbody>\n",
              "    <tr>\n",
              "      <th>12347.0</th>\n",
              "      <td>23.681319</td>\n",
              "      <td>4310.00</td>\n",
              "      <td>249.6</td>\n",
              "    </tr>\n",
              "    <tr>\n",
              "      <th>12348.0</th>\n",
              "      <td>57.975484</td>\n",
              "      <td>1797.24</td>\n",
              "      <td>240.0</td>\n",
              "    </tr>\n",
              "    <tr>\n",
              "      <th>12349.0</th>\n",
              "      <td>24.076027</td>\n",
              "      <td>1757.55</td>\n",
              "      <td>300.0</td>\n",
              "    </tr>\n",
              "    <tr>\n",
              "      <th>12350.0</th>\n",
              "      <td>19.670588</td>\n",
              "      <td>334.40</td>\n",
              "      <td>40.0</td>\n",
              "    </tr>\n",
              "    <tr>\n",
              "      <th>12352.0</th>\n",
              "      <td>29.482824</td>\n",
              "      <td>2506.04</td>\n",
              "      <td>376.5</td>\n",
              "    </tr>\n",
              "    <tr>\n",
              "      <th>12353.0</th>\n",
              "      <td>22.250000</td>\n",
              "      <td>89.00</td>\n",
              "      <td>39.8</td>\n",
              "    </tr>\n",
              "  </tbody>\n",
              "</table>\n",
              "</div>"
            ]
          },
          "metadata": {
            "tags": []
          },
          "execution_count": 65
        }
      ]
    },
    {
      "cell_type": "code",
      "metadata": {
        "id": "Mq-_LCEz2aXh"
      },
      "source": [
        "# Passando os dados dos clientes para o formato de matriz\n",
        "matriz = var.values"
      ],
      "execution_count": null,
      "outputs": []
    },
    {
      "cell_type": "code",
      "metadata": {
        "id": "WbiJybX42aXh",
        "outputId": "5dd4f6c2-7a4e-49ac-d28b-754c1630f4bd"
      },
      "source": [
        "# Escalonando os dados\n",
        "sc = StandardScaler()\n",
        "matriz = sc.fit_transform(matriz)\n",
        "matriz"
      ],
      "execution_count": null,
      "outputs": [
        {
          "output_type": "execute_result",
          "data": {
            "text/plain": [
              "array([[-0.08890016,  0.27970169,  0.52038526],\n",
              "       [ 0.22663483, -0.02036699,  0.48288779],\n",
              "       [-0.08526851, -0.02510669,  0.71724698],\n",
              "       ...,\n",
              "       [-0.17027068, -0.21372736, -0.35494632],\n",
              "       [-0.28129252,  0.01517657, -0.37330445],\n",
              "       [-0.06529506, -0.0155855 , -0.11472815]])"
            ]
          },
          "metadata": {
            "tags": []
          },
          "execution_count": 112
        }
      ]
    },
    {
      "cell_type": "code",
      "metadata": {
        "id": "KldEQGny2aXh",
        "outputId": "a2acd6aa-5273-4c22-f0f7-5a87b9632b23"
      },
      "source": [
        "# Escolhendo o numero de clusters pelo método Elbow utilizando K-Means\n",
        "\n",
        "ks = range(1, 11)\n",
        "inertia = [] # inertia: Soma das distâncias quadráticas intra cluster\n",
        "\n",
        "for k in ks:\n",
        "    # Criando um modelo KMeans com k clusters:\n",
        "    model = KMeans(n_clusters= k)\n",
        "    \n",
        "    # Fitando os dados no modelo\n",
        "    model.fit(matriz)\n",
        "    \n",
        "    # Adicionado os resultados da inertia na sua lista\n",
        "    inertia.append(model.inertia_)\n",
        "    \n",
        "# Gráfico Elbow\n",
        "plt.figure(figsize=(15,6))\n",
        "plt.plot(ks, inertia, '-o')\n",
        "plt.xlabel('Num. de clusters')\n",
        "plt.ylabel('Soma das Distâncias Q intra Clusters')\n",
        "plt.xticks(ks)\n",
        "plt.show()"
      ],
      "execution_count": null,
      "outputs": [
        {
          "output_type": "display_data",
          "data": {
            "text/plain": [
              "<Figure size 1080x432 with 1 Axes>"
            ],
            "image/png": "[encoded data removed]"
          },
          "metadata": {
            "tags": [],
            "needs_background": "light"
          }
        }
      ]
    },
    {
      "cell_type": "code",
      "metadata": {
        "id": "kW8NXyqT2aXh",
        "outputId": "2e2bcb66-5060-4e6b-e818-24747e8e5860"
      },
      "source": [
        "#Criando um modelo\n",
        "modelo = KMeans(n_clusters=4)\n",
        "modelo.fit(matriz)"
      ],
      "execution_count": null,
      "outputs": [
        {
          "output_type": "execute_result",
          "data": {
            "text/plain": [
              "KMeans(n_clusters=4)"
            ]
          },
          "metadata": {
            "tags": []
          },
          "execution_count": 115
        }
      ]
    },
    {
      "cell_type": "code",
      "metadata": {
        "id": "YfnHTiSj2aXi",
        "outputId": "92380c42-3fdb-4b4a-c31a-133041d3b131"
      },
      "source": [
        "# Adicionando os clusters na tabela de clientes\n",
        "clientes['Cluster'] = modelo.predict(matriz)\n",
        "clientes.head()"
      ],
      "execution_count": null,
      "outputs": [
        {
          "output_type": "execute_result",
          "data": {
            "text/plain": [
              "              Mean      Sum    Max  Cluster\n",
              "CLIENTE                                    \n",
              "12347.0  23.681319  4310.00  249.6        0\n",
              "12348.0  57.975484  1797.24  240.0        0\n",
              "12349.0  24.076027  1757.55  300.0        0\n",
              "12350.0  19.670588   334.40   40.0        0\n",
              "12352.0  29.482824  2506.04  376.5        0"
            ],
            "text/html": [
              "<div>\n",
              "<style scoped>\n",
              "    .dataframe tbody tr th:only-of-type {\n",
              "        vertical-align: middle;\n",
              "    }\n",
              "\n",
              "    .dataframe tbody tr th {\n",
              "        vertical-align: top;\n",
              "    }\n",
              "\n",
              "    .dataframe thead th {\n",
              "        text-align: right;\n",
              "    }\n",
              "</style>\n",
              "<table border=\"1\" class=\"dataframe\">\n",
              "  <thead>\n",
              "    <tr style=\"text-align: right;\">\n",
              "      <th></th>\n",
              "      <th>Mean</th>\n",
              "      <th>Sum</th>\n",
              "      <th>Max</th>\n",
              "      <th>Cluster</th>\n",
              "    </tr>\n",
              "    <tr>\n",
              "      <th>CLIENTE</th>\n",
              "      <th></th>\n",
              "      <th></th>\n",
              "      <th></th>\n",
              "      <th></th>\n",
              "    </tr>\n",
              "  </thead>\n",
              "  <tbody>\n",
              "    <tr>\n",
              "      <th>12347.0</th>\n",
              "      <td>23.681319</td>\n",
              "      <td>4310.00</td>\n",
              "      <td>249.6</td>\n",
              "      <td>0</td>\n",
              "    </tr>\n",
              "    <tr>\n",
              "      <th>12348.0</th>\n",
              "      <td>57.975484</td>\n",
              "      <td>1797.24</td>\n",
              "      <td>240.0</td>\n",
              "      <td>0</td>\n",
              "    </tr>\n",
              "    <tr>\n",
              "      <th>12349.0</th>\n",
              "      <td>24.076027</td>\n",
              "      <td>1757.55</td>\n",
              "      <td>300.0</td>\n",
              "      <td>0</td>\n",
              "    </tr>\n",
              "    <tr>\n",
              "      <th>12350.0</th>\n",
              "      <td>19.670588</td>\n",
              "      <td>334.40</td>\n",
              "      <td>40.0</td>\n",
              "      <td>0</td>\n",
              "    </tr>\n",
              "    <tr>\n",
              "      <th>12352.0</th>\n",
              "      <td>29.482824</td>\n",
              "      <td>2506.04</td>\n",
              "      <td>376.5</td>\n",
              "      <td>0</td>\n",
              "    </tr>\n",
              "  </tbody>\n",
              "</table>\n",
              "</div>"
            ]
          },
          "metadata": {
            "tags": []
          },
          "execution_count": 108
        }
      ]
    },
    {
      "cell_type": "code",
      "metadata": {
        "id": "tqbEsntK2aXi",
        "outputId": "5325f6f9-7be7-4b08-afd2-02b4ea55744b"
      },
      "source": [
        "clientes.shape"
      ],
      "execution_count": null,
      "outputs": [
        {
          "output_type": "execute_result",
          "data": {
            "text/plain": [
              "(4336, 4)"
            ]
          },
          "metadata": {
            "tags": []
          },
          "execution_count": 142
        }
      ]
    },
    {
      "cell_type": "code",
      "metadata": {
        "id": "hZVxaLsK2aXj"
      },
      "source": [
        "clientes['Cluster'] = clientes['Cluster'].map({0: 'bronze', 1: 'prata', 2: 'ouro', 3: 'platina'})"
      ],
      "execution_count": null,
      "outputs": []
    },
    {
      "cell_type": "code",
      "metadata": {
        "id": "JQwVSH3G2aXj",
        "outputId": "9546dcbf-5d02-455a-827e-7075999cc89d"
      },
      "source": [
        "clientes.groupby('Cluster').nunique()"
      ],
      "execution_count": null,
      "outputs": [
        {
          "output_type": "execute_result",
          "data": {
            "text/plain": [
              "         Mean   Sum  Max\n",
              "Cluster                 \n",
              "bronze   4205  4184  763\n",
              "ouro        4     4    4\n",
              "platina     6     6    6\n",
              "prata      90    90   83"
            ],
            "text/html": [
              "<div>\n",
              "<style scoped>\n",
              "    .dataframe tbody tr th:only-of-type {\n",
              "        vertical-align: middle;\n",
              "    }\n",
              "\n",
              "    .dataframe tbody tr th {\n",
              "        vertical-align: top;\n",
              "    }\n",
              "\n",
              "    .dataframe thead th {\n",
              "        text-align: right;\n",
              "    }\n",
              "</style>\n",
              "<table border=\"1\" class=\"dataframe\">\n",
              "  <thead>\n",
              "    <tr style=\"text-align: right;\">\n",
              "      <th></th>\n",
              "      <th>Mean</th>\n",
              "      <th>Sum</th>\n",
              "      <th>Max</th>\n",
              "    </tr>\n",
              "    <tr>\n",
              "      <th>Cluster</th>\n",
              "      <th></th>\n",
              "      <th></th>\n",
              "      <th></th>\n",
              "    </tr>\n",
              "  </thead>\n",
              "  <tbody>\n",
              "    <tr>\n",
              "      <th>bronze</th>\n",
              "      <td>4205</td>\n",
              "      <td>4184</td>\n",
              "      <td>763</td>\n",
              "    </tr>\n",
              "    <tr>\n",
              "      <th>ouro</th>\n",
              "      <td>4</td>\n",
              "      <td>4</td>\n",
              "      <td>4</td>\n",
              "    </tr>\n",
              "    <tr>\n",
              "      <th>platina</th>\n",
              "      <td>6</td>\n",
              "      <td>6</td>\n",
              "      <td>6</td>\n",
              "    </tr>\n",
              "    <tr>\n",
              "      <th>prata</th>\n",
              "      <td>90</td>\n",
              "      <td>90</td>\n",
              "      <td>83</td>\n",
              "    </tr>\n",
              "  </tbody>\n",
              "</table>\n",
              "</div>"
            ]
          },
          "metadata": {
            "tags": []
          },
          "execution_count": 146
        }
      ]
    },
    {
      "cell_type": "code",
      "metadata": {
        "id": "KAKDNewT2aXj",
        "outputId": "81af8543-3001-4378-9ce8-ae337af31536"
      },
      "source": [
        "# Grafico Pizza\n",
        "clientes['Cluster'].value_counts().plot(kind='barh');"
      ],
      "execution_count": null,
      "outputs": [
        {
          "output_type": "display_data",
          "data": {
            "text/plain": [
              "<Figure size 432x288 with 1 Axes>"
            ],
            "image/png": "[encoded data removed]"
          },
          "metadata": {
            "tags": [],
            "needs_background": "light"
          }
        }
      ]
    },
    {
      "cell_type": "code",
      "metadata": {
        "id": "xdhyBr7A2aXj",
        "outputId": "c49068d2-38dc-4d64-d0fb-259b626e458a"
      },
      "source": [
        "clientes[clientes['Cluster'] == 'ouro']"
      ],
      "execution_count": null,
      "outputs": [
        {
          "output_type": "execute_result",
          "data": {
            "text/plain": [
              "            Mean      Sum     Max Cluster\n",
              "CLIENTE                                  \n",
              "15195.0  3861.00   3861.0  3861.0    ouro\n",
              "15749.0  3281.25  13125.0  3700.0    ouro\n",
              "16532.0  1687.20   6748.8  2232.0    ouro\n",
              "17846.0  2033.10   2033.1  2033.1    ouro"
            ],
            "text/html": [
              "<div>\n",
              "<style scoped>\n",
              "    .dataframe tbody tr th:only-of-type {\n",
              "        vertical-align: middle;\n",
              "    }\n",
              "\n",
              "    .dataframe tbody tr th {\n",
              "        vertical-align: top;\n",
              "    }\n",
              "\n",
              "    .dataframe thead th {\n",
              "        text-align: right;\n",
              "    }\n",
              "</style>\n",
              "<table border=\"1\" class=\"dataframe\">\n",
              "  <thead>\n",
              "    <tr style=\"text-align: right;\">\n",
              "      <th></th>\n",
              "      <th>Mean</th>\n",
              "      <th>Sum</th>\n",
              "      <th>Max</th>\n",
              "      <th>Cluster</th>\n",
              "    </tr>\n",
              "    <tr>\n",
              "      <th>CLIENTE</th>\n",
              "      <th></th>\n",
              "      <th></th>\n",
              "      <th></th>\n",
              "      <th></th>\n",
              "    </tr>\n",
              "  </thead>\n",
              "  <tbody>\n",
              "    <tr>\n",
              "      <th>15195.0</th>\n",
              "      <td>3861.00</td>\n",
              "      <td>3861.0</td>\n",
              "      <td>3861.0</td>\n",
              "      <td>ouro</td>\n",
              "    </tr>\n",
              "    <tr>\n",
              "      <th>15749.0</th>\n",
              "      <td>3281.25</td>\n",
              "      <td>13125.0</td>\n",
              "      <td>3700.0</td>\n",
              "      <td>ouro</td>\n",
              "    </tr>\n",
              "    <tr>\n",
              "      <th>16532.0</th>\n",
              "      <td>1687.20</td>\n",
              "      <td>6748.8</td>\n",
              "      <td>2232.0</td>\n",
              "      <td>ouro</td>\n",
              "    </tr>\n",
              "    <tr>\n",
              "      <th>17846.0</th>\n",
              "      <td>2033.10</td>\n",
              "      <td>2033.1</td>\n",
              "      <td>2033.1</td>\n",
              "      <td>ouro</td>\n",
              "    </tr>\n",
              "  </tbody>\n",
              "</table>\n",
              "</div>"
            ]
          },
          "metadata": {
            "tags": []
          },
          "execution_count": 152
        }
      ]
    },
    {
      "cell_type": "code",
      "metadata": {
        "id": "R2lUYVQ42aXk",
        "outputId": "6c00eb4f-b7c1-4e39-ea03-ae1cbd7ab27e"
      },
      "source": [
        "clientes[clientes['Cluster'] == 'platina']"
      ],
      "execution_count": null,
      "outputs": [
        {
          "output_type": "execute_result",
          "data": {
            "text/plain": [
              "               Mean        Sum      Max  Cluster\n",
              "CLIENTE                                         \n",
              "12415.0  174.950322  124914.53  1718.40  platina\n",
              "14156.0   83.842593  117379.63  2365.20  platina\n",
              "14646.0  132.633263  275214.02  2577.60  platina\n",
              "14911.0   25.343623  143825.06  1687.17  platina\n",
              "17450.0  547.117701  183284.43  3825.36  platina\n",
              "18102.0  602.453132  259657.30  3828.00  platina"
            ],
            "text/html": [
              "<div>\n",
              "<style scoped>\n",
              "    .dataframe tbody tr th:only-of-type {\n",
              "        vertical-align: middle;\n",
              "    }\n",
              "\n",
              "    .dataframe tbody tr th {\n",
              "        vertical-align: top;\n",
              "    }\n",
              "\n",
              "    .dataframe thead th {\n",
              "        text-align: right;\n",
              "    }\n",
              "</style>\n",
              "<table border=\"1\" class=\"dataframe\">\n",
              "  <thead>\n",
              "    <tr style=\"text-align: right;\">\n",
              "      <th></th>\n",
              "      <th>Mean</th>\n",
              "      <th>Sum</th>\n",
              "      <th>Max</th>\n",
              "      <th>Cluster</th>\n",
              "    </tr>\n",
              "    <tr>\n",
              "      <th>CLIENTE</th>\n",
              "      <th></th>\n",
              "      <th></th>\n",
              "      <th></th>\n",
              "      <th></th>\n",
              "    </tr>\n",
              "  </thead>\n",
              "  <tbody>\n",
              "    <tr>\n",
              "      <th>12415.0</th>\n",
              "      <td>174.950322</td>\n",
              "      <td>124914.53</td>\n",
              "      <td>1718.40</td>\n",
              "      <td>platina</td>\n",
              "    </tr>\n",
              "    <tr>\n",
              "      <th>14156.0</th>\n",
              "      <td>83.842593</td>\n",
              "      <td>117379.63</td>\n",
              "      <td>2365.20</td>\n",
              "      <td>platina</td>\n",
              "    </tr>\n",
              "    <tr>\n",
              "      <th>14646.0</th>\n",
              "      <td>132.633263</td>\n",
              "      <td>275214.02</td>\n",
              "      <td>2577.60</td>\n",
              "      <td>platina</td>\n",
              "    </tr>\n",
              "    <tr>\n",
              "      <th>14911.0</th>\n",
              "      <td>25.343623</td>\n",
              "      <td>143825.06</td>\n",
              "      <td>1687.17</td>\n",
              "      <td>platina</td>\n",
              "    </tr>\n",
              "    <tr>\n",
              "      <th>17450.0</th>\n",
              "      <td>547.117701</td>\n",
              "      <td>183284.43</td>\n",
              "      <td>3825.36</td>\n",
              "      <td>platina</td>\n",
              "    </tr>\n",
              "    <tr>\n",
              "      <th>18102.0</th>\n",
              "      <td>602.453132</td>\n",
              "      <td>259657.30</td>\n",
              "      <td>3828.00</td>\n",
              "      <td>platina</td>\n",
              "    </tr>\n",
              "  </tbody>\n",
              "</table>\n",
              "</div>"
            ]
          },
          "metadata": {
            "tags": []
          },
          "execution_count": 153
        }
      ]
    },
    {
      "cell_type": "code",
      "metadata": {
        "id": "iHgLaoWH2aXk"
      },
      "source": [
        ""
      ],
      "execution_count": null,
      "outputs": []
    }
  ]
}