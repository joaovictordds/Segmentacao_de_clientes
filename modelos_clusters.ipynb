{
  "nbformat": 4,
  "nbformat_minor": 0,
  "metadata": {
    "colab": {
      "name": "modelos-clusters.ipynb",
      "provenance": [],
      "collapsed_sections": [
        "6EA1FSOL2aXg",
        "LabukhrbXUiv"
      ],
      "authorship_tag": "ABX9TyMEsesd4JJfvQeRCfBiT+6x",
      "include_colab_link": true
    },
    "kernelspec": {
      "name": "python3",
      "display_name": "Python 3"
    },
    "language_info": {
      "name": "python"
    }
  },
  "cells": [
    {
      "cell_type": "markdown",
      "metadata": {
        "id": "view-in-github",
        "colab_type": "text"
      },
      "source": [
        "<a href=\"https://colab.research.google.com/github/joaovictordds/Segmentacao_de_clientes/blob/main/modelos_clusters.ipynb\" target=\"_parent\"><img src=\"https://colab.research.google.com/assets/colab-badge.svg\" alt=\"Open In Colab\"/></a>"
      ]
    },
    {
      "cell_type": "markdown",
      "metadata": {
        "id": "dI1_FtkgBZOm"
      },
      "source": [
        "* Escreva vários algoritmos de Agrupamento ou clusterização.\n",
        "* Contabilize a Performance do Modelo de Machine Learning e transforme em Performance de Negócio.\n",
        "* Desenvolva uma API que retorne um “Score de Cluster” para cada cliente, indicando à qual cluster ele pertence.\n",
        "* Crie um README sobre como interpretar e usar a sua solução.\n",
        "* Escreva um Relatório, respondendo às perguntas de negócio."
      ]
    },
    {
      "cell_type": "code",
      "metadata": {
        "colab": {
          "base_uri": "https://localhost:8080/",
          "height": 793
        },
        "id": "dTfzxRIZTYWk",
        "outputId": "1fd44dcc-1f5a-4365-d141-38f6ea169ee9"
      },
      "source": [
        "import pandas as pd\n",
        "dados = pd.read_csv('dataprep.csv')\n",
        "dados.drop(columns='Unnamed: 0', inplace=True)\n",
        "dados.head(24)"
      ],
      "execution_count": 97,
      "outputs": [
        {
          "output_type": "execute_result",
          "data": {
            "text/html": [
              "<div>\n",
              "<style scoped>\n",
              "    .dataframe tbody tr th:only-of-type {\n",
              "        vertical-align: middle;\n",
              "    }\n",
              "\n",
              "    .dataframe tbody tr th {\n",
              "        vertical-align: top;\n",
              "    }\n",
              "\n",
              "    .dataframe thead th {\n",
              "        text-align: right;\n",
              "    }\n",
              "</style>\n",
              "<table border=\"1\" class=\"dataframe\">\n",
              "  <thead>\n",
              "    <tr style=\"text-align: right;\">\n",
              "      <th></th>\n",
              "      <th>IdVenda</th>\n",
              "      <th>CodItem</th>\n",
              "      <th>Item</th>\n",
              "      <th>Qtde</th>\n",
              "      <th>DataVenda</th>\n",
              "      <th>PrecoUnit</th>\n",
              "      <th>IdCliente</th>\n",
              "      <th>Pais</th>\n",
              "      <th>Ano</th>\n",
              "      <th>Mes</th>\n",
              "      <th>Dia</th>\n",
              "      <th>ValorTotal</th>\n",
              "    </tr>\n",
              "  </thead>\n",
              "  <tbody>\n",
              "    <tr>\n",
              "      <th>0</th>\n",
              "      <td>536365</td>\n",
              "      <td>85123A</td>\n",
              "      <td>WHITE HANGING HEART T-LIGHT HOLDER</td>\n",
              "      <td>6</td>\n",
              "      <td>2016-11-29</td>\n",
              "      <td>2.55</td>\n",
              "      <td>17850</td>\n",
              "      <td>United Kingdom</td>\n",
              "      <td>2016</td>\n",
              "      <td>11</td>\n",
              "      <td>29</td>\n",
              "      <td>15.30</td>\n",
              "    </tr>\n",
              "    <tr>\n",
              "      <th>1</th>\n",
              "      <td>536365</td>\n",
              "      <td>71053</td>\n",
              "      <td>WHITE METAL LANTERN</td>\n",
              "      <td>6</td>\n",
              "      <td>2016-11-29</td>\n",
              "      <td>3.39</td>\n",
              "      <td>17850</td>\n",
              "      <td>United Kingdom</td>\n",
              "      <td>2016</td>\n",
              "      <td>11</td>\n",
              "      <td>29</td>\n",
              "      <td>20.34</td>\n",
              "    </tr>\n",
              "    <tr>\n",
              "      <th>2</th>\n",
              "      <td>536365</td>\n",
              "      <td>84406B</td>\n",
              "      <td>CREAM CUPID HEARTS COAT HANGER</td>\n",
              "      <td>8</td>\n",
              "      <td>2016-11-29</td>\n",
              "      <td>2.75</td>\n",
              "      <td>17850</td>\n",
              "      <td>United Kingdom</td>\n",
              "      <td>2016</td>\n",
              "      <td>11</td>\n",
              "      <td>29</td>\n",
              "      <td>22.00</td>\n",
              "    </tr>\n",
              "    <tr>\n",
              "      <th>3</th>\n",
              "      <td>536365</td>\n",
              "      <td>84029G</td>\n",
              "      <td>KNITTED UNION FLAG HOT WATER BOTTLE</td>\n",
              "      <td>6</td>\n",
              "      <td>2016-11-29</td>\n",
              "      <td>3.39</td>\n",
              "      <td>17850</td>\n",
              "      <td>United Kingdom</td>\n",
              "      <td>2016</td>\n",
              "      <td>11</td>\n",
              "      <td>29</td>\n",
              "      <td>20.34</td>\n",
              "    </tr>\n",
              "    <tr>\n",
              "      <th>4</th>\n",
              "      <td>536365</td>\n",
              "      <td>84029E</td>\n",
              "      <td>RED WOOLLY HOTTIE WHITE HEART.</td>\n",
              "      <td>6</td>\n",
              "      <td>2016-11-29</td>\n",
              "      <td>3.39</td>\n",
              "      <td>17850</td>\n",
              "      <td>United Kingdom</td>\n",
              "      <td>2016</td>\n",
              "      <td>11</td>\n",
              "      <td>29</td>\n",
              "      <td>20.34</td>\n",
              "    </tr>\n",
              "    <tr>\n",
              "      <th>5</th>\n",
              "      <td>536365</td>\n",
              "      <td>22752</td>\n",
              "      <td>SET 7 BABUSHKA NESTING BOXES</td>\n",
              "      <td>2</td>\n",
              "      <td>2016-11-29</td>\n",
              "      <td>7.65</td>\n",
              "      <td>17850</td>\n",
              "      <td>United Kingdom</td>\n",
              "      <td>2016</td>\n",
              "      <td>11</td>\n",
              "      <td>29</td>\n",
              "      <td>15.30</td>\n",
              "    </tr>\n",
              "    <tr>\n",
              "      <th>6</th>\n",
              "      <td>536365</td>\n",
              "      <td>21730</td>\n",
              "      <td>GLASS STAR FROSTED T-LIGHT HOLDER</td>\n",
              "      <td>6</td>\n",
              "      <td>2016-11-29</td>\n",
              "      <td>4.25</td>\n",
              "      <td>17850</td>\n",
              "      <td>United Kingdom</td>\n",
              "      <td>2016</td>\n",
              "      <td>11</td>\n",
              "      <td>29</td>\n",
              "      <td>25.50</td>\n",
              "    </tr>\n",
              "    <tr>\n",
              "      <th>7</th>\n",
              "      <td>536366</td>\n",
              "      <td>22633</td>\n",
              "      <td>HAND WARMER UNION JACK</td>\n",
              "      <td>6</td>\n",
              "      <td>2016-11-29</td>\n",
              "      <td>1.85</td>\n",
              "      <td>17850</td>\n",
              "      <td>United Kingdom</td>\n",
              "      <td>2016</td>\n",
              "      <td>11</td>\n",
              "      <td>29</td>\n",
              "      <td>11.10</td>\n",
              "    </tr>\n",
              "    <tr>\n",
              "      <th>8</th>\n",
              "      <td>536366</td>\n",
              "      <td>22632</td>\n",
              "      <td>HAND WARMER RED POLKA DOT</td>\n",
              "      <td>6</td>\n",
              "      <td>2016-11-29</td>\n",
              "      <td>1.85</td>\n",
              "      <td>17850</td>\n",
              "      <td>United Kingdom</td>\n",
              "      <td>2016</td>\n",
              "      <td>11</td>\n",
              "      <td>29</td>\n",
              "      <td>11.10</td>\n",
              "    </tr>\n",
              "    <tr>\n",
              "      <th>9</th>\n",
              "      <td>536367</td>\n",
              "      <td>84879</td>\n",
              "      <td>ASSORTED COLOUR BIRD ORNAMENT</td>\n",
              "      <td>32</td>\n",
              "      <td>2016-11-29</td>\n",
              "      <td>1.69</td>\n",
              "      <td>13047</td>\n",
              "      <td>United Kingdom</td>\n",
              "      <td>2016</td>\n",
              "      <td>11</td>\n",
              "      <td>29</td>\n",
              "      <td>54.08</td>\n",
              "    </tr>\n",
              "    <tr>\n",
              "      <th>10</th>\n",
              "      <td>536367</td>\n",
              "      <td>22745</td>\n",
              "      <td>POPPY'S PLAYHOUSE BEDROOM</td>\n",
              "      <td>6</td>\n",
              "      <td>2016-11-29</td>\n",
              "      <td>2.10</td>\n",
              "      <td>13047</td>\n",
              "      <td>United Kingdom</td>\n",
              "      <td>2016</td>\n",
              "      <td>11</td>\n",
              "      <td>29</td>\n",
              "      <td>12.60</td>\n",
              "    </tr>\n",
              "    <tr>\n",
              "      <th>11</th>\n",
              "      <td>536367</td>\n",
              "      <td>22748</td>\n",
              "      <td>POPPY'S PLAYHOUSE KITCHEN</td>\n",
              "      <td>6</td>\n",
              "      <td>2016-11-29</td>\n",
              "      <td>2.10</td>\n",
              "      <td>13047</td>\n",
              "      <td>United Kingdom</td>\n",
              "      <td>2016</td>\n",
              "      <td>11</td>\n",
              "      <td>29</td>\n",
              "      <td>12.60</td>\n",
              "    </tr>\n",
              "    <tr>\n",
              "      <th>12</th>\n",
              "      <td>536367</td>\n",
              "      <td>22749</td>\n",
              "      <td>FELTCRAFT PRINCESS CHARLOTTE DOLL</td>\n",
              "      <td>8</td>\n",
              "      <td>2016-11-29</td>\n",
              "      <td>3.75</td>\n",
              "      <td>13047</td>\n",
              "      <td>United Kingdom</td>\n",
              "      <td>2016</td>\n",
              "      <td>11</td>\n",
              "      <td>29</td>\n",
              "      <td>30.00</td>\n",
              "    </tr>\n",
              "    <tr>\n",
              "      <th>13</th>\n",
              "      <td>536367</td>\n",
              "      <td>22310</td>\n",
              "      <td>IVORY KNITTED MUG COSY</td>\n",
              "      <td>6</td>\n",
              "      <td>2016-11-29</td>\n",
              "      <td>1.65</td>\n",
              "      <td>13047</td>\n",
              "      <td>United Kingdom</td>\n",
              "      <td>2016</td>\n",
              "      <td>11</td>\n",
              "      <td>29</td>\n",
              "      <td>9.90</td>\n",
              "    </tr>\n",
              "    <tr>\n",
              "      <th>14</th>\n",
              "      <td>536367</td>\n",
              "      <td>84969</td>\n",
              "      <td>BOX OF 6 ASSORTED COLOUR TEASPOONS</td>\n",
              "      <td>6</td>\n",
              "      <td>2016-11-29</td>\n",
              "      <td>4.25</td>\n",
              "      <td>13047</td>\n",
              "      <td>United Kingdom</td>\n",
              "      <td>2016</td>\n",
              "      <td>11</td>\n",
              "      <td>29</td>\n",
              "      <td>25.50</td>\n",
              "    </tr>\n",
              "    <tr>\n",
              "      <th>15</th>\n",
              "      <td>536367</td>\n",
              "      <td>22623</td>\n",
              "      <td>BOX OF VINTAGE JIGSAW BLOCKS</td>\n",
              "      <td>3</td>\n",
              "      <td>2016-11-29</td>\n",
              "      <td>4.95</td>\n",
              "      <td>13047</td>\n",
              "      <td>United Kingdom</td>\n",
              "      <td>2016</td>\n",
              "      <td>11</td>\n",
              "      <td>29</td>\n",
              "      <td>14.85</td>\n",
              "    </tr>\n",
              "    <tr>\n",
              "      <th>16</th>\n",
              "      <td>536367</td>\n",
              "      <td>22622</td>\n",
              "      <td>BOX OF VINTAGE ALPHABET BLOCKS</td>\n",
              "      <td>2</td>\n",
              "      <td>2016-11-29</td>\n",
              "      <td>9.95</td>\n",
              "      <td>13047</td>\n",
              "      <td>United Kingdom</td>\n",
              "      <td>2016</td>\n",
              "      <td>11</td>\n",
              "      <td>29</td>\n",
              "      <td>19.90</td>\n",
              "    </tr>\n",
              "    <tr>\n",
              "      <th>17</th>\n",
              "      <td>536367</td>\n",
              "      <td>21754</td>\n",
              "      <td>HOME BUILDING BLOCK WORD</td>\n",
              "      <td>3</td>\n",
              "      <td>2016-11-29</td>\n",
              "      <td>5.95</td>\n",
              "      <td>13047</td>\n",
              "      <td>United Kingdom</td>\n",
              "      <td>2016</td>\n",
              "      <td>11</td>\n",
              "      <td>29</td>\n",
              "      <td>17.85</td>\n",
              "    </tr>\n",
              "    <tr>\n",
              "      <th>18</th>\n",
              "      <td>536367</td>\n",
              "      <td>21755</td>\n",
              "      <td>LOVE BUILDING BLOCK WORD</td>\n",
              "      <td>3</td>\n",
              "      <td>2016-11-29</td>\n",
              "      <td>5.95</td>\n",
              "      <td>13047</td>\n",
              "      <td>United Kingdom</td>\n",
              "      <td>2016</td>\n",
              "      <td>11</td>\n",
              "      <td>29</td>\n",
              "      <td>17.85</td>\n",
              "    </tr>\n",
              "    <tr>\n",
              "      <th>19</th>\n",
              "      <td>536367</td>\n",
              "      <td>21777</td>\n",
              "      <td>RECIPE BOX WITH METAL HEART</td>\n",
              "      <td>4</td>\n",
              "      <td>2016-11-29</td>\n",
              "      <td>7.95</td>\n",
              "      <td>13047</td>\n",
              "      <td>United Kingdom</td>\n",
              "      <td>2016</td>\n",
              "      <td>11</td>\n",
              "      <td>29</td>\n",
              "      <td>31.80</td>\n",
              "    </tr>\n",
              "    <tr>\n",
              "      <th>20</th>\n",
              "      <td>536367</td>\n",
              "      <td>48187</td>\n",
              "      <td>DOORMAT NEW ENGLAND</td>\n",
              "      <td>4</td>\n",
              "      <td>2016-11-29</td>\n",
              "      <td>7.95</td>\n",
              "      <td>13047</td>\n",
              "      <td>United Kingdom</td>\n",
              "      <td>2016</td>\n",
              "      <td>11</td>\n",
              "      <td>29</td>\n",
              "      <td>31.80</td>\n",
              "    </tr>\n",
              "    <tr>\n",
              "      <th>21</th>\n",
              "      <td>536368</td>\n",
              "      <td>22960</td>\n",
              "      <td>JAM MAKING SET WITH JARS</td>\n",
              "      <td>6</td>\n",
              "      <td>2016-11-29</td>\n",
              "      <td>4.25</td>\n",
              "      <td>13047</td>\n",
              "      <td>United Kingdom</td>\n",
              "      <td>2016</td>\n",
              "      <td>11</td>\n",
              "      <td>29</td>\n",
              "      <td>25.50</td>\n",
              "    </tr>\n",
              "    <tr>\n",
              "      <th>22</th>\n",
              "      <td>536368</td>\n",
              "      <td>22913</td>\n",
              "      <td>RED COAT RACK PARIS FASHION</td>\n",
              "      <td>3</td>\n",
              "      <td>2016-11-29</td>\n",
              "      <td>4.95</td>\n",
              "      <td>13047</td>\n",
              "      <td>United Kingdom</td>\n",
              "      <td>2016</td>\n",
              "      <td>11</td>\n",
              "      <td>29</td>\n",
              "      <td>14.85</td>\n",
              "    </tr>\n",
              "    <tr>\n",
              "      <th>23</th>\n",
              "      <td>536368</td>\n",
              "      <td>22912</td>\n",
              "      <td>YELLOW COAT RACK PARIS FASHION</td>\n",
              "      <td>3</td>\n",
              "      <td>2016-11-29</td>\n",
              "      <td>4.95</td>\n",
              "      <td>13047</td>\n",
              "      <td>United Kingdom</td>\n",
              "      <td>2016</td>\n",
              "      <td>11</td>\n",
              "      <td>29</td>\n",
              "      <td>14.85</td>\n",
              "    </tr>\n",
              "  </tbody>\n",
              "</table>\n",
              "</div>"
            ],
            "text/plain": [
              "    IdVenda CodItem                                 Item  ...  Mes Dia  ValorTotal\n",
              "0    536365  85123A   WHITE HANGING HEART T-LIGHT HOLDER  ...   11  29       15.30\n",
              "1    536365   71053                  WHITE METAL LANTERN  ...   11  29       20.34\n",
              "2    536365  84406B       CREAM CUPID HEARTS COAT HANGER  ...   11  29       22.00\n",
              "3    536365  84029G  KNITTED UNION FLAG HOT WATER BOTTLE  ...   11  29       20.34\n",
              "4    536365  84029E       RED WOOLLY HOTTIE WHITE HEART.  ...   11  29       20.34\n",
              "5    536365   22752         SET 7 BABUSHKA NESTING BOXES  ...   11  29       15.30\n",
              "6    536365   21730    GLASS STAR FROSTED T-LIGHT HOLDER  ...   11  29       25.50\n",
              "7    536366   22633               HAND WARMER UNION JACK  ...   11  29       11.10\n",
              "8    536366   22632            HAND WARMER RED POLKA DOT  ...   11  29       11.10\n",
              "9    536367   84879        ASSORTED COLOUR BIRD ORNAMENT  ...   11  29       54.08\n",
              "10   536367   22745           POPPY'S PLAYHOUSE BEDROOM   ...   11  29       12.60\n",
              "11   536367   22748            POPPY'S PLAYHOUSE KITCHEN  ...   11  29       12.60\n",
              "12   536367   22749    FELTCRAFT PRINCESS CHARLOTTE DOLL  ...   11  29       30.00\n",
              "13   536367   22310              IVORY KNITTED MUG COSY   ...   11  29        9.90\n",
              "14   536367   84969   BOX OF 6 ASSORTED COLOUR TEASPOONS  ...   11  29       25.50\n",
              "15   536367   22623        BOX OF VINTAGE JIGSAW BLOCKS   ...   11  29       14.85\n",
              "16   536367   22622       BOX OF VINTAGE ALPHABET BLOCKS  ...   11  29       19.90\n",
              "17   536367   21754             HOME BUILDING BLOCK WORD  ...   11  29       17.85\n",
              "18   536367   21755             LOVE BUILDING BLOCK WORD  ...   11  29       17.85\n",
              "19   536367   21777          RECIPE BOX WITH METAL HEART  ...   11  29       31.80\n",
              "20   536367   48187                  DOORMAT NEW ENGLAND  ...   11  29       31.80\n",
              "21   536368   22960             JAM MAKING SET WITH JARS  ...   11  29       25.50\n",
              "22   536368   22913          RED COAT RACK PARIS FASHION  ...   11  29       14.85\n",
              "23   536368   22912       YELLOW COAT RACK PARIS FASHION  ...   11  29       14.85\n",
              "\n",
              "[24 rows x 12 columns]"
            ]
          },
          "metadata": {
            "tags": []
          },
          "execution_count": 97
        }
      ]
    },
    {
      "cell_type": "code",
      "metadata": {
        "id": "7TCBE7q02aXg"
      },
      "source": [
        "# Importando bilbiotecas\n",
        "from sklearn.preprocessing import StandardScaler\n",
        "from sklearn.cluster import KMeans\n",
        "import matplotlib.pyplot as plt"
      ],
      "execution_count": 10,
      "outputs": []
    },
    {
      "cell_type": "markdown",
      "metadata": {
        "id": "6EA1FSOL2aXg"
      },
      "source": [
        "### Modelo I\n",
        "\n",
        "Separando clientes por volume de vendas"
      ]
    },
    {
      "cell_type": "code",
      "metadata": {
        "id": "ZhKS-TMK2aXg",
        "colab": {
          "base_uri": "https://localhost:8080/",
          "height": 266
        },
        "outputId": "96206698-8e2d-4296-f22c-a21a19daebaa"
      },
      "source": [
        "# Criando um dataset agrupando as vendas por cliente e algumas estatisticas\n",
        "var = dados.groupby('IdCliente').agg({'ValorTotal': ['mean','sum','max']})\n",
        "clientes = pd.DataFrame(var)\n",
        "clientes.columns = ['Mean', 'Sum','Max']\n",
        "clientes.head(6)"
      ],
      "execution_count": 5,
      "outputs": [
        {
          "output_type": "execute_result",
          "data": {
            "text/html": [
              "<div>\n",
              "<style scoped>\n",
              "    .dataframe tbody tr th:only-of-type {\n",
              "        vertical-align: middle;\n",
              "    }\n",
              "\n",
              "    .dataframe tbody tr th {\n",
              "        vertical-align: top;\n",
              "    }\n",
              "\n",
              "    .dataframe thead th {\n",
              "        text-align: right;\n",
              "    }\n",
              "</style>\n",
              "<table border=\"1\" class=\"dataframe\">\n",
              "  <thead>\n",
              "    <tr style=\"text-align: right;\">\n",
              "      <th></th>\n",
              "      <th>Mean</th>\n",
              "      <th>Sum</th>\n",
              "      <th>Max</th>\n",
              "    </tr>\n",
              "    <tr>\n",
              "      <th>IdCliente</th>\n",
              "      <th></th>\n",
              "      <th></th>\n",
              "      <th></th>\n",
              "    </tr>\n",
              "  </thead>\n",
              "  <tbody>\n",
              "    <tr>\n",
              "      <th>12347</th>\n",
              "      <td>23.681319</td>\n",
              "      <td>4310.00</td>\n",
              "      <td>249.6</td>\n",
              "    </tr>\n",
              "    <tr>\n",
              "      <th>12348</th>\n",
              "      <td>57.975484</td>\n",
              "      <td>1797.24</td>\n",
              "      <td>240.0</td>\n",
              "    </tr>\n",
              "    <tr>\n",
              "      <th>12349</th>\n",
              "      <td>24.076027</td>\n",
              "      <td>1757.55</td>\n",
              "      <td>300.0</td>\n",
              "    </tr>\n",
              "    <tr>\n",
              "      <th>12350</th>\n",
              "      <td>19.670588</td>\n",
              "      <td>334.40</td>\n",
              "      <td>40.0</td>\n",
              "    </tr>\n",
              "    <tr>\n",
              "      <th>12352</th>\n",
              "      <td>29.482824</td>\n",
              "      <td>2506.04</td>\n",
              "      <td>376.5</td>\n",
              "    </tr>\n",
              "    <tr>\n",
              "      <th>12353</th>\n",
              "      <td>22.250000</td>\n",
              "      <td>89.00</td>\n",
              "      <td>39.8</td>\n",
              "    </tr>\n",
              "  </tbody>\n",
              "</table>\n",
              "</div>"
            ],
            "text/plain": [
              "                Mean      Sum    Max\n",
              "IdCliente                           \n",
              "12347      23.681319  4310.00  249.6\n",
              "12348      57.975484  1797.24  240.0\n",
              "12349      24.076027  1757.55  300.0\n",
              "12350      19.670588   334.40   40.0\n",
              "12352      29.482824  2506.04  376.5\n",
              "12353      22.250000    89.00   39.8"
            ]
          },
          "metadata": {
            "tags": []
          },
          "execution_count": 5
        }
      ]
    },
    {
      "cell_type": "code",
      "metadata": {
        "colab": {
          "base_uri": "https://localhost:8080/"
        },
        "id": "oQo8DmHFsQnE",
        "outputId": "9e40a299-107e-4e91-e84d-0731e47225ea"
      },
      "source": [
        "dados[dados['IdCliente'] == 12347]['ValorTotal'].sum()"
      ],
      "execution_count": 123,
      "outputs": [
        {
          "output_type": "execute_result",
          "data": {
            "text/plain": [
              "4310.000000000001"
            ]
          },
          "metadata": {
            "tags": []
          },
          "execution_count": 123
        }
      ]
    },
    {
      "cell_type": "code",
      "metadata": {
        "colab": {
          "base_uri": "https://localhost:8080/",
          "height": 481
        },
        "id": "kugZ-yCYrMv9",
        "outputId": "8f7cbc53-a6d6-4ce8-9b2b-4e6ab1d377d0"
      },
      "source": [
        "# Criando um dataset agrupando as vendas por cliente e algumas estatisticas\n",
        "var = dados.groupby('IdCliente').agg({'ValorTotal': ['sum']})\n",
        "var"
      ],
      "execution_count": 122,
      "outputs": [
        {
          "output_type": "execute_result",
          "data": {
            "text/html": [
              "<div>\n",
              "<style scoped>\n",
              "    .dataframe tbody tr th:only-of-type {\n",
              "        vertical-align: middle;\n",
              "    }\n",
              "\n",
              "    .dataframe tbody tr th {\n",
              "        vertical-align: top;\n",
              "    }\n",
              "\n",
              "    .dataframe thead tr th {\n",
              "        text-align: left;\n",
              "    }\n",
              "\n",
              "    .dataframe thead tr:last-of-type th {\n",
              "        text-align: right;\n",
              "    }\n",
              "</style>\n",
              "<table border=\"1\" class=\"dataframe\">\n",
              "  <thead>\n",
              "    <tr>\n",
              "      <th></th>\n",
              "      <th>ValorTotal</th>\n",
              "    </tr>\n",
              "    <tr>\n",
              "      <th></th>\n",
              "      <th>sum</th>\n",
              "    </tr>\n",
              "    <tr>\n",
              "      <th>IdCliente</th>\n",
              "      <th></th>\n",
              "    </tr>\n",
              "  </thead>\n",
              "  <tbody>\n",
              "    <tr>\n",
              "      <th>12347</th>\n",
              "      <td>4310.00</td>\n",
              "    </tr>\n",
              "    <tr>\n",
              "      <th>12348</th>\n",
              "      <td>1797.24</td>\n",
              "    </tr>\n",
              "    <tr>\n",
              "      <th>12349</th>\n",
              "      <td>1757.55</td>\n",
              "    </tr>\n",
              "    <tr>\n",
              "      <th>12350</th>\n",
              "      <td>334.40</td>\n",
              "    </tr>\n",
              "    <tr>\n",
              "      <th>12352</th>\n",
              "      <td>2506.04</td>\n",
              "    </tr>\n",
              "    <tr>\n",
              "      <th>...</th>\n",
              "      <td>...</td>\n",
              "    </tr>\n",
              "    <tr>\n",
              "      <th>18280</th>\n",
              "      <td>180.60</td>\n",
              "    </tr>\n",
              "    <tr>\n",
              "      <th>18281</th>\n",
              "      <td>80.82</td>\n",
              "    </tr>\n",
              "    <tr>\n",
              "      <th>18282</th>\n",
              "      <td>178.05</td>\n",
              "    </tr>\n",
              "    <tr>\n",
              "      <th>18283</th>\n",
              "      <td>2094.88</td>\n",
              "    </tr>\n",
              "    <tr>\n",
              "      <th>18287</th>\n",
              "      <td>1837.28</td>\n",
              "    </tr>\n",
              "  </tbody>\n",
              "</table>\n",
              "<p>4335 rows × 1 columns</p>\n",
              "</div>"
            ],
            "text/plain": [
              "          ValorTotal\n",
              "                 sum\n",
              "IdCliente           \n",
              "12347        4310.00\n",
              "12348        1797.24\n",
              "12349        1757.55\n",
              "12350         334.40\n",
              "12352        2506.04\n",
              "...              ...\n",
              "18280         180.60\n",
              "18281          80.82\n",
              "18282         178.05\n",
              "18283        2094.88\n",
              "18287        1837.28\n",
              "\n",
              "[4335 rows x 1 columns]"
            ]
          },
          "metadata": {
            "tags": []
          },
          "execution_count": 122
        }
      ]
    },
    {
      "cell_type": "code",
      "metadata": {
        "id": "Mq-_LCEz2aXh",
        "colab": {
          "base_uri": "https://localhost:8080/"
        },
        "outputId": "0e420e88-8efd-4c8f-be66-6b0f8d42a72e"
      },
      "source": [
        "# Passando os dados dos clientes para o formato de matriz\n",
        "matriz = var.values\n",
        "matriz"
      ],
      "execution_count": 124,
      "outputs": [
        {
          "output_type": "execute_result",
          "data": {
            "text/plain": [
              "array([[4310.  ],\n",
              "       [1797.24],\n",
              "       [1757.55],\n",
              "       ...,\n",
              "       [ 178.05],\n",
              "       [2094.88],\n",
              "       [1837.28]])"
            ]
          },
          "metadata": {
            "tags": []
          },
          "execution_count": 124
        }
      ]
    },
    {
      "cell_type": "code",
      "metadata": {
        "id": "WbiJybX42aXh",
        "colab": {
          "base_uri": "https://localhost:8080/"
        },
        "outputId": "81c8cd8c-f0fc-476b-c878-5249b9cace35"
      },
      "source": [
        "# Escalonando os dados\n",
        "sc = StandardScaler()\n",
        "matriz = sc.fit_transform(matriz)\n",
        "matriz"
      ],
      "execution_count": 125,
      "outputs": [
        {
          "output_type": "execute_result",
          "data": {
            "text/plain": [
              "array([[ 0.28259252],\n",
              "       [-0.01984441],\n",
              "       [-0.02462151],\n",
              "       ...,\n",
              "       [-0.21473085],\n",
              "       [ 0.01597968],\n",
              "       [-0.01502517]])"
            ]
          },
          "metadata": {
            "tags": []
          },
          "execution_count": 125
        }
      ]
    },
    {
      "cell_type": "code",
      "metadata": {
        "id": "KldEQGny2aXh",
        "colab": {
          "base_uri": "https://localhost:8080/",
          "height": 388
        },
        "outputId": "8b72c094-3ef7-4f06-eb82-648265548a72"
      },
      "source": [
        "# Escolhendo o numero de clusters pelo método Elbow utilizando K-Means\n",
        "\n",
        "ks = range(1, 11)\n",
        "inertia = [] # inertia: Soma das distâncias quadráticas intra cluster\n",
        "\n",
        "for k in ks:\n",
        "    # Criando um modelo KMeans com k clusters:\n",
        "    model = KMeans(n_clusters= k)\n",
        "    \n",
        "    # Fitando os dados no modelo\n",
        "    model.fit(matriz)\n",
        "    \n",
        "    # Adicionado os resultados da inertia na sua lista\n",
        "    inertia.append(model.inertia_)\n",
        "    \n",
        "# Gráfico Elbow\n",
        "plt.figure(figsize=(15,6))\n",
        "plt.plot(ks, inertia, '-o')\n",
        "plt.xlabel('Num. de clusters')\n",
        "plt.ylabel('Soma das distâncias Q intra clusters')\n",
        "plt.xticks(ks)\n",
        "plt.show()"
      ],
      "execution_count": 126,
      "outputs": [
        {
          "output_type": "display_data",
          "data": {
            "image/png": "[encoded data removed]",
            "text/plain": [
              "<Figure size 1080x432 with 1 Axes>"
            ]
          },
          "metadata": {
            "tags": [],
            "needs_background": "light"
          }
        }
      ]
    },
    {
      "cell_type": "code",
      "metadata": {
        "id": "kW8NXyqT2aXh",
        "colab": {
          "base_uri": "https://localhost:8080/"
        },
        "outputId": "66968ff1-212d-4a08-c922-f6d559270132"
      },
      "source": [
        "#Criando um modelo\n",
        "modelo = KMeans(n_clusters=3)\n",
        "modelo.fit(matriz)"
      ],
      "execution_count": 127,
      "outputs": [
        {
          "output_type": "execute_result",
          "data": {
            "text/plain": [
              "KMeans(algorithm='auto', copy_x=True, init='k-means++', max_iter=300,\n",
              "       n_clusters=3, n_init=10, n_jobs=None, precompute_distances='auto',\n",
              "       random_state=None, tol=0.0001, verbose=0)"
            ]
          },
          "metadata": {
            "tags": []
          },
          "execution_count": 127
        }
      ]
    },
    {
      "cell_type": "code",
      "metadata": {
        "id": "YfnHTiSj2aXi",
        "colab": {
          "base_uri": "https://localhost:8080/",
          "height": 266
        },
        "outputId": "577d36a1-66da-43d3-b99a-3bb105b893c5"
      },
      "source": [
        "# Adicionando os clusters na tabela de clientes\n",
        "var['Categoria'] = modelo.predict(matriz)\n",
        "var.head()"
      ],
      "execution_count": 128,
      "outputs": [
        {
          "output_type": "execute_result",
          "data": {
            "text/html": [
              "<div>\n",
              "<style scoped>\n",
              "    .dataframe tbody tr th:only-of-type {\n",
              "        vertical-align: middle;\n",
              "    }\n",
              "\n",
              "    .dataframe tbody tr th {\n",
              "        vertical-align: top;\n",
              "    }\n",
              "\n",
              "    .dataframe thead tr th {\n",
              "        text-align: left;\n",
              "    }\n",
              "\n",
              "    .dataframe thead tr:last-of-type th {\n",
              "        text-align: right;\n",
              "    }\n",
              "</style>\n",
              "<table border=\"1\" class=\"dataframe\">\n",
              "  <thead>\n",
              "    <tr>\n",
              "      <th></th>\n",
              "      <th>ValorTotal</th>\n",
              "      <th>Categoria</th>\n",
              "    </tr>\n",
              "    <tr>\n",
              "      <th></th>\n",
              "      <th>sum</th>\n",
              "      <th></th>\n",
              "    </tr>\n",
              "    <tr>\n",
              "      <th>IdCliente</th>\n",
              "      <th></th>\n",
              "      <th></th>\n",
              "    </tr>\n",
              "  </thead>\n",
              "  <tbody>\n",
              "    <tr>\n",
              "      <th>12347</th>\n",
              "      <td>4310.00</td>\n",
              "      <td>0</td>\n",
              "    </tr>\n",
              "    <tr>\n",
              "      <th>12348</th>\n",
              "      <td>1797.24</td>\n",
              "      <td>0</td>\n",
              "    </tr>\n",
              "    <tr>\n",
              "      <th>12349</th>\n",
              "      <td>1757.55</td>\n",
              "      <td>0</td>\n",
              "    </tr>\n",
              "    <tr>\n",
              "      <th>12350</th>\n",
              "      <td>334.40</td>\n",
              "      <td>0</td>\n",
              "    </tr>\n",
              "    <tr>\n",
              "      <th>12352</th>\n",
              "      <td>2506.04</td>\n",
              "      <td>0</td>\n",
              "    </tr>\n",
              "  </tbody>\n",
              "</table>\n",
              "</div>"
            ],
            "text/plain": [
              "          ValorTotal Categoria\n",
              "                 sum          \n",
              "IdCliente                     \n",
              "12347        4310.00         0\n",
              "12348        1797.24         0\n",
              "12349        1757.55         0\n",
              "12350         334.40         0\n",
              "12352        2506.04         0"
            ]
          },
          "metadata": {
            "tags": []
          },
          "execution_count": 128
        }
      ]
    },
    {
      "cell_type": "code",
      "metadata": {
        "id": "hZVxaLsK2aXj"
      },
      "source": [
        "# Renomeando os clusters\n",
        "var['Categoria'] = var['Categoria'].map({0: 'bronze', 2: 'prata', 1: 'ouro'})"
      ],
      "execution_count": 134,
      "outputs": []
    },
    {
      "cell_type": "code",
      "metadata": {
        "id": "KAKDNewT2aXj",
        "colab": {
          "base_uri": "https://localhost:8080/"
        },
        "outputId": "2c705a04-b548-4abf-b8da-028e91a7a50a"
      },
      "source": [
        "# Grafico\n",
        "var['Categoria'].value_counts()#.plot(kind='barh');"
      ],
      "execution_count": 135,
      "outputs": [
        {
          "output_type": "execute_result",
          "data": {
            "text/plain": [
              "bronze    4308\n",
              "prata       23\n",
              "ouro         4\n",
              "Name: Categoria, dtype: int64"
            ]
          },
          "metadata": {
            "tags": []
          },
          "execution_count": 135
        }
      ]
    },
    {
      "cell_type": "markdown",
      "metadata": {
        "id": "crBnQTeuvhoA"
      },
      "source": [
        "### Modelo II\n",
        "\n",
        "Separando os clientes de acordo com o volume de venda"
      ]
    },
    {
      "cell_type": "code",
      "metadata": {
        "colab": {
          "base_uri": "https://localhost:8080/",
          "height": 142
        },
        "id": "YZ5DTh1xvrEM",
        "outputId": "6e72dfd8-7b56-4a51-edb9-275283951ba6"
      },
      "source": [
        "import pandas as pd\n",
        "dados = pd.read_csv('dataprep.csv')\n",
        "dados.drop(columns='Unnamed: 0', inplace=True)\n",
        "dados.head(3)"
      ],
      "execution_count": 136,
      "outputs": [
        {
          "output_type": "execute_result",
          "data": {
            "text/html": [
              "<div>\n",
              "<style scoped>\n",
              "    .dataframe tbody tr th:only-of-type {\n",
              "        vertical-align: middle;\n",
              "    }\n",
              "\n",
              "    .dataframe tbody tr th {\n",
              "        vertical-align: top;\n",
              "    }\n",
              "\n",
              "    .dataframe thead th {\n",
              "        text-align: right;\n",
              "    }\n",
              "</style>\n",
              "<table border=\"1\" class=\"dataframe\">\n",
              "  <thead>\n",
              "    <tr style=\"text-align: right;\">\n",
              "      <th></th>\n",
              "      <th>IdVenda</th>\n",
              "      <th>CodItem</th>\n",
              "      <th>Item</th>\n",
              "      <th>Qtde</th>\n",
              "      <th>DataVenda</th>\n",
              "      <th>PrecoUnit</th>\n",
              "      <th>IdCliente</th>\n",
              "      <th>Pais</th>\n",
              "      <th>Ano</th>\n",
              "      <th>Mes</th>\n",
              "      <th>Dia</th>\n",
              "      <th>ValorTotal</th>\n",
              "    </tr>\n",
              "  </thead>\n",
              "  <tbody>\n",
              "    <tr>\n",
              "      <th>0</th>\n",
              "      <td>536365</td>\n",
              "      <td>85123A</td>\n",
              "      <td>WHITE HANGING HEART T-LIGHT HOLDER</td>\n",
              "      <td>6</td>\n",
              "      <td>2016-11-29</td>\n",
              "      <td>2.55</td>\n",
              "      <td>17850</td>\n",
              "      <td>United Kingdom</td>\n",
              "      <td>2016</td>\n",
              "      <td>11</td>\n",
              "      <td>29</td>\n",
              "      <td>15.30</td>\n",
              "    </tr>\n",
              "    <tr>\n",
              "      <th>1</th>\n",
              "      <td>536365</td>\n",
              "      <td>71053</td>\n",
              "      <td>WHITE METAL LANTERN</td>\n",
              "      <td>6</td>\n",
              "      <td>2016-11-29</td>\n",
              "      <td>3.39</td>\n",
              "      <td>17850</td>\n",
              "      <td>United Kingdom</td>\n",
              "      <td>2016</td>\n",
              "      <td>11</td>\n",
              "      <td>29</td>\n",
              "      <td>20.34</td>\n",
              "    </tr>\n",
              "    <tr>\n",
              "      <th>2</th>\n",
              "      <td>536365</td>\n",
              "      <td>84406B</td>\n",
              "      <td>CREAM CUPID HEARTS COAT HANGER</td>\n",
              "      <td>8</td>\n",
              "      <td>2016-11-29</td>\n",
              "      <td>2.75</td>\n",
              "      <td>17850</td>\n",
              "      <td>United Kingdom</td>\n",
              "      <td>2016</td>\n",
              "      <td>11</td>\n",
              "      <td>29</td>\n",
              "      <td>22.00</td>\n",
              "    </tr>\n",
              "  </tbody>\n",
              "</table>\n",
              "</div>"
            ],
            "text/plain": [
              "   IdVenda CodItem                                Item  ...  Mes Dia  ValorTotal\n",
              "0   536365  85123A  WHITE HANGING HEART T-LIGHT HOLDER  ...   11  29       15.30\n",
              "1   536365   71053                 WHITE METAL LANTERN  ...   11  29       20.34\n",
              "2   536365  84406B      CREAM CUPID HEARTS COAT HANGER  ...   11  29       22.00\n",
              "\n",
              "[3 rows x 12 columns]"
            ]
          },
          "metadata": {
            "tags": []
          },
          "execution_count": 136
        }
      ]
    },
    {
      "cell_type": "code",
      "metadata": {
        "colab": {
          "base_uri": "https://localhost:8080/",
          "height": 266
        },
        "id": "t7LoHgQavrAP",
        "outputId": "ec428c85-0a0a-4538-a904-b989b4d379ac"
      },
      "source": [
        "# Criando um dataset agrupando as vendas por cliente e algumas estatisticas\n",
        "var = dados.groupby('IdCliente').agg({'Qtde': ['mean','sum','max']})\n",
        "clientes = pd.DataFrame(var)\n",
        "clientes.columns = ['Mean', 'Sum','Max']\n",
        "clientes.head(6)"
      ],
      "execution_count": 139,
      "outputs": [
        {
          "output_type": "execute_result",
          "data": {
            "text/html": [
              "<div>\n",
              "<style scoped>\n",
              "    .dataframe tbody tr th:only-of-type {\n",
              "        vertical-align: middle;\n",
              "    }\n",
              "\n",
              "    .dataframe tbody tr th {\n",
              "        vertical-align: top;\n",
              "    }\n",
              "\n",
              "    .dataframe thead th {\n",
              "        text-align: right;\n",
              "    }\n",
              "</style>\n",
              "<table border=\"1\" class=\"dataframe\">\n",
              "  <thead>\n",
              "    <tr style=\"text-align: right;\">\n",
              "      <th></th>\n",
              "      <th>Mean</th>\n",
              "      <th>Sum</th>\n",
              "      <th>Max</th>\n",
              "    </tr>\n",
              "    <tr>\n",
              "      <th>IdCliente</th>\n",
              "      <th></th>\n",
              "      <th></th>\n",
              "      <th></th>\n",
              "    </tr>\n",
              "  </thead>\n",
              "  <tbody>\n",
              "    <tr>\n",
              "      <th>12347</th>\n",
              "      <td>13.505495</td>\n",
              "      <td>2458</td>\n",
              "      <td>240</td>\n",
              "    </tr>\n",
              "    <tr>\n",
              "      <th>12348</th>\n",
              "      <td>75.516129</td>\n",
              "      <td>2341</td>\n",
              "      <td>144</td>\n",
              "    </tr>\n",
              "    <tr>\n",
              "      <th>12349</th>\n",
              "      <td>8.643836</td>\n",
              "      <td>631</td>\n",
              "      <td>36</td>\n",
              "    </tr>\n",
              "    <tr>\n",
              "      <th>12350</th>\n",
              "      <td>11.588235</td>\n",
              "      <td>197</td>\n",
              "      <td>24</td>\n",
              "    </tr>\n",
              "    <tr>\n",
              "      <th>12352</th>\n",
              "      <td>6.305882</td>\n",
              "      <td>536</td>\n",
              "      <td>16</td>\n",
              "    </tr>\n",
              "    <tr>\n",
              "      <th>12353</th>\n",
              "      <td>5.000000</td>\n",
              "      <td>20</td>\n",
              "      <td>8</td>\n",
              "    </tr>\n",
              "  </tbody>\n",
              "</table>\n",
              "</div>"
            ],
            "text/plain": [
              "                Mean   Sum  Max\n",
              "IdCliente                      \n",
              "12347      13.505495  2458  240\n",
              "12348      75.516129  2341  144\n",
              "12349       8.643836   631   36\n",
              "12350      11.588235   197   24\n",
              "12352       6.305882   536   16\n",
              "12353       5.000000    20    8"
            ]
          },
          "metadata": {
            "tags": []
          },
          "execution_count": 139
        }
      ]
    },
    {
      "cell_type": "code",
      "metadata": {
        "colab": {
          "base_uri": "https://localhost:8080/"
        },
        "id": "9geOTUgmvq9q",
        "outputId": "664642bb-677a-47cd-c3f8-31757654055d"
      },
      "source": [
        "# Passando os dados dos clientes para o formato de matriz\n",
        "matriz = clientes.values\n",
        "matriz"
      ],
      "execution_count": 140,
      "outputs": [
        {
          "output_type": "execute_result",
          "data": {
            "text/plain": [
              "array([[1.35054945e+01, 2.45800000e+03, 2.40000000e+02],\n",
              "       [7.55161290e+01, 2.34100000e+03, 1.44000000e+02],\n",
              "       [8.64383562e+00, 6.31000000e+02, 3.60000000e+01],\n",
              "       ...,\n",
              "       [8.58333333e+00, 1.03000000e+02, 4.80000000e+01],\n",
              "       [1.84788360e+00, 1.39700000e+03, 1.30000000e+01],\n",
              "       [2.26571429e+01, 1.58600000e+03, 6.00000000e+01]])"
            ]
          },
          "metadata": {
            "tags": []
          },
          "execution_count": 140
        }
      ]
    },
    {
      "cell_type": "code",
      "metadata": {
        "colab": {
          "base_uri": "https://localhost:8080/"
        },
        "id": "ulFq8ulbvq5-",
        "outputId": "694bc750-775f-4db8-ccda-28e82b70aa5c"
      },
      "source": [
        "# Escalonando os dados\n",
        "sc = StandardScaler()\n",
        "matriz = sc.fit_transform(matriz)\n",
        "matriz"
      ],
      "execution_count": 141,
      "outputs": [
        {
          "output_type": "execute_result",
          "data": {
            "text/plain": [
              "array([[-0.08575126,  0.28041615,  1.01415991],\n",
              "       [ 0.84145757,  0.25551147,  0.41726368],\n",
              "       [-0.15844481, -0.10848007, -0.25424457],\n",
              "       ...,\n",
              "       [-0.15934947, -0.22087044, -0.17963255],\n",
              "       [-0.26006072,  0.05457111, -0.39725096],\n",
              "       [ 0.05108799,  0.09480175, -0.10502052]])"
            ]
          },
          "metadata": {
            "tags": []
          },
          "execution_count": 141
        }
      ]
    },
    {
      "cell_type": "code",
      "metadata": {
        "colab": {
          "base_uri": "https://localhost:8080/",
          "height": 388
        },
        "id": "itVH2dHVvq2p",
        "outputId": "a6cca54a-353e-4be3-cf6c-6190b1f70dfa"
      },
      "source": [
        "# Escolhendo o numero de clusters pelo método Elbow utilizando K-Means\n",
        "\n",
        "ks = range(1, 11)\n",
        "inertia = [] # inertia: Soma das distâncias quadráticas intra cluster\n",
        "\n",
        "for k in ks:\n",
        "    # Criando um modelo KMeans com k clusters:\n",
        "    model = KMeans(n_clusters= k)\n",
        "    \n",
        "    # Fitando os dados no modelo\n",
        "    model.fit(matriz)\n",
        "    \n",
        "    # Adicionado os resultados da inertia na sua lista\n",
        "    inertia.append(model.inertia_)\n",
        "    \n",
        "# Gráfico Elbow\n",
        "plt.figure(figsize=(15,6))\n",
        "plt.plot(ks, inertia, '-o')\n",
        "plt.xlabel('Num. de clusters')\n",
        "plt.ylabel('Soma das distâncias Q intra clusters')\n",
        "plt.xticks(ks)\n",
        "plt.show()"
      ],
      "execution_count": 142,
      "outputs": [
        {
          "output_type": "display_data",
          "data": {
            "image/png": "[encoded data removed]",
            "text/plain": [
              "<Figure size 1080x432 with 1 Axes>"
            ]
          },
          "metadata": {
            "tags": [],
            "needs_background": "light"
          }
        }
      ]
    },
    {
      "cell_type": "code",
      "metadata": {
        "colab": {
          "base_uri": "https://localhost:8080/"
        },
        "id": "6I6HMtgrvqz_",
        "outputId": "9d4c332e-52a6-4337-939b-15c465bf2df8"
      },
      "source": [
        "#Criando um modelo\n",
        "modelo = KMeans(n_clusters=4)\n",
        "modelo.fit(matriz)"
      ],
      "execution_count": 143,
      "outputs": [
        {
          "output_type": "execute_result",
          "data": {
            "text/plain": [
              "KMeans(algorithm='auto', copy_x=True, init='k-means++', max_iter=300,\n",
              "       n_clusters=4, n_init=10, n_jobs=None, precompute_distances='auto',\n",
              "       random_state=None, tol=0.0001, verbose=0)"
            ]
          },
          "metadata": {
            "tags": []
          },
          "execution_count": 143
        }
      ]
    },
    {
      "cell_type": "code",
      "metadata": {
        "colab": {
          "base_uri": "https://localhost:8080/",
          "height": 235
        },
        "id": "khhcz-esvg3n",
        "outputId": "a7418b3f-4102-41b7-a20f-479c978f19d9"
      },
      "source": [
        "# Adicionando os clusters na tabela de clientes\n",
        "clientes['Categoria'] = modelo.predict(matriz)\n",
        "clientes.head()"
      ],
      "execution_count": 144,
      "outputs": [
        {
          "output_type": "execute_result",
          "data": {
            "text/html": [
              "<div>\n",
              "<style scoped>\n",
              "    .dataframe tbody tr th:only-of-type {\n",
              "        vertical-align: middle;\n",
              "    }\n",
              "\n",
              "    .dataframe tbody tr th {\n",
              "        vertical-align: top;\n",
              "    }\n",
              "\n",
              "    .dataframe thead th {\n",
              "        text-align: right;\n",
              "    }\n",
              "</style>\n",
              "<table border=\"1\" class=\"dataframe\">\n",
              "  <thead>\n",
              "    <tr style=\"text-align: right;\">\n",
              "      <th></th>\n",
              "      <th>Mean</th>\n",
              "      <th>Sum</th>\n",
              "      <th>Max</th>\n",
              "      <th>Categoria</th>\n",
              "    </tr>\n",
              "    <tr>\n",
              "      <th>IdCliente</th>\n",
              "      <th></th>\n",
              "      <th></th>\n",
              "      <th></th>\n",
              "      <th></th>\n",
              "    </tr>\n",
              "  </thead>\n",
              "  <tbody>\n",
              "    <tr>\n",
              "      <th>12347</th>\n",
              "      <td>13.505495</td>\n",
              "      <td>2458</td>\n",
              "      <td>240</td>\n",
              "      <td>0</td>\n",
              "    </tr>\n",
              "    <tr>\n",
              "      <th>12348</th>\n",
              "      <td>75.516129</td>\n",
              "      <td>2341</td>\n",
              "      <td>144</td>\n",
              "      <td>0</td>\n",
              "    </tr>\n",
              "    <tr>\n",
              "      <th>12349</th>\n",
              "      <td>8.643836</td>\n",
              "      <td>631</td>\n",
              "      <td>36</td>\n",
              "      <td>0</td>\n",
              "    </tr>\n",
              "    <tr>\n",
              "      <th>12350</th>\n",
              "      <td>11.588235</td>\n",
              "      <td>197</td>\n",
              "      <td>24</td>\n",
              "      <td>0</td>\n",
              "    </tr>\n",
              "    <tr>\n",
              "      <th>12352</th>\n",
              "      <td>6.305882</td>\n",
              "      <td>536</td>\n",
              "      <td>16</td>\n",
              "      <td>0</td>\n",
              "    </tr>\n",
              "  </tbody>\n",
              "</table>\n",
              "</div>"
            ],
            "text/plain": [
              "                Mean   Sum  Max  Categoria\n",
              "IdCliente                                 \n",
              "12347      13.505495  2458  240          0\n",
              "12348      75.516129  2341  144          0\n",
              "12349       8.643836   631   36          0\n",
              "12350      11.588235   197   24          0\n",
              "12352       6.305882   536   16          0"
            ]
          },
          "metadata": {
            "tags": []
          },
          "execution_count": 144
        }
      ]
    },
    {
      "cell_type": "code",
      "metadata": {
        "id": "OXpt0exMw2ZF"
      },
      "source": [
        "# Renomeando os clusters\n",
        "clientes['Categoria'] = clientes['Categoria'].map({0: 'bronze', 3: 'prata', 1: 'ouro', 2:'platina'})"
      ],
      "execution_count": 157,
      "outputs": []
    },
    {
      "cell_type": "code",
      "metadata": {
        "colab": {
          "base_uri": "https://localhost:8080/"
        },
        "id": "vHtR45yxw2cE",
        "outputId": "c4b69ed8-424c-45d4-9e39-4afbaebf23d3"
      },
      "source": [
        "# Grafico\n",
        "clientes['Categoria'].value_counts()#.plot(kind='barh');"
      ],
      "execution_count": 158,
      "outputs": [
        {
          "output_type": "execute_result",
          "data": {
            "text/plain": [
              "bronze     4258\n",
              "prata        61\n",
              "ouro         10\n",
              "platina       6\n",
              "Name: Categoria, dtype: int64"
            ]
          },
          "metadata": {
            "tags": []
          },
          "execution_count": 158
        }
      ]
    },
    {
      "cell_type": "markdown",
      "metadata": {
        "id": "-2CjKTgbyPmb"
      },
      "source": [
        "Os clientes que compram na média um volume elevado de itens são os platinados."
      ]
    },
    {
      "cell_type": "markdown",
      "metadata": {
        "id": "LabukhrbXUiv"
      },
      "source": [
        "### Modelo x\n",
        "\n",
        "Separndo clientes de acordo com o tipo de produto"
      ]
    },
    {
      "cell_type": "code",
      "metadata": {
        "id": "qwtWCzvnbLPn"
      },
      "source": [
        "dados['ItemFat']= pd.factorize(dados['Item'])[0]\n",
        "dados['PaisFat']=pd.factorize(dados['Pais'])[0]"
      ],
      "execution_count": 25,
      "outputs": []
    },
    {
      "cell_type": "code",
      "metadata": {
        "colab": {
          "base_uri": "https://localhost:8080/",
          "height": 142
        },
        "id": "a5SU4z3AcFzV",
        "outputId": "6ab1f004-9e93-4ca8-e957-65e92e296de6"
      },
      "source": [
        "dados.head(3)"
      ],
      "execution_count": 26,
      "outputs": [
        {
          "output_type": "execute_result",
          "data": {
            "text/html": [
              "<div>\n",
              "<style scoped>\n",
              "    .dataframe tbody tr th:only-of-type {\n",
              "        vertical-align: middle;\n",
              "    }\n",
              "\n",
              "    .dataframe tbody tr th {\n",
              "        vertical-align: top;\n",
              "    }\n",
              "\n",
              "    .dataframe thead th {\n",
              "        text-align: right;\n",
              "    }\n",
              "</style>\n",
              "<table border=\"1\" class=\"dataframe\">\n",
              "  <thead>\n",
              "    <tr style=\"text-align: right;\">\n",
              "      <th></th>\n",
              "      <th>IdVenda</th>\n",
              "      <th>CodItem</th>\n",
              "      <th>Item</th>\n",
              "      <th>Qtde</th>\n",
              "      <th>DataVenda</th>\n",
              "      <th>PrecoUnit</th>\n",
              "      <th>IdCliente</th>\n",
              "      <th>Pais</th>\n",
              "      <th>Ano</th>\n",
              "      <th>Mes</th>\n",
              "      <th>Dia</th>\n",
              "      <th>ValorTotal</th>\n",
              "      <th>ItemFat</th>\n",
              "      <th>PaisFat</th>\n",
              "    </tr>\n",
              "  </thead>\n",
              "  <tbody>\n",
              "    <tr>\n",
              "      <th>0</th>\n",
              "      <td>536365</td>\n",
              "      <td>85123A</td>\n",
              "      <td>WHITE HANGING HEART T-LIGHT HOLDER</td>\n",
              "      <td>6</td>\n",
              "      <td>2016-11-29</td>\n",
              "      <td>2.55</td>\n",
              "      <td>17850</td>\n",
              "      <td>United Kingdom</td>\n",
              "      <td>2016</td>\n",
              "      <td>11</td>\n",
              "      <td>29</td>\n",
              "      <td>15.30</td>\n",
              "      <td>0</td>\n",
              "      <td>0</td>\n",
              "    </tr>\n",
              "    <tr>\n",
              "      <th>1</th>\n",
              "      <td>536365</td>\n",
              "      <td>71053</td>\n",
              "      <td>WHITE METAL LANTERN</td>\n",
              "      <td>6</td>\n",
              "      <td>2016-11-29</td>\n",
              "      <td>3.39</td>\n",
              "      <td>17850</td>\n",
              "      <td>United Kingdom</td>\n",
              "      <td>2016</td>\n",
              "      <td>11</td>\n",
              "      <td>29</td>\n",
              "      <td>20.34</td>\n",
              "      <td>1</td>\n",
              "      <td>0</td>\n",
              "    </tr>\n",
              "    <tr>\n",
              "      <th>2</th>\n",
              "      <td>536365</td>\n",
              "      <td>84406B</td>\n",
              "      <td>CREAM CUPID HEARTS COAT HANGER</td>\n",
              "      <td>8</td>\n",
              "      <td>2016-11-29</td>\n",
              "      <td>2.75</td>\n",
              "      <td>17850</td>\n",
              "      <td>United Kingdom</td>\n",
              "      <td>2016</td>\n",
              "      <td>11</td>\n",
              "      <td>29</td>\n",
              "      <td>22.00</td>\n",
              "      <td>2</td>\n",
              "      <td>0</td>\n",
              "    </tr>\n",
              "  </tbody>\n",
              "</table>\n",
              "</div>"
            ],
            "text/plain": [
              "   IdVenda CodItem  ... ItemFat  PaisFat\n",
              "0   536365  85123A  ...       0        0\n",
              "1   536365   71053  ...       1        0\n",
              "2   536365  84406B  ...       2        0\n",
              "\n",
              "[3 rows x 14 columns]"
            ]
          },
          "metadata": {
            "tags": []
          },
          "execution_count": 26
        }
      ]
    },
    {
      "cell_type": "code",
      "metadata": {
        "colab": {
          "base_uri": "https://localhost:8080/",
          "height": 419
        },
        "id": "EMU_o2R0cJgl",
        "outputId": "2702a759-23f6-4e23-9ceb-50338eaefab2"
      },
      "source": [
        "modelo2 = dados[['IdVenda','Qtde', 'IdCliente','Ano', 'ValorTotal', 'ItemFat', 'PaisFat']]\n",
        "modelo2"
      ],
      "execution_count": 41,
      "outputs": [
        {
          "output_type": "execute_result",
          "data": {
            "text/html": [
              "<div>\n",
              "<style scoped>\n",
              "    .dataframe tbody tr th:only-of-type {\n",
              "        vertical-align: middle;\n",
              "    }\n",
              "\n",
              "    .dataframe tbody tr th {\n",
              "        vertical-align: top;\n",
              "    }\n",
              "\n",
              "    .dataframe thead th {\n",
              "        text-align: right;\n",
              "    }\n",
              "</style>\n",
              "<table border=\"1\" class=\"dataframe\">\n",
              "  <thead>\n",
              "    <tr style=\"text-align: right;\">\n",
              "      <th></th>\n",
              "      <th>IdVenda</th>\n",
              "      <th>Qtde</th>\n",
              "      <th>IdCliente</th>\n",
              "      <th>Ano</th>\n",
              "      <th>ValorTotal</th>\n",
              "      <th>ItemFat</th>\n",
              "      <th>PaisFat</th>\n",
              "    </tr>\n",
              "  </thead>\n",
              "  <tbody>\n",
              "    <tr>\n",
              "      <th>0</th>\n",
              "      <td>536365</td>\n",
              "      <td>6</td>\n",
              "      <td>17850</td>\n",
              "      <td>2016</td>\n",
              "      <td>15.30</td>\n",
              "      <td>0</td>\n",
              "      <td>0</td>\n",
              "    </tr>\n",
              "    <tr>\n",
              "      <th>1</th>\n",
              "      <td>536365</td>\n",
              "      <td>6</td>\n",
              "      <td>17850</td>\n",
              "      <td>2016</td>\n",
              "      <td>20.34</td>\n",
              "      <td>1</td>\n",
              "      <td>0</td>\n",
              "    </tr>\n",
              "    <tr>\n",
              "      <th>2</th>\n",
              "      <td>536365</td>\n",
              "      <td>8</td>\n",
              "      <td>17850</td>\n",
              "      <td>2016</td>\n",
              "      <td>22.00</td>\n",
              "      <td>2</td>\n",
              "      <td>0</td>\n",
              "    </tr>\n",
              "    <tr>\n",
              "      <th>3</th>\n",
              "      <td>536365</td>\n",
              "      <td>6</td>\n",
              "      <td>17850</td>\n",
              "      <td>2016</td>\n",
              "      <td>20.34</td>\n",
              "      <td>3</td>\n",
              "      <td>0</td>\n",
              "    </tr>\n",
              "    <tr>\n",
              "      <th>4</th>\n",
              "      <td>536365</td>\n",
              "      <td>6</td>\n",
              "      <td>17850</td>\n",
              "      <td>2016</td>\n",
              "      <td>20.34</td>\n",
              "      <td>4</td>\n",
              "      <td>0</td>\n",
              "    </tr>\n",
              "    <tr>\n",
              "      <th>...</th>\n",
              "      <td>...</td>\n",
              "      <td>...</td>\n",
              "      <td>...</td>\n",
              "      <td>...</td>\n",
              "      <td>...</td>\n",
              "      <td>...</td>\n",
              "      <td>...</td>\n",
              "    </tr>\n",
              "    <tr>\n",
              "      <th>397841</th>\n",
              "      <td>581587</td>\n",
              "      <td>12</td>\n",
              "      <td>12680</td>\n",
              "      <td>2017</td>\n",
              "      <td>10.20</td>\n",
              "      <td>1842</td>\n",
              "      <td>1</td>\n",
              "    </tr>\n",
              "    <tr>\n",
              "      <th>397842</th>\n",
              "      <td>581587</td>\n",
              "      <td>6</td>\n",
              "      <td>12680</td>\n",
              "      <td>2017</td>\n",
              "      <td>12.60</td>\n",
              "      <td>411</td>\n",
              "      <td>1</td>\n",
              "    </tr>\n",
              "    <tr>\n",
              "      <th>397843</th>\n",
              "      <td>581587</td>\n",
              "      <td>4</td>\n",
              "      <td>12680</td>\n",
              "      <td>2017</td>\n",
              "      <td>16.60</td>\n",
              "      <td>2925</td>\n",
              "      <td>1</td>\n",
              "    </tr>\n",
              "    <tr>\n",
              "      <th>397844</th>\n",
              "      <td>581587</td>\n",
              "      <td>4</td>\n",
              "      <td>12680</td>\n",
              "      <td>2017</td>\n",
              "      <td>16.60</td>\n",
              "      <td>2928</td>\n",
              "      <td>1</td>\n",
              "    </tr>\n",
              "    <tr>\n",
              "      <th>397845</th>\n",
              "      <td>581587</td>\n",
              "      <td>3</td>\n",
              "      <td>12680</td>\n",
              "      <td>2017</td>\n",
              "      <td>14.85</td>\n",
              "      <td>2400</td>\n",
              "      <td>1</td>\n",
              "    </tr>\n",
              "  </tbody>\n",
              "</table>\n",
              "<p>397846 rows × 7 columns</p>\n",
              "</div>"
            ],
            "text/plain": [
              "        IdVenda  Qtde  IdCliente   Ano  ValorTotal  ItemFat  PaisFat\n",
              "0        536365     6      17850  2016       15.30        0        0\n",
              "1        536365     6      17850  2016       20.34        1        0\n",
              "2        536365     8      17850  2016       22.00        2        0\n",
              "3        536365     6      17850  2016       20.34        3        0\n",
              "4        536365     6      17850  2016       20.34        4        0\n",
              "...         ...   ...        ...   ...         ...      ...      ...\n",
              "397841   581587    12      12680  2017       10.20     1842        1\n",
              "397842   581587     6      12680  2017       12.60      411        1\n",
              "397843   581587     4      12680  2017       16.60     2925        1\n",
              "397844   581587     4      12680  2017       16.60     2928        1\n",
              "397845   581587     3      12680  2017       14.85     2400        1\n",
              "\n",
              "[397846 rows x 7 columns]"
            ]
          },
          "metadata": {
            "tags": []
          },
          "execution_count": 41
        }
      ]
    },
    {
      "cell_type": "code",
      "metadata": {
        "colab": {
          "base_uri": "https://localhost:8080/"
        },
        "id": "RnHgP3XKXUUZ",
        "outputId": "466c87c3-ef8c-4f44-f4dd-8a241a71d39c"
      },
      "source": [
        "# Passando os dados dos clientes para o formato de matriz\n",
        "modelo2m = modelo2.values\n",
        "modelo2m"
      ],
      "execution_count": 42,
      "outputs": [
        {
          "output_type": "execute_result",
          "data": {
            "text/plain": [
              "array([[5.36365e+05, 6.00000e+00, 1.78500e+04, ..., 1.53000e+01,\n",
              "        0.00000e+00, 0.00000e+00],\n",
              "       [5.36365e+05, 6.00000e+00, 1.78500e+04, ..., 2.03400e+01,\n",
              "        1.00000e+00, 0.00000e+00],\n",
              "       [5.36365e+05, 8.00000e+00, 1.78500e+04, ..., 2.20000e+01,\n",
              "        2.00000e+00, 0.00000e+00],\n",
              "       ...,\n",
              "       [5.81587e+05, 4.00000e+00, 1.26800e+04, ..., 1.66000e+01,\n",
              "        2.92500e+03, 1.00000e+00],\n",
              "       [5.81587e+05, 4.00000e+00, 1.26800e+04, ..., 1.66000e+01,\n",
              "        2.92800e+03, 1.00000e+00],\n",
              "       [5.81587e+05, 3.00000e+00, 1.26800e+04, ..., 1.48500e+01,\n",
              "        2.40000e+03, 1.00000e+00]])"
            ]
          },
          "metadata": {
            "tags": []
          },
          "execution_count": 42
        }
      ]
    },
    {
      "cell_type": "code",
      "metadata": {
        "id": "iHgLaoWH2aXk",
        "colab": {
          "base_uri": "https://localhost:8080/"
        },
        "outputId": "910ff35b-4b0b-4661-ae82-b25a93059ebd"
      },
      "source": [
        "# Escalonando os dados\n",
        "sc = StandardScaler()\n",
        "modelo2m = sc.fit_transform(modelo2m)\n",
        "modelo2m"
      ],
      "execution_count": 43,
      "outputs": [
        {
          "output_type": "execute_result",
          "data": {
            "text/plain": [
              "array([[-1.85049372, -0.17303048,  1.49175372, ..., -0.09546186,\n",
              "        -1.13044773, -0.25061234],\n",
              "       [-1.85049372, -0.17303048,  1.49175372, ..., -0.01632312,\n",
              "        -1.12960507, -0.25061234],\n",
              "       [-1.85049372, -0.1191982 ,  1.49175372, ...,  0.00974242,\n",
              "        -1.12876241, -0.25061234],\n",
              "       ...,\n",
              "       [ 1.60001412, -0.22686276, -1.52610681, ..., -0.07504909,\n",
              "         1.33433447,  0.08294107],\n",
              "       [ 1.60001412, -0.22686276, -1.52610681, ..., -0.07504909,\n",
              "         1.33686245,  0.08294107],\n",
              "       [ 1.60001412, -0.2537789 , -1.52610681, ..., -0.10252782,\n",
              "         0.89193766,  0.08294107]])"
            ]
          },
          "metadata": {
            "tags": []
          },
          "execution_count": 43
        }
      ]
    },
    {
      "cell_type": "code",
      "metadata": {
        "colab": {
          "base_uri": "https://localhost:8080/",
          "height": 399
        },
        "id": "fK4D61MidQYR",
        "outputId": "e4f55df9-3c50-4f4e-fe08-68f7213cb0b6"
      },
      "source": [
        "# Escolhendo o numero de clusters pelo método Elbow utilizando K-Means\n",
        "\n",
        "ks = range(1, 11)\n",
        "inertia = [] # inertia: Soma das distâncias quadráticas intra cluster\n",
        "\n",
        "for k in ks:\n",
        "    # Criando um modelo KMeans com k clusters:\n",
        "    model = KMeans(n_clusters= k)\n",
        "    \n",
        "    # Fitando os dados no modelo\n",
        "    model.fit(modelo2m)\n",
        "    \n",
        "    # Adicionado os resultados da inertia na sua lista\n",
        "    inertia.append(model.inertia_)\n",
        "    \n",
        "# Gráfico Elbow\n",
        "plt.figure(figsize=(15,6))\n",
        "plt.plot(ks, inertia, '-o')\n",
        "plt.xlabel('Num. de clusters')\n",
        "plt.ylabel('Soma das distâncias Q intra clusters')\n",
        "plt.xticks(ks)\n",
        "plt.show()"
      ],
      "execution_count": 48,
      "outputs": [
        {
          "output_type": "display_data",
          "data": {
            "image/png": "[encoded data removed]",
            "text/plain": [
              "<Figure size 1080x432 with 1 Axes>"
            ]
          },
          "metadata": {
            "tags": [],
            "needs_background": "light"
          }
        }
      ]
    },
    {
      "cell_type": "code",
      "metadata": {
        "colab": {
          "base_uri": "https://localhost:8080/"
        },
        "id": "K4_7loTEdQVf",
        "outputId": "24e1b8da-f773-4bd2-fbd0-ae8ee489b2d5"
      },
      "source": [
        "#Criando um modelo\n",
        "modelo = KMeans(n_clusters=5)\n",
        "modelo.fit(modelo2m)"
      ],
      "execution_count": 45,
      "outputs": [
        {
          "output_type": "execute_result",
          "data": {
            "text/plain": [
              "KMeans(algorithm='auto', copy_x=True, init='k-means++', max_iter=300,\n",
              "       n_clusters=5, n_init=10, n_jobs=None, precompute_distances='auto',\n",
              "       random_state=None, tol=0.0001, verbose=0)"
            ]
          },
          "metadata": {
            "tags": []
          },
          "execution_count": 45
        }
      ]
    },
    {
      "cell_type": "code",
      "metadata": {
        "colab": {
          "base_uri": "https://localhost:8080/",
          "height": 306
        },
        "id": "6qxblphVdQSm",
        "outputId": "dd555fd6-9f96-4bc5-8e7b-2331a6ea463e"
      },
      "source": [
        "# Adicionando os clusters na tabela de clientes\n",
        "modelo2['Categoria'] = modelo.predict(modelo2m)\n",
        "modelo2.head()"
      ],
      "execution_count": 46,
      "outputs": [
        {
          "output_type": "stream",
          "text": [
            "/usr/local/lib/python3.7/dist-packages/ipykernel_launcher.py:2: SettingWithCopyWarning: \n",
            "A value is trying to be set on a copy of a slice from a DataFrame.\n",
            "Try using .loc[row_indexer,col_indexer] = value instead\n",
            "\n",
            "See the caveats in the documentation: https://pandas.pydata.org/pandas-docs/stable/user_guide/indexing.html#returning-a-view-versus-a-copy\n",
            "  \n"
          ],
          "name": "stderr"
        },
        {
          "output_type": "execute_result",
          "data": {
            "text/html": [
              "<div>\n",
              "<style scoped>\n",
              "    .dataframe tbody tr th:only-of-type {\n",
              "        vertical-align: middle;\n",
              "    }\n",
              "\n",
              "    .dataframe tbody tr th {\n",
              "        vertical-align: top;\n",
              "    }\n",
              "\n",
              "    .dataframe thead th {\n",
              "        text-align: right;\n",
              "    }\n",
              "</style>\n",
              "<table border=\"1\" class=\"dataframe\">\n",
              "  <thead>\n",
              "    <tr style=\"text-align: right;\">\n",
              "      <th></th>\n",
              "      <th>IdVenda</th>\n",
              "      <th>Qtde</th>\n",
              "      <th>IdCliente</th>\n",
              "      <th>Ano</th>\n",
              "      <th>ValorTotal</th>\n",
              "      <th>ItemFat</th>\n",
              "      <th>PaisFat</th>\n",
              "      <th>Categoria</th>\n",
              "    </tr>\n",
              "  </thead>\n",
              "  <tbody>\n",
              "    <tr>\n",
              "      <th>0</th>\n",
              "      <td>536365</td>\n",
              "      <td>6</td>\n",
              "      <td>17850</td>\n",
              "      <td>2016</td>\n",
              "      <td>15.30</td>\n",
              "      <td>0</td>\n",
              "      <td>0</td>\n",
              "      <td>2</td>\n",
              "    </tr>\n",
              "    <tr>\n",
              "      <th>1</th>\n",
              "      <td>536365</td>\n",
              "      <td>6</td>\n",
              "      <td>17850</td>\n",
              "      <td>2016</td>\n",
              "      <td>20.34</td>\n",
              "      <td>1</td>\n",
              "      <td>0</td>\n",
              "      <td>2</td>\n",
              "    </tr>\n",
              "    <tr>\n",
              "      <th>2</th>\n",
              "      <td>536365</td>\n",
              "      <td>8</td>\n",
              "      <td>17850</td>\n",
              "      <td>2016</td>\n",
              "      <td>22.00</td>\n",
              "      <td>2</td>\n",
              "      <td>0</td>\n",
              "      <td>2</td>\n",
              "    </tr>\n",
              "    <tr>\n",
              "      <th>3</th>\n",
              "      <td>536365</td>\n",
              "      <td>6</td>\n",
              "      <td>17850</td>\n",
              "      <td>2016</td>\n",
              "      <td>20.34</td>\n",
              "      <td>3</td>\n",
              "      <td>0</td>\n",
              "      <td>2</td>\n",
              "    </tr>\n",
              "    <tr>\n",
              "      <th>4</th>\n",
              "      <td>536365</td>\n",
              "      <td>6</td>\n",
              "      <td>17850</td>\n",
              "      <td>2016</td>\n",
              "      <td>20.34</td>\n",
              "      <td>4</td>\n",
              "      <td>0</td>\n",
              "      <td>2</td>\n",
              "    </tr>\n",
              "  </tbody>\n",
              "</table>\n",
              "</div>"
            ],
            "text/plain": [
              "   IdVenda  Qtde  IdCliente   Ano  ValorTotal  ItemFat  PaisFat  Categoria\n",
              "0   536365     6      17850  2016       15.30        0        0          2\n",
              "1   536365     6      17850  2016       20.34        1        0          2\n",
              "2   536365     8      17850  2016       22.00        2        0          2\n",
              "3   536365     6      17850  2016       20.34        3        0          2\n",
              "4   536365     6      17850  2016       20.34        4        0          2"
            ]
          },
          "metadata": {
            "tags": []
          },
          "execution_count": 46
        }
      ]
    },
    {
      "cell_type": "code",
      "metadata": {
        "colab": {
          "base_uri": "https://localhost:8080/"
        },
        "id": "DdPp1YQdgcV7",
        "outputId": "4a658dc7-e8f0-4281-a284-b74582814098"
      },
      "source": [
        "modelo2.shape"
      ],
      "execution_count": 47,
      "outputs": [
        {
          "output_type": "execute_result",
          "data": {
            "text/plain": [
              "(397846, 8)"
            ]
          },
          "metadata": {
            "tags": []
          },
          "execution_count": 47
        }
      ]
    },
    {
      "cell_type": "code",
      "metadata": {
        "colab": {
          "base_uri": "https://localhost:8080/",
          "height": 419
        },
        "id": "gKQtWzUMgj0v",
        "outputId": "40c201d3-2e42-433e-8e5f-ac8d3f2ec50a"
      },
      "source": [
        "dados['Categoria'] = modelo2['Categoria']\n",
        "dados"
      ],
      "execution_count": 77,
      "outputs": [
        {
          "output_type": "execute_result",
          "data": {
            "text/html": [
              "<div>\n",
              "<style scoped>\n",
              "    .dataframe tbody tr th:only-of-type {\n",
              "        vertical-align: middle;\n",
              "    }\n",
              "\n",
              "    .dataframe tbody tr th {\n",
              "        vertical-align: top;\n",
              "    }\n",
              "\n",
              "    .dataframe thead th {\n",
              "        text-align: right;\n",
              "    }\n",
              "</style>\n",
              "<table border=\"1\" class=\"dataframe\">\n",
              "  <thead>\n",
              "    <tr style=\"text-align: right;\">\n",
              "      <th></th>\n",
              "      <th>IdVenda</th>\n",
              "      <th>CodItem</th>\n",
              "      <th>Item</th>\n",
              "      <th>Qtde</th>\n",
              "      <th>DataVenda</th>\n",
              "      <th>PrecoUnit</th>\n",
              "      <th>IdCliente</th>\n",
              "      <th>Pais</th>\n",
              "      <th>Ano</th>\n",
              "      <th>Mes</th>\n",
              "      <th>Dia</th>\n",
              "      <th>ValorTotal</th>\n",
              "      <th>ItemFat</th>\n",
              "      <th>PaisFat</th>\n",
              "      <th>Categoria</th>\n",
              "    </tr>\n",
              "  </thead>\n",
              "  <tbody>\n",
              "    <tr>\n",
              "      <th>0</th>\n",
              "      <td>536365</td>\n",
              "      <td>85123A</td>\n",
              "      <td>WHITE HANGING HEART T-LIGHT HOLDER</td>\n",
              "      <td>6</td>\n",
              "      <td>2016-11-29</td>\n",
              "      <td>2.55</td>\n",
              "      <td>17850</td>\n",
              "      <td>United Kingdom</td>\n",
              "      <td>2016</td>\n",
              "      <td>11</td>\n",
              "      <td>29</td>\n",
              "      <td>15.30</td>\n",
              "      <td>0</td>\n",
              "      <td>0</td>\n",
              "      <td>2</td>\n",
              "    </tr>\n",
              "    <tr>\n",
              "      <th>1</th>\n",
              "      <td>536365</td>\n",
              "      <td>71053</td>\n",
              "      <td>WHITE METAL LANTERN</td>\n",
              "      <td>6</td>\n",
              "      <td>2016-11-29</td>\n",
              "      <td>3.39</td>\n",
              "      <td>17850</td>\n",
              "      <td>United Kingdom</td>\n",
              "      <td>2016</td>\n",
              "      <td>11</td>\n",
              "      <td>29</td>\n",
              "      <td>20.34</td>\n",
              "      <td>1</td>\n",
              "      <td>0</td>\n",
              "      <td>2</td>\n",
              "    </tr>\n",
              "    <tr>\n",
              "      <th>2</th>\n",
              "      <td>536365</td>\n",
              "      <td>84406B</td>\n",
              "      <td>CREAM CUPID HEARTS COAT HANGER</td>\n",
              "      <td>8</td>\n",
              "      <td>2016-11-29</td>\n",
              "      <td>2.75</td>\n",
              "      <td>17850</td>\n",
              "      <td>United Kingdom</td>\n",
              "      <td>2016</td>\n",
              "      <td>11</td>\n",
              "      <td>29</td>\n",
              "      <td>22.00</td>\n",
              "      <td>2</td>\n",
              "      <td>0</td>\n",
              "      <td>2</td>\n",
              "    </tr>\n",
              "    <tr>\n",
              "      <th>3</th>\n",
              "      <td>536365</td>\n",
              "      <td>84029G</td>\n",
              "      <td>KNITTED UNION FLAG HOT WATER BOTTLE</td>\n",
              "      <td>6</td>\n",
              "      <td>2016-11-29</td>\n",
              "      <td>3.39</td>\n",
              "      <td>17850</td>\n",
              "      <td>United Kingdom</td>\n",
              "      <td>2016</td>\n",
              "      <td>11</td>\n",
              "      <td>29</td>\n",
              "      <td>20.34</td>\n",
              "      <td>3</td>\n",
              "      <td>0</td>\n",
              "      <td>2</td>\n",
              "    </tr>\n",
              "    <tr>\n",
              "      <th>4</th>\n",
              "      <td>536365</td>\n",
              "      <td>84029E</td>\n",
              "      <td>RED WOOLLY HOTTIE WHITE HEART.</td>\n",
              "      <td>6</td>\n",
              "      <td>2016-11-29</td>\n",
              "      <td>3.39</td>\n",
              "      <td>17850</td>\n",
              "      <td>United Kingdom</td>\n",
              "      <td>2016</td>\n",
              "      <td>11</td>\n",
              "      <td>29</td>\n",
              "      <td>20.34</td>\n",
              "      <td>4</td>\n",
              "      <td>0</td>\n",
              "      <td>2</td>\n",
              "    </tr>\n",
              "    <tr>\n",
              "      <th>...</th>\n",
              "      <td>...</td>\n",
              "      <td>...</td>\n",
              "      <td>...</td>\n",
              "      <td>...</td>\n",
              "      <td>...</td>\n",
              "      <td>...</td>\n",
              "      <td>...</td>\n",
              "      <td>...</td>\n",
              "      <td>...</td>\n",
              "      <td>...</td>\n",
              "      <td>...</td>\n",
              "      <td>...</td>\n",
              "      <td>...</td>\n",
              "      <td>...</td>\n",
              "      <td>...</td>\n",
              "    </tr>\n",
              "    <tr>\n",
              "      <th>397841</th>\n",
              "      <td>581587</td>\n",
              "      <td>22613</td>\n",
              "      <td>PACK OF 20 SPACEBOY NAPKINS</td>\n",
              "      <td>12</td>\n",
              "      <td>2017-12-07</td>\n",
              "      <td>0.85</td>\n",
              "      <td>12680</td>\n",
              "      <td>France</td>\n",
              "      <td>2017</td>\n",
              "      <td>12</td>\n",
              "      <td>7</td>\n",
              "      <td>10.20</td>\n",
              "      <td>1842</td>\n",
              "      <td>1</td>\n",
              "      <td>0</td>\n",
              "    </tr>\n",
              "    <tr>\n",
              "      <th>397842</th>\n",
              "      <td>581587</td>\n",
              "      <td>22899</td>\n",
              "      <td>CHILDREN'S APRON DOLLY GIRL</td>\n",
              "      <td>6</td>\n",
              "      <td>2017-12-07</td>\n",
              "      <td>2.10</td>\n",
              "      <td>12680</td>\n",
              "      <td>France</td>\n",
              "      <td>2017</td>\n",
              "      <td>12</td>\n",
              "      <td>7</td>\n",
              "      <td>12.60</td>\n",
              "      <td>411</td>\n",
              "      <td>1</td>\n",
              "      <td>1</td>\n",
              "    </tr>\n",
              "    <tr>\n",
              "      <th>397843</th>\n",
              "      <td>581587</td>\n",
              "      <td>23254</td>\n",
              "      <td>CHILDRENS CUTLERY DOLLY GIRL</td>\n",
              "      <td>4</td>\n",
              "      <td>2017-12-07</td>\n",
              "      <td>4.15</td>\n",
              "      <td>12680</td>\n",
              "      <td>France</td>\n",
              "      <td>2017</td>\n",
              "      <td>12</td>\n",
              "      <td>7</td>\n",
              "      <td>16.60</td>\n",
              "      <td>2925</td>\n",
              "      <td>1</td>\n",
              "      <td>0</td>\n",
              "    </tr>\n",
              "    <tr>\n",
              "      <th>397844</th>\n",
              "      <td>581587</td>\n",
              "      <td>23255</td>\n",
              "      <td>CHILDRENS CUTLERY CIRCUS PARADE</td>\n",
              "      <td>4</td>\n",
              "      <td>2017-12-07</td>\n",
              "      <td>4.15</td>\n",
              "      <td>12680</td>\n",
              "      <td>France</td>\n",
              "      <td>2017</td>\n",
              "      <td>12</td>\n",
              "      <td>7</td>\n",
              "      <td>16.60</td>\n",
              "      <td>2928</td>\n",
              "      <td>1</td>\n",
              "      <td>0</td>\n",
              "    </tr>\n",
              "    <tr>\n",
              "      <th>397845</th>\n",
              "      <td>581587</td>\n",
              "      <td>22138</td>\n",
              "      <td>BAKING SET 9 PIECE RETROSPOT</td>\n",
              "      <td>3</td>\n",
              "      <td>2017-12-07</td>\n",
              "      <td>4.95</td>\n",
              "      <td>12680</td>\n",
              "      <td>France</td>\n",
              "      <td>2017</td>\n",
              "      <td>12</td>\n",
              "      <td>7</td>\n",
              "      <td>14.85</td>\n",
              "      <td>2400</td>\n",
              "      <td>1</td>\n",
              "      <td>0</td>\n",
              "    </tr>\n",
              "  </tbody>\n",
              "</table>\n",
              "<p>397846 rows × 15 columns</p>\n",
              "</div>"
            ],
            "text/plain": [
              "        IdVenda CodItem  ... PaisFat  Categoria\n",
              "0        536365  85123A  ...       0          2\n",
              "1        536365   71053  ...       0          2\n",
              "2        536365  84406B  ...       0          2\n",
              "3        536365  84029G  ...       0          2\n",
              "4        536365  84029E  ...       0          2\n",
              "...         ...     ...  ...     ...        ...\n",
              "397841   581587   22613  ...       1          0\n",
              "397842   581587   22899  ...       1          1\n",
              "397843   581587   23254  ...       1          0\n",
              "397844   581587   23255  ...       1          0\n",
              "397845   581587   22138  ...       1          0\n",
              "\n",
              "[397846 rows x 15 columns]"
            ]
          },
          "metadata": {
            "tags": []
          },
          "execution_count": 77
        }
      ]
    },
    {
      "cell_type": "code",
      "metadata": {
        "colab": {
          "base_uri": "https://localhost:8080/"
        },
        "id": "Hhr4axJNh-kV",
        "outputId": "6ace1f05-834e-4e7f-efec-dce8814eadd3"
      },
      "source": [
        "dados['Categoria'].value_counts()"
      ],
      "execution_count": 64,
      "outputs": [
        {
          "output_type": "execute_result",
          "data": {
            "text/plain": [
              "1    244363\n",
              "0    112897\n",
              "2     25779\n",
              "3     13380\n",
              "4      1427\n",
              "Name: Categoria, dtype: int64"
            ]
          },
          "metadata": {
            "tags": []
          },
          "execution_count": 64
        }
      ]
    },
    {
      "cell_type": "code",
      "metadata": {
        "colab": {
          "base_uri": "https://localhost:8080/",
          "height": 265
        },
        "id": "B9vQcDnIknAR",
        "outputId": "0547a263-12d7-4c45-fc25-6bcfd37ace0f"
      },
      "source": [
        "dados[dados['Categoria'] == 4].groupby('IdCliente')['Qtde'].sum().sort_values(ascending=False).head(10).plot(kind='barh');"
      ],
      "execution_count": 71,
      "outputs": [
        {
          "output_type": "display_data",
          "data": {
            "image/png": "[encoded data removed]",
            "text/plain": [
              "<Figure size 432x288 with 1 Axes>"
            ]
          },
          "metadata": {
            "tags": [],
            "needs_background": "light"
          }
        }
      ]
    },
    {
      "cell_type": "code",
      "metadata": {
        "colab": {
          "base_uri": "https://localhost:8080/",
          "height": 265
        },
        "id": "6mSu5fIWk3n0",
        "outputId": "1a9a68aa-26fa-4797-eb88-309c138758fc"
      },
      "source": [
        "dados[dados['Categoria'] == 4].groupby('IdCliente')['ValorTotal'].sum().sort_values(ascending=False).head(10).plot(kind='barh');"
      ],
      "execution_count": 73,
      "outputs": [
        {
          "output_type": "display_data",
          "data": {
            "image/png": "[encoded data removed]",
            "text/plain": [
              "<Figure size 432x288 with 1 Axes>"
            ]
          },
          "metadata": {
            "tags": [],
            "needs_background": "light"
          }
        }
      ]
    },
    {
      "cell_type": "code",
      "metadata": {
        "colab": {
          "base_uri": "https://localhost:8080/",
          "height": 265
        },
        "id": "vz85PqNYmoEW",
        "outputId": "685a7ad9-5259-40b5-bd65-37c3d2522f24"
      },
      "source": [
        "dados[dados['Categoria'] == 0].groupby('IdCliente')['ValorTotal'].sum().sort_values(ascending=False).head(10).plot(kind='barh');"
      ],
      "execution_count": 80,
      "outputs": [
        {
          "output_type": "display_data",
          "data": {
            "image/png": "[encoded data removed]",
            "text/plain": [
              "<Figure size 432x288 with 1 Axes>"
            ]
          },
          "metadata": {
            "tags": [],
            "needs_background": "light"
          }
        }
      ]
    },
    {
      "cell_type": "code",
      "metadata": {
        "colab": {
          "base_uri": "https://localhost:8080/",
          "height": 265
        },
        "id": "5mImO_ZamzRw",
        "outputId": "0f9289be-7a45-4438-e839-257e3409d107"
      },
      "source": [
        "dados[dados['Categoria'] == 1].groupby('IdCliente')['ValorTotal'].sum().sort_values(ascending=False).head(10).plot(kind='barh');"
      ],
      "execution_count": 81,
      "outputs": [
        {
          "output_type": "display_data",
          "data": {
            "image/png": "[encoded data removed]",
            "text/plain": [
              "<Figure size 432x288 with 1 Axes>"
            ]
          },
          "metadata": {
            "tags": [],
            "needs_background": "light"
          }
        }
      ]
    },
    {
      "cell_type": "code",
      "metadata": {
        "colab": {
          "base_uri": "https://localhost:8080/",
          "height": 265
        },
        "id": "YBtBOwN_n6Qs",
        "outputId": "f2ae4e89-c8dc-4729-ff9c-89482c0e971e"
      },
      "source": [
        "dados[dados['Categoria'] == 2].groupby('IdCliente')['ValorTotal'].sum().sort_values(ascending=False).head(10).plot(kind='barh');"
      ],
      "execution_count": 82,
      "outputs": [
        {
          "output_type": "display_data",
          "data": {
            "image/png": "[encoded data removed]",
            "text/plain": [
              "<Figure size 432x288 with 1 Axes>"
            ]
          },
          "metadata": {
            "tags": [],
            "needs_background": "light"
          }
        }
      ]
    },
    {
      "cell_type": "code",
      "metadata": {
        "colab": {
          "base_uri": "https://localhost:8080/",
          "height": 265
        },
        "id": "NkCPJACsn7Ar",
        "outputId": "166ef7c4-bbec-49fe-99f4-dc623c6e8e69"
      },
      "source": [
        "dados[dados['Categoria'] == 3].groupby('IdCliente')['ValorTotal'].sum().sort_values(ascending=False).head(10).plot(kind='barh');"
      ],
      "execution_count": 83,
      "outputs": [
        {
          "output_type": "display_data",
          "data": {
            "image/png": "[encoded data removed]",
            "text/plain": [
              "<Figure size 432x288 with 1 Axes>"
            ]
          },
          "metadata": {
            "tags": [],
            "needs_background": "light"
          }
        }
      ]
    },
    {
      "cell_type": "code",
      "metadata": {
        "id": "IqJlcpRzoTWQ"
      },
      "source": [
        ""
      ],
      "execution_count": null,
      "outputs": []
    },
    {
      "cell_type": "code",
      "metadata": {
        "id": "hSFS4iTWvTnd"
      },
      "source": [
        "import matplotlib.pyplot as plt"
      ],
      "execution_count": null,
      "outputs": []
    },
    {
      "cell_type": "code",
      "metadata": {
        "id": "7tltsW2GvaLj"
      },
      "source": [
        "Modelo I\n",
        "Separando clientes por volume de vendas\n",
        "\n",
        "[ ]\n",
        "↳ 10 cells hidden\n"
      ],
      "execution_count": null,
      "outputs": []
    }
  ]
}