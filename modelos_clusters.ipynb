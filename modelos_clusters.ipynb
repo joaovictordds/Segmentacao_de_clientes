{
  "nbformat": 4,
  "nbformat_minor": 0,
  "metadata": {
    "colab": {
      "name": "modelos-clusters.ipynb",
      "provenance": [],
      "collapsed_sections": [
        "6EA1FSOL2aXg"
      ],
      "authorship_tag": "ABX9TyMMZbrWOHsn0FELRSTKqrbv",
      "include_colab_link": true
    },
    "kernelspec": {
      "name": "python3",
      "display_name": "Python 3"
    },
    "language_info": {
      "name": "python"
    }
  },
  "cells": [
    {
      "cell_type": "markdown",
      "metadata": {
        "id": "view-in-github",
        "colab_type": "text"
      },
      "source": [
        "<a href=\"https://colab.research.google.com/github/joaovictordds/Segmentacao_de_clientes/blob/main/modelos_clusters.ipynb\" target=\"_parent\"><img src=\"https://colab.research.google.com/assets/colab-badge.svg\" alt=\"Open In Colab\"/></a>"
      ]
    },
    {
      "cell_type": "markdown",
      "metadata": {
        "id": "dI1_FtkgBZOm"
      },
      "source": [
        "* Escreva vários algoritmos de Agrupamento ou clusterização.\n",
        "* Contabilize a Performance do Modelo de Machine Learning e transforme em Performance de Negócio.\n",
        "* Desenvolva uma API que retorne um “Score de Cluster” para cada cliente, indicando à qual cluster ele pertence.\n",
        "* Crie um README sobre como interpretar e usar a sua solução.\n",
        "* Escreva um Relatório, respondendo às perguntas de negócio."
      ]
    },
    {
      "cell_type": "code",
      "metadata": {
        "colab": {
          "base_uri": "https://localhost:8080/",
          "height": 204
        },
        "id": "dTfzxRIZTYWk",
        "outputId": "23a4a6d5-9fef-4bfb-d1cc-93a95110cd06"
      },
      "source": [
        "import pandas as pd\n",
        "dados = pd.read_csv('dataprep.csv')\n",
        "dados.drop(columns='Unnamed: 0', inplace=True)\n",
        "dados.head(5)"
      ],
      "execution_count": 159,
      "outputs": [
        {
          "output_type": "execute_result",
          "data": {
            "text/html": [
              "<div>\n",
              "<style scoped>\n",
              "    .dataframe tbody tr th:only-of-type {\n",
              "        vertical-align: middle;\n",
              "    }\n",
              "\n",
              "    .dataframe tbody tr th {\n",
              "        vertical-align: top;\n",
              "    }\n",
              "\n",
              "    .dataframe thead th {\n",
              "        text-align: right;\n",
              "    }\n",
              "</style>\n",
              "<table border=\"1\" class=\"dataframe\">\n",
              "  <thead>\n",
              "    <tr style=\"text-align: right;\">\n",
              "      <th></th>\n",
              "      <th>IdVenda</th>\n",
              "      <th>CodItem</th>\n",
              "      <th>Item</th>\n",
              "      <th>Qtde</th>\n",
              "      <th>DataVenda</th>\n",
              "      <th>PrecoUnit</th>\n",
              "      <th>IdCliente</th>\n",
              "      <th>Pais</th>\n",
              "      <th>Ano</th>\n",
              "      <th>Mes</th>\n",
              "      <th>Dia</th>\n",
              "      <th>ValorTotal</th>\n",
              "    </tr>\n",
              "  </thead>\n",
              "  <tbody>\n",
              "    <tr>\n",
              "      <th>0</th>\n",
              "      <td>536365</td>\n",
              "      <td>85123A</td>\n",
              "      <td>WHITE HANGING HEART T-LIGHT HOLDER</td>\n",
              "      <td>6</td>\n",
              "      <td>2016-11-29</td>\n",
              "      <td>2.55</td>\n",
              "      <td>17850</td>\n",
              "      <td>United Kingdom</td>\n",
              "      <td>2016</td>\n",
              "      <td>11</td>\n",
              "      <td>29</td>\n",
              "      <td>15.30</td>\n",
              "    </tr>\n",
              "    <tr>\n",
              "      <th>1</th>\n",
              "      <td>536365</td>\n",
              "      <td>71053</td>\n",
              "      <td>WHITE METAL LANTERN</td>\n",
              "      <td>6</td>\n",
              "      <td>2016-11-29</td>\n",
              "      <td>3.39</td>\n",
              "      <td>17850</td>\n",
              "      <td>United Kingdom</td>\n",
              "      <td>2016</td>\n",
              "      <td>11</td>\n",
              "      <td>29</td>\n",
              "      <td>20.34</td>\n",
              "    </tr>\n",
              "    <tr>\n",
              "      <th>2</th>\n",
              "      <td>536365</td>\n",
              "      <td>84406B</td>\n",
              "      <td>CREAM CUPID HEARTS COAT HANGER</td>\n",
              "      <td>8</td>\n",
              "      <td>2016-11-29</td>\n",
              "      <td>2.75</td>\n",
              "      <td>17850</td>\n",
              "      <td>United Kingdom</td>\n",
              "      <td>2016</td>\n",
              "      <td>11</td>\n",
              "      <td>29</td>\n",
              "      <td>22.00</td>\n",
              "    </tr>\n",
              "    <tr>\n",
              "      <th>3</th>\n",
              "      <td>536365</td>\n",
              "      <td>84029G</td>\n",
              "      <td>KNITTED UNION FLAG HOT WATER BOTTLE</td>\n",
              "      <td>6</td>\n",
              "      <td>2016-11-29</td>\n",
              "      <td>3.39</td>\n",
              "      <td>17850</td>\n",
              "      <td>United Kingdom</td>\n",
              "      <td>2016</td>\n",
              "      <td>11</td>\n",
              "      <td>29</td>\n",
              "      <td>20.34</td>\n",
              "    </tr>\n",
              "    <tr>\n",
              "      <th>4</th>\n",
              "      <td>536365</td>\n",
              "      <td>84029E</td>\n",
              "      <td>RED WOOLLY HOTTIE WHITE HEART.</td>\n",
              "      <td>6</td>\n",
              "      <td>2016-11-29</td>\n",
              "      <td>3.39</td>\n",
              "      <td>17850</td>\n",
              "      <td>United Kingdom</td>\n",
              "      <td>2016</td>\n",
              "      <td>11</td>\n",
              "      <td>29</td>\n",
              "      <td>20.34</td>\n",
              "    </tr>\n",
              "  </tbody>\n",
              "</table>\n",
              "</div>"
            ],
            "text/plain": [
              "   IdVenda CodItem                                 Item  ...  Mes Dia  ValorTotal\n",
              "0   536365  85123A   WHITE HANGING HEART T-LIGHT HOLDER  ...   11  29       15.30\n",
              "1   536365   71053                  WHITE METAL LANTERN  ...   11  29       20.34\n",
              "2   536365  84406B       CREAM CUPID HEARTS COAT HANGER  ...   11  29       22.00\n",
              "3   536365  84029G  KNITTED UNION FLAG HOT WATER BOTTLE  ...   11  29       20.34\n",
              "4   536365  84029E       RED WOOLLY HOTTIE WHITE HEART.  ...   11  29       20.34\n",
              "\n",
              "[5 rows x 12 columns]"
            ]
          },
          "metadata": {
            "tags": []
          },
          "execution_count": 159
        }
      ]
    },
    {
      "cell_type": "code",
      "metadata": {
        "id": "7TCBE7q02aXg"
      },
      "source": [
        "# Importando bilbiotecas\n",
        "from sklearn.preprocessing import StandardScaler\n",
        "from sklearn.cluster import KMeans\n",
        "import matplotlib.pyplot as plt"
      ],
      "execution_count": 10,
      "outputs": []
    },
    {
      "cell_type": "markdown",
      "metadata": {
        "id": "6EA1FSOL2aXg"
      },
      "source": [
        "### Modelo I\n",
        "\n",
        "Segmentando clientes por volume de vendas"
      ]
    },
    {
      "cell_type": "code",
      "metadata": {
        "id": "ZhKS-TMK2aXg",
        "colab": {
          "base_uri": "https://localhost:8080/",
          "height": 266
        },
        "outputId": "2b978d9a-d52e-490d-de3f-37dc1b92868f"
      },
      "source": [
        "# Criando um dataset agrupando as vendas por cliente e algumas estatisticas\n",
        "var = dados.groupby('IdCliente').agg({'ValorTotal': ['mean','sum','max']})\n",
        "clientes = pd.DataFrame(var)\n",
        "clientes.columns = ['Mean', 'Sum','Max']\n",
        "clientes.head(6)"
      ],
      "execution_count": 164,
      "outputs": [
        {
          "output_type": "execute_result",
          "data": {
            "text/html": [
              "<div>\n",
              "<style scoped>\n",
              "    .dataframe tbody tr th:only-of-type {\n",
              "        vertical-align: middle;\n",
              "    }\n",
              "\n",
              "    .dataframe tbody tr th {\n",
              "        vertical-align: top;\n",
              "    }\n",
              "\n",
              "    .dataframe thead th {\n",
              "        text-align: right;\n",
              "    }\n",
              "</style>\n",
              "<table border=\"1\" class=\"dataframe\">\n",
              "  <thead>\n",
              "    <tr style=\"text-align: right;\">\n",
              "      <th></th>\n",
              "      <th>Mean</th>\n",
              "      <th>Sum</th>\n",
              "      <th>Max</th>\n",
              "    </tr>\n",
              "    <tr>\n",
              "      <th>IdCliente</th>\n",
              "      <th></th>\n",
              "      <th></th>\n",
              "      <th></th>\n",
              "    </tr>\n",
              "  </thead>\n",
              "  <tbody>\n",
              "    <tr>\n",
              "      <th>12347</th>\n",
              "      <td>23.681319</td>\n",
              "      <td>4310.00</td>\n",
              "      <td>249.6</td>\n",
              "    </tr>\n",
              "    <tr>\n",
              "      <th>12348</th>\n",
              "      <td>57.975484</td>\n",
              "      <td>1797.24</td>\n",
              "      <td>240.0</td>\n",
              "    </tr>\n",
              "    <tr>\n",
              "      <th>12349</th>\n",
              "      <td>24.076027</td>\n",
              "      <td>1757.55</td>\n",
              "      <td>300.0</td>\n",
              "    </tr>\n",
              "    <tr>\n",
              "      <th>12350</th>\n",
              "      <td>19.670588</td>\n",
              "      <td>334.40</td>\n",
              "      <td>40.0</td>\n",
              "    </tr>\n",
              "    <tr>\n",
              "      <th>12352</th>\n",
              "      <td>29.482824</td>\n",
              "      <td>2506.04</td>\n",
              "      <td>376.5</td>\n",
              "    </tr>\n",
              "    <tr>\n",
              "      <th>12353</th>\n",
              "      <td>22.250000</td>\n",
              "      <td>89.00</td>\n",
              "      <td>39.8</td>\n",
              "    </tr>\n",
              "  </tbody>\n",
              "</table>\n",
              "</div>"
            ],
            "text/plain": [
              "                Mean      Sum    Max\n",
              "IdCliente                           \n",
              "12347      23.681319  4310.00  249.6\n",
              "12348      57.975484  1797.24  240.0\n",
              "12349      24.076027  1757.55  300.0\n",
              "12350      19.670588   334.40   40.0\n",
              "12352      29.482824  2506.04  376.5\n",
              "12353      22.250000    89.00   39.8"
            ]
          },
          "metadata": {
            "tags": []
          },
          "execution_count": 164
        }
      ]
    },
    {
      "cell_type": "code",
      "metadata": {
        "colab": {
          "base_uri": "https://localhost:8080/"
        },
        "id": "oQo8DmHFsQnE",
        "outputId": "f232231f-95b9-423f-979d-e1ff0bf5fa8b"
      },
      "source": [
        "dados[dados['IdCliente'] == 12347]['ValorTotal'].sum()"
      ],
      "execution_count": 162,
      "outputs": [
        {
          "output_type": "execute_result",
          "data": {
            "text/plain": [
              "4310.000000000001"
            ]
          },
          "metadata": {
            "tags": []
          },
          "execution_count": 162
        }
      ]
    },
    {
      "cell_type": "code",
      "metadata": {
        "colab": {
          "base_uri": "https://localhost:8080/"
        },
        "id": "M3rvvAHyz2Ka",
        "outputId": "773a780f-a094-44bd-bd81-fed130e7c89b"
      },
      "source": [
        "# Passando os dados dos clientes para o formato de matriz\n",
        "clientes1 = clientes.values\n",
        "clientes1"
      ],
      "execution_count": 165,
      "outputs": [
        {
          "output_type": "execute_result",
          "data": {
            "text/plain": [
              "array([[2.36813187e+01, 4.31000000e+03, 2.49600000e+02],\n",
              "       [5.79754839e+01, 1.79724000e+03, 2.40000000e+02],\n",
              "       [2.40760274e+01, 1.75755000e+03, 3.00000000e+02],\n",
              "       ...,\n",
              "       [1.48375000e+01, 1.78050000e+02, 2.55000000e+01],\n",
              "       [2.77100529e+00, 2.09488000e+03, 2.08000000e+01],\n",
              "       [2.62468571e+01, 1.83728000e+03, 8.70000000e+01]])"
            ]
          },
          "metadata": {
            "tags": []
          },
          "execution_count": 165
        }
      ]
    },
    {
      "cell_type": "code",
      "metadata": {
        "colab": {
          "base_uri": "https://localhost:8080/"
        },
        "id": "bv5r9Ijp0Dp0",
        "outputId": "9494e306-9b0d-44e0-eefa-7337e63cd2bc"
      },
      "source": [
        "# Escalonando os dados\n",
        "sc = StandardScaler()\n",
        "matriz = sc.fit_transform(clientes1)\n",
        "matriz"
      ],
      "execution_count": 166,
      "outputs": [
        {
          "output_type": "execute_result",
          "data": {
            "text/plain": [
              "array([[-0.09507267,  0.28259252,  0.57971908],\n",
              "       [ 0.28768065, -0.01984441,  0.53869287],\n",
              "       [-0.09066737, -0.02462151,  0.79510666],\n",
              "       ...,\n",
              "       [-0.19377754, -0.21473085, -0.37798642],\n",
              "       [-0.32845033,  0.01597968, -0.39807216],\n",
              "       [-0.06643898, -0.01502517, -0.11516228]])"
            ]
          },
          "metadata": {
            "tags": []
          },
          "execution_count": 166
        }
      ]
    },
    {
      "cell_type": "code",
      "metadata": {
        "id": "KldEQGny2aXh",
        "colab": {
          "base_uri": "https://localhost:8080/",
          "height": 388
        },
        "outputId": "a2ecc68a-85f8-4594-da36-16daff40af11"
      },
      "source": [
        "# Escolhendo o numero de clusters pelo método Elbow utilizando K-Means\n",
        "\n",
        "ks = range(1, 11)\n",
        "inertia = [] # inertia: Soma das distâncias quadráticas intra cluster\n",
        "\n",
        "for k in ks:\n",
        "    # Criando um modelo KMeans com k clusters:\n",
        "    model = KMeans(n_clusters= k)\n",
        "    \n",
        "    # Fitando os dados no modelo\n",
        "    model.fit(matriz)\n",
        "    \n",
        "    # Adicionado os resultados da inertia na sua lista\n",
        "    inertia.append(model.inertia_)\n",
        "    \n",
        "# Gráfico Elbow\n",
        "plt.figure(figsize=(15,6))\n",
        "plt.plot(ks, inertia, '-o')\n",
        "plt.xlabel('Num. de clusters')\n",
        "plt.ylabel('Soma das distâncias Q intra clusters')\n",
        "plt.xticks(ks)\n",
        "plt.show()"
      ],
      "execution_count": 167,
      "outputs": [
        {
          "output_type": "display_data",
          "data": {
            "image/png": "[encoded data removed]",
            "text/plain": [
              "<Figure size 1080x432 with 1 Axes>"
            ]
          },
          "metadata": {
            "tags": [],
            "needs_background": "light"
          }
        }
      ]
    },
    {
      "cell_type": "code",
      "metadata": {
        "id": "kW8NXyqT2aXh",
        "colab": {
          "base_uri": "https://localhost:8080/"
        },
        "outputId": "a54cc214-48c8-4421-d36a-66bb68ea1aeb"
      },
      "source": [
        "#Criando um modelo\n",
        "modelo = KMeans(n_clusters=4)\n",
        "modelo.fit(matriz)"
      ],
      "execution_count": 168,
      "outputs": [
        {
          "output_type": "execute_result",
          "data": {
            "text/plain": [
              "KMeans(algorithm='auto', copy_x=True, init='k-means++', max_iter=300,\n",
              "       n_clusters=4, n_init=10, n_jobs=None, precompute_distances='auto',\n",
              "       random_state=None, tol=0.0001, verbose=0)"
            ]
          },
          "metadata": {
            "tags": []
          },
          "execution_count": 168
        }
      ]
    },
    {
      "cell_type": "code",
      "metadata": {
        "id": "YfnHTiSj2aXi",
        "colab": {
          "base_uri": "https://localhost:8080/",
          "height": 235
        },
        "outputId": "692eaa2b-0777-4b53-b7bf-a1f8cca1a061"
      },
      "source": [
        "# Adicionando os clusters na tabela de clientes\n",
        "clientes['Categoria'] = modelo.predict(matriz)\n",
        "clientes.head()"
      ],
      "execution_count": 170,
      "outputs": [
        {
          "output_type": "execute_result",
          "data": {
            "text/html": [
              "<div>\n",
              "<style scoped>\n",
              "    .dataframe tbody tr th:only-of-type {\n",
              "        vertical-align: middle;\n",
              "    }\n",
              "\n",
              "    .dataframe tbody tr th {\n",
              "        vertical-align: top;\n",
              "    }\n",
              "\n",
              "    .dataframe thead th {\n",
              "        text-align: right;\n",
              "    }\n",
              "</style>\n",
              "<table border=\"1\" class=\"dataframe\">\n",
              "  <thead>\n",
              "    <tr style=\"text-align: right;\">\n",
              "      <th></th>\n",
              "      <th>Mean</th>\n",
              "      <th>Sum</th>\n",
              "      <th>Max</th>\n",
              "      <th>Categoria</th>\n",
              "    </tr>\n",
              "    <tr>\n",
              "      <th>IdCliente</th>\n",
              "      <th></th>\n",
              "      <th></th>\n",
              "      <th></th>\n",
              "      <th></th>\n",
              "    </tr>\n",
              "  </thead>\n",
              "  <tbody>\n",
              "    <tr>\n",
              "      <th>12347</th>\n",
              "      <td>23.681319</td>\n",
              "      <td>4310.00</td>\n",
              "      <td>249.6</td>\n",
              "      <td>0</td>\n",
              "    </tr>\n",
              "    <tr>\n",
              "      <th>12348</th>\n",
              "      <td>57.975484</td>\n",
              "      <td>1797.24</td>\n",
              "      <td>240.0</td>\n",
              "      <td>0</td>\n",
              "    </tr>\n",
              "    <tr>\n",
              "      <th>12349</th>\n",
              "      <td>24.076027</td>\n",
              "      <td>1757.55</td>\n",
              "      <td>300.0</td>\n",
              "      <td>0</td>\n",
              "    </tr>\n",
              "    <tr>\n",
              "      <th>12350</th>\n",
              "      <td>19.670588</td>\n",
              "      <td>334.40</td>\n",
              "      <td>40.0</td>\n",
              "      <td>0</td>\n",
              "    </tr>\n",
              "    <tr>\n",
              "      <th>12352</th>\n",
              "      <td>29.482824</td>\n",
              "      <td>2506.04</td>\n",
              "      <td>376.5</td>\n",
              "      <td>0</td>\n",
              "    </tr>\n",
              "  </tbody>\n",
              "</table>\n",
              "</div>"
            ],
            "text/plain": [
              "                Mean      Sum    Max  Categoria\n",
              "IdCliente                                      \n",
              "12347      23.681319  4310.00  249.6          0\n",
              "12348      57.975484  1797.24  240.0          0\n",
              "12349      24.076027  1757.55  300.0          0\n",
              "12350      19.670588   334.40   40.0          0\n",
              "12352      29.482824  2506.04  376.5          0"
            ]
          },
          "metadata": {
            "tags": []
          },
          "execution_count": 170
        }
      ]
    },
    {
      "cell_type": "code",
      "metadata": {
        "id": "hZVxaLsK2aXj"
      },
      "source": [
        "# Renomeando os clusters\n",
        "clientes['Categoria'] = clientes['Categoria'].map({0: 'bronze', 2: 'prata', 3: 'ouro', 1:'platina'})"
      ],
      "execution_count": 174,
      "outputs": []
    },
    {
      "cell_type": "code",
      "metadata": {
        "id": "KAKDNewT2aXj",
        "colab": {
          "base_uri": "https://localhost:8080/"
        },
        "outputId": "d64862a9-7ffa-492b-fe20-69412871a5ba"
      },
      "source": [
        "# Grafico\n",
        "clientes['Categoria'].value_counts()#.plot(kind='barh');"
      ],
      "execution_count": 175,
      "outputs": [
        {
          "output_type": "execute_result",
          "data": {
            "text/plain": [
              "bronze     4217\n",
              "prata       107\n",
              "ouro          6\n",
              "platina       5\n",
              "Name: Categoria, dtype: int64"
            ]
          },
          "metadata": {
            "tags": []
          },
          "execution_count": 175
        }
      ]
    },
    {
      "cell_type": "code",
      "metadata": {
        "colab": {
          "base_uri": "https://localhost:8080/",
          "height": 266
        },
        "id": "SyMCft5l0wDz",
        "outputId": "30e8ea97-aab5-4037-ce1b-f5b85ef15066"
      },
      "source": [
        "clientes[clientes['Categoria'] == 3]"
      ],
      "execution_count": 173,
      "outputs": [
        {
          "output_type": "execute_result",
          "data": {
            "text/html": [
              "<div>\n",
              "<style scoped>\n",
              "    .dataframe tbody tr th:only-of-type {\n",
              "        vertical-align: middle;\n",
              "    }\n",
              "\n",
              "    .dataframe tbody tr th {\n",
              "        vertical-align: top;\n",
              "    }\n",
              "\n",
              "    .dataframe thead th {\n",
              "        text-align: right;\n",
              "    }\n",
              "</style>\n",
              "<table border=\"1\" class=\"dataframe\">\n",
              "  <thead>\n",
              "    <tr style=\"text-align: right;\">\n",
              "      <th></th>\n",
              "      <th>Mean</th>\n",
              "      <th>Sum</th>\n",
              "      <th>Max</th>\n",
              "      <th>Categoria</th>\n",
              "    </tr>\n",
              "    <tr>\n",
              "      <th>IdCliente</th>\n",
              "      <th></th>\n",
              "      <th></th>\n",
              "      <th></th>\n",
              "      <th></th>\n",
              "    </tr>\n",
              "  </thead>\n",
              "  <tbody>\n",
              "    <tr>\n",
              "      <th>12415</th>\n",
              "      <td>174.950322</td>\n",
              "      <td>124914.53</td>\n",
              "      <td>1718.40</td>\n",
              "      <td>3</td>\n",
              "    </tr>\n",
              "    <tr>\n",
              "      <th>14156</th>\n",
              "      <td>83.842593</td>\n",
              "      <td>117379.63</td>\n",
              "      <td>2365.20</td>\n",
              "      <td>3</td>\n",
              "    </tr>\n",
              "    <tr>\n",
              "      <th>14646</th>\n",
              "      <td>132.633263</td>\n",
              "      <td>275214.02</td>\n",
              "      <td>2577.60</td>\n",
              "      <td>3</td>\n",
              "    </tr>\n",
              "    <tr>\n",
              "      <th>14911</th>\n",
              "      <td>25.343623</td>\n",
              "      <td>143825.06</td>\n",
              "      <td>1687.17</td>\n",
              "      <td>3</td>\n",
              "    </tr>\n",
              "    <tr>\n",
              "      <th>17450</th>\n",
              "      <td>528.042252</td>\n",
              "      <td>175838.07</td>\n",
              "      <td>3272.40</td>\n",
              "      <td>3</td>\n",
              "    </tr>\n",
              "    <tr>\n",
              "      <th>18102</th>\n",
              "      <td>594.951860</td>\n",
              "      <td>255829.30</td>\n",
              "      <td>3285.00</td>\n",
              "      <td>3</td>\n",
              "    </tr>\n",
              "  </tbody>\n",
              "</table>\n",
              "</div>"
            ],
            "text/plain": [
              "                 Mean        Sum      Max  Categoria\n",
              "IdCliente                                           \n",
              "12415      174.950322  124914.53  1718.40          3\n",
              "14156       83.842593  117379.63  2365.20          3\n",
              "14646      132.633263  275214.02  2577.60          3\n",
              "14911       25.343623  143825.06  1687.17          3\n",
              "17450      528.042252  175838.07  3272.40          3\n",
              "18102      594.951860  255829.30  3285.00          3"
            ]
          },
          "metadata": {
            "tags": []
          },
          "execution_count": 173
        }
      ]
    },
    {
      "cell_type": "markdown",
      "metadata": {
        "id": "SeLmlsMD1ECz"
      },
      "source": [
        "Os clientes platinados são os com as maiores **médias** de valor de faturamento."
      ]
    },
    {
      "cell_type": "markdown",
      "metadata": {
        "id": "crBnQTeuvhoA"
      },
      "source": [
        "### Modelo II\n",
        "\n",
        "Segmentando os clientes de acordo com o volume de venda"
      ]
    },
    {
      "cell_type": "code",
      "metadata": {
        "colab": {
          "base_uri": "https://localhost:8080/",
          "height": 142
        },
        "id": "YZ5DTh1xvrEM",
        "outputId": "6e72dfd8-7b56-4a51-edb9-275283951ba6"
      },
      "source": [
        "import pandas as pd\n",
        "dados = pd.read_csv('dataprep.csv')\n",
        "dados.drop(columns='Unnamed: 0', inplace=True)\n",
        "dados.head(3)"
      ],
      "execution_count": 136,
      "outputs": [
        {
          "output_type": "execute_result",
          "data": {
            "text/html": [
              "<div>\n",
              "<style scoped>\n",
              "    .dataframe tbody tr th:only-of-type {\n",
              "        vertical-align: middle;\n",
              "    }\n",
              "\n",
              "    .dataframe tbody tr th {\n",
              "        vertical-align: top;\n",
              "    }\n",
              "\n",
              "    .dataframe thead th {\n",
              "        text-align: right;\n",
              "    }\n",
              "</style>\n",
              "<table border=\"1\" class=\"dataframe\">\n",
              "  <thead>\n",
              "    <tr style=\"text-align: right;\">\n",
              "      <th></th>\n",
              "      <th>IdVenda</th>\n",
              "      <th>CodItem</th>\n",
              "      <th>Item</th>\n",
              "      <th>Qtde</th>\n",
              "      <th>DataVenda</th>\n",
              "      <th>PrecoUnit</th>\n",
              "      <th>IdCliente</th>\n",
              "      <th>Pais</th>\n",
              "      <th>Ano</th>\n",
              "      <th>Mes</th>\n",
              "      <th>Dia</th>\n",
              "      <th>ValorTotal</th>\n",
              "    </tr>\n",
              "  </thead>\n",
              "  <tbody>\n",
              "    <tr>\n",
              "      <th>0</th>\n",
              "      <td>536365</td>\n",
              "      <td>85123A</td>\n",
              "      <td>WHITE HANGING HEART T-LIGHT HOLDER</td>\n",
              "      <td>6</td>\n",
              "      <td>2016-11-29</td>\n",
              "      <td>2.55</td>\n",
              "      <td>17850</td>\n",
              "      <td>United Kingdom</td>\n",
              "      <td>2016</td>\n",
              "      <td>11</td>\n",
              "      <td>29</td>\n",
              "      <td>15.30</td>\n",
              "    </tr>\n",
              "    <tr>\n",
              "      <th>1</th>\n",
              "      <td>536365</td>\n",
              "      <td>71053</td>\n",
              "      <td>WHITE METAL LANTERN</td>\n",
              "      <td>6</td>\n",
              "      <td>2016-11-29</td>\n",
              "      <td>3.39</td>\n",
              "      <td>17850</td>\n",
              "      <td>United Kingdom</td>\n",
              "      <td>2016</td>\n",
              "      <td>11</td>\n",
              "      <td>29</td>\n",
              "      <td>20.34</td>\n",
              "    </tr>\n",
              "    <tr>\n",
              "      <th>2</th>\n",
              "      <td>536365</td>\n",
              "      <td>84406B</td>\n",
              "      <td>CREAM CUPID HEARTS COAT HANGER</td>\n",
              "      <td>8</td>\n",
              "      <td>2016-11-29</td>\n",
              "      <td>2.75</td>\n",
              "      <td>17850</td>\n",
              "      <td>United Kingdom</td>\n",
              "      <td>2016</td>\n",
              "      <td>11</td>\n",
              "      <td>29</td>\n",
              "      <td>22.00</td>\n",
              "    </tr>\n",
              "  </tbody>\n",
              "</table>\n",
              "</div>"
            ],
            "text/plain": [
              "   IdVenda CodItem                                Item  ...  Mes Dia  ValorTotal\n",
              "0   536365  85123A  WHITE HANGING HEART T-LIGHT HOLDER  ...   11  29       15.30\n",
              "1   536365   71053                 WHITE METAL LANTERN  ...   11  29       20.34\n",
              "2   536365  84406B      CREAM CUPID HEARTS COAT HANGER  ...   11  29       22.00\n",
              "\n",
              "[3 rows x 12 columns]"
            ]
          },
          "metadata": {
            "tags": []
          },
          "execution_count": 136
        }
      ]
    },
    {
      "cell_type": "code",
      "metadata": {
        "colab": {
          "base_uri": "https://localhost:8080/",
          "height": 266
        },
        "id": "t7LoHgQavrAP",
        "outputId": "ec428c85-0a0a-4538-a904-b989b4d379ac"
      },
      "source": [
        "# Criando um dataset agrupando as vendas por cliente e algumas estatisticas\n",
        "var = dados.groupby('IdCliente').agg({'Qtde': ['mean','sum','max']})\n",
        "clientes = pd.DataFrame(var)\n",
        "clientes.columns = ['Mean', 'Sum','Max']\n",
        "clientes.head(6)"
      ],
      "execution_count": 139,
      "outputs": [
        {
          "output_type": "execute_result",
          "data": {
            "text/html": [
              "<div>\n",
              "<style scoped>\n",
              "    .dataframe tbody tr th:only-of-type {\n",
              "        vertical-align: middle;\n",
              "    }\n",
              "\n",
              "    .dataframe tbody tr th {\n",
              "        vertical-align: top;\n",
              "    }\n",
              "\n",
              "    .dataframe thead th {\n",
              "        text-align: right;\n",
              "    }\n",
              "</style>\n",
              "<table border=\"1\" class=\"dataframe\">\n",
              "  <thead>\n",
              "    <tr style=\"text-align: right;\">\n",
              "      <th></th>\n",
              "      <th>Mean</th>\n",
              "      <th>Sum</th>\n",
              "      <th>Max</th>\n",
              "    </tr>\n",
              "    <tr>\n",
              "      <th>IdCliente</th>\n",
              "      <th></th>\n",
              "      <th></th>\n",
              "      <th></th>\n",
              "    </tr>\n",
              "  </thead>\n",
              "  <tbody>\n",
              "    <tr>\n",
              "      <th>12347</th>\n",
              "      <td>13.505495</td>\n",
              "      <td>2458</td>\n",
              "      <td>240</td>\n",
              "    </tr>\n",
              "    <tr>\n",
              "      <th>12348</th>\n",
              "      <td>75.516129</td>\n",
              "      <td>2341</td>\n",
              "      <td>144</td>\n",
              "    </tr>\n",
              "    <tr>\n",
              "      <th>12349</th>\n",
              "      <td>8.643836</td>\n",
              "      <td>631</td>\n",
              "      <td>36</td>\n",
              "    </tr>\n",
              "    <tr>\n",
              "      <th>12350</th>\n",
              "      <td>11.588235</td>\n",
              "      <td>197</td>\n",
              "      <td>24</td>\n",
              "    </tr>\n",
              "    <tr>\n",
              "      <th>12352</th>\n",
              "      <td>6.305882</td>\n",
              "      <td>536</td>\n",
              "      <td>16</td>\n",
              "    </tr>\n",
              "    <tr>\n",
              "      <th>12353</th>\n",
              "      <td>5.000000</td>\n",
              "      <td>20</td>\n",
              "      <td>8</td>\n",
              "    </tr>\n",
              "  </tbody>\n",
              "</table>\n",
              "</div>"
            ],
            "text/plain": [
              "                Mean   Sum  Max\n",
              "IdCliente                      \n",
              "12347      13.505495  2458  240\n",
              "12348      75.516129  2341  144\n",
              "12349       8.643836   631   36\n",
              "12350      11.588235   197   24\n",
              "12352       6.305882   536   16\n",
              "12353       5.000000    20    8"
            ]
          },
          "metadata": {
            "tags": []
          },
          "execution_count": 139
        }
      ]
    },
    {
      "cell_type": "code",
      "metadata": {
        "colab": {
          "base_uri": "https://localhost:8080/"
        },
        "id": "9geOTUgmvq9q",
        "outputId": "664642bb-677a-47cd-c3f8-31757654055d"
      },
      "source": [
        "# Passando os dados dos clientes para o formato de matriz\n",
        "matriz = clientes.values\n",
        "matriz"
      ],
      "execution_count": 140,
      "outputs": [
        {
          "output_type": "execute_result",
          "data": {
            "text/plain": [
              "array([[1.35054945e+01, 2.45800000e+03, 2.40000000e+02],\n",
              "       [7.55161290e+01, 2.34100000e+03, 1.44000000e+02],\n",
              "       [8.64383562e+00, 6.31000000e+02, 3.60000000e+01],\n",
              "       ...,\n",
              "       [8.58333333e+00, 1.03000000e+02, 4.80000000e+01],\n",
              "       [1.84788360e+00, 1.39700000e+03, 1.30000000e+01],\n",
              "       [2.26571429e+01, 1.58600000e+03, 6.00000000e+01]])"
            ]
          },
          "metadata": {
            "tags": []
          },
          "execution_count": 140
        }
      ]
    },
    {
      "cell_type": "code",
      "metadata": {
        "colab": {
          "base_uri": "https://localhost:8080/"
        },
        "id": "ulFq8ulbvq5-",
        "outputId": "694bc750-775f-4db8-ccda-28e82b70aa5c"
      },
      "source": [
        "# Escalonando os dados\n",
        "sc = StandardScaler()\n",
        "matriz = sc.fit_transform(matriz)\n",
        "matriz"
      ],
      "execution_count": 141,
      "outputs": [
        {
          "output_type": "execute_result",
          "data": {
            "text/plain": [
              "array([[-0.08575126,  0.28041615,  1.01415991],\n",
              "       [ 0.84145757,  0.25551147,  0.41726368],\n",
              "       [-0.15844481, -0.10848007, -0.25424457],\n",
              "       ...,\n",
              "       [-0.15934947, -0.22087044, -0.17963255],\n",
              "       [-0.26006072,  0.05457111, -0.39725096],\n",
              "       [ 0.05108799,  0.09480175, -0.10502052]])"
            ]
          },
          "metadata": {
            "tags": []
          },
          "execution_count": 141
        }
      ]
    },
    {
      "cell_type": "code",
      "metadata": {
        "colab": {
          "base_uri": "https://localhost:8080/",
          "height": 388
        },
        "id": "itVH2dHVvq2p",
        "outputId": "a6cca54a-353e-4be3-cf6c-6190b1f70dfa"
      },
      "source": [
        "# Escolhendo o numero de clusters pelo método Elbow utilizando K-Means\n",
        "\n",
        "ks = range(1, 11)\n",
        "inertia = [] # inertia: Soma das distâncias quadráticas intra cluster\n",
        "\n",
        "for k in ks:\n",
        "    # Criando um modelo KMeans com k clusters:\n",
        "    model = KMeans(n_clusters= k)\n",
        "    \n",
        "    # Fitando os dados no modelo\n",
        "    model.fit(matriz)\n",
        "    \n",
        "    # Adicionado os resultados da inertia na sua lista\n",
        "    inertia.append(model.inertia_)\n",
        "    \n",
        "# Gráfico Elbow\n",
        "plt.figure(figsize=(15,6))\n",
        "plt.plot(ks, inertia, '-o')\n",
        "plt.xlabel('Num. de clusters')\n",
        "plt.ylabel('Soma das distâncias Q intra clusters')\n",
        "plt.xticks(ks)\n",
        "plt.show()"
      ],
      "execution_count": 142,
      "outputs": [
        {
          "output_type": "display_data",
          "data": {
            "image/png": "[encoded data removed]",
            "text/plain": [
              "<Figure size 1080x432 with 1 Axes>"
            ]
          },
          "metadata": {
            "tags": [],
            "needs_background": "light"
          }
        }
      ]
    },
    {
      "cell_type": "code",
      "metadata": {
        "colab": {
          "base_uri": "https://localhost:8080/"
        },
        "id": "6I6HMtgrvqz_",
        "outputId": "9d4c332e-52a6-4337-939b-15c465bf2df8"
      },
      "source": [
        "#Criando um modelo\n",
        "modelo = KMeans(n_clusters=4)\n",
        "modelo.fit(matriz)"
      ],
      "execution_count": 143,
      "outputs": [
        {
          "output_type": "execute_result",
          "data": {
            "text/plain": [
              "KMeans(algorithm='auto', copy_x=True, init='k-means++', max_iter=300,\n",
              "       n_clusters=4, n_init=10, n_jobs=None, precompute_distances='auto',\n",
              "       random_state=None, tol=0.0001, verbose=0)"
            ]
          },
          "metadata": {
            "tags": []
          },
          "execution_count": 143
        }
      ]
    },
    {
      "cell_type": "code",
      "metadata": {
        "colab": {
          "base_uri": "https://localhost:8080/",
          "height": 235
        },
        "id": "khhcz-esvg3n",
        "outputId": "a7418b3f-4102-41b7-a20f-479c978f19d9"
      },
      "source": [
        "# Adicionando os clusters na tabela de clientes\n",
        "clientes['Categoria'] = modelo.predict(matriz)\n",
        "clientes.head()"
      ],
      "execution_count": 144,
      "outputs": [
        {
          "output_type": "execute_result",
          "data": {
            "text/html": [
              "<div>\n",
              "<style scoped>\n",
              "    .dataframe tbody tr th:only-of-type {\n",
              "        vertical-align: middle;\n",
              "    }\n",
              "\n",
              "    .dataframe tbody tr th {\n",
              "        vertical-align: top;\n",
              "    }\n",
              "\n",
              "    .dataframe thead th {\n",
              "        text-align: right;\n",
              "    }\n",
              "</style>\n",
              "<table border=\"1\" class=\"dataframe\">\n",
              "  <thead>\n",
              "    <tr style=\"text-align: right;\">\n",
              "      <th></th>\n",
              "      <th>Mean</th>\n",
              "      <th>Sum</th>\n",
              "      <th>Max</th>\n",
              "      <th>Categoria</th>\n",
              "    </tr>\n",
              "    <tr>\n",
              "      <th>IdCliente</th>\n",
              "      <th></th>\n",
              "      <th></th>\n",
              "      <th></th>\n",
              "      <th></th>\n",
              "    </tr>\n",
              "  </thead>\n",
              "  <tbody>\n",
              "    <tr>\n",
              "      <th>12347</th>\n",
              "      <td>13.505495</td>\n",
              "      <td>2458</td>\n",
              "      <td>240</td>\n",
              "      <td>0</td>\n",
              "    </tr>\n",
              "    <tr>\n",
              "      <th>12348</th>\n",
              "      <td>75.516129</td>\n",
              "      <td>2341</td>\n",
              "      <td>144</td>\n",
              "      <td>0</td>\n",
              "    </tr>\n",
              "    <tr>\n",
              "      <th>12349</th>\n",
              "      <td>8.643836</td>\n",
              "      <td>631</td>\n",
              "      <td>36</td>\n",
              "      <td>0</td>\n",
              "    </tr>\n",
              "    <tr>\n",
              "      <th>12350</th>\n",
              "      <td>11.588235</td>\n",
              "      <td>197</td>\n",
              "      <td>24</td>\n",
              "      <td>0</td>\n",
              "    </tr>\n",
              "    <tr>\n",
              "      <th>12352</th>\n",
              "      <td>6.305882</td>\n",
              "      <td>536</td>\n",
              "      <td>16</td>\n",
              "      <td>0</td>\n",
              "    </tr>\n",
              "  </tbody>\n",
              "</table>\n",
              "</div>"
            ],
            "text/plain": [
              "                Mean   Sum  Max  Categoria\n",
              "IdCliente                                 \n",
              "12347      13.505495  2458  240          0\n",
              "12348      75.516129  2341  144          0\n",
              "12349       8.643836   631   36          0\n",
              "12350      11.588235   197   24          0\n",
              "12352       6.305882   536   16          0"
            ]
          },
          "metadata": {
            "tags": []
          },
          "execution_count": 144
        }
      ]
    },
    {
      "cell_type": "code",
      "metadata": {
        "id": "OXpt0exMw2ZF"
      },
      "source": [
        "# Renomeando os clusters\n",
        "clientes['Categoria'] = clientes['Categoria'].map({0: 'bronze', 3: 'prata', 1: 'ouro', 2:'platina'})"
      ],
      "execution_count": 157,
      "outputs": []
    },
    {
      "cell_type": "code",
      "metadata": {
        "colab": {
          "base_uri": "https://localhost:8080/"
        },
        "id": "vHtR45yxw2cE",
        "outputId": "c4b69ed8-424c-45d4-9e39-4afbaebf23d3"
      },
      "source": [
        "# Grafico\n",
        "clientes['Categoria'].value_counts()#.plot(kind='barh');"
      ],
      "execution_count": 158,
      "outputs": [
        {
          "output_type": "execute_result",
          "data": {
            "text/plain": [
              "bronze     4258\n",
              "prata        61\n",
              "ouro         10\n",
              "platina       6\n",
              "Name: Categoria, dtype: int64"
            ]
          },
          "metadata": {
            "tags": []
          },
          "execution_count": 158
        }
      ]
    },
    {
      "cell_type": "markdown",
      "metadata": {
        "id": "-2CjKTgbyPmb"
      },
      "source": [
        "Os clientes que compram na média um volume elevado de itens são os platinados."
      ]
    },
    {
      "cell_type": "markdown",
      "metadata": {
        "id": "LabukhrbXUiv"
      },
      "source": [
        "### Modelo III\n",
        "\n",
        "Segmentando os clientes de acordo com as caracteristicas dos produtos."
      ]
    },
    {
      "cell_type": "code",
      "metadata": {
        "colab": {
          "base_uri": "https://localhost:8080/",
          "height": 142
        },
        "id": "qwtWCzvnbLPn",
        "outputId": "f0c939bc-7eaf-4a3e-a4f8-d77a593ce3c9"
      },
      "source": [
        "dados2 = dados.copy()\n",
        "dados2['ItemFat']= pd.factorize(dados['Item'])[0] # Renomeando os itens numericamente.\n",
        "dados2.head(3)"
      ],
      "execution_count": 176,
      "outputs": [
        {
          "output_type": "execute_result",
          "data": {
            "text/html": [
              "<div>\n",
              "<style scoped>\n",
              "    .dataframe tbody tr th:only-of-type {\n",
              "        vertical-align: middle;\n",
              "    }\n",
              "\n",
              "    .dataframe tbody tr th {\n",
              "        vertical-align: top;\n",
              "    }\n",
              "\n",
              "    .dataframe thead th {\n",
              "        text-align: right;\n",
              "    }\n",
              "</style>\n",
              "<table border=\"1\" class=\"dataframe\">\n",
              "  <thead>\n",
              "    <tr style=\"text-align: right;\">\n",
              "      <th></th>\n",
              "      <th>IdVenda</th>\n",
              "      <th>CodItem</th>\n",
              "      <th>Item</th>\n",
              "      <th>Qtde</th>\n",
              "      <th>DataVenda</th>\n",
              "      <th>PrecoUnit</th>\n",
              "      <th>IdCliente</th>\n",
              "      <th>Pais</th>\n",
              "      <th>Ano</th>\n",
              "      <th>Mes</th>\n",
              "      <th>Dia</th>\n",
              "      <th>ValorTotal</th>\n",
              "      <th>ItemFat</th>\n",
              "    </tr>\n",
              "  </thead>\n",
              "  <tbody>\n",
              "    <tr>\n",
              "      <th>0</th>\n",
              "      <td>536365</td>\n",
              "      <td>85123A</td>\n",
              "      <td>WHITE HANGING HEART T-LIGHT HOLDER</td>\n",
              "      <td>6</td>\n",
              "      <td>2016-11-29</td>\n",
              "      <td>2.55</td>\n",
              "      <td>17850</td>\n",
              "      <td>United Kingdom</td>\n",
              "      <td>2016</td>\n",
              "      <td>11</td>\n",
              "      <td>29</td>\n",
              "      <td>15.30</td>\n",
              "      <td>0</td>\n",
              "    </tr>\n",
              "    <tr>\n",
              "      <th>1</th>\n",
              "      <td>536365</td>\n",
              "      <td>71053</td>\n",
              "      <td>WHITE METAL LANTERN</td>\n",
              "      <td>6</td>\n",
              "      <td>2016-11-29</td>\n",
              "      <td>3.39</td>\n",
              "      <td>17850</td>\n",
              "      <td>United Kingdom</td>\n",
              "      <td>2016</td>\n",
              "      <td>11</td>\n",
              "      <td>29</td>\n",
              "      <td>20.34</td>\n",
              "      <td>1</td>\n",
              "    </tr>\n",
              "    <tr>\n",
              "      <th>2</th>\n",
              "      <td>536365</td>\n",
              "      <td>84406B</td>\n",
              "      <td>CREAM CUPID HEARTS COAT HANGER</td>\n",
              "      <td>8</td>\n",
              "      <td>2016-11-29</td>\n",
              "      <td>2.75</td>\n",
              "      <td>17850</td>\n",
              "      <td>United Kingdom</td>\n",
              "      <td>2016</td>\n",
              "      <td>11</td>\n",
              "      <td>29</td>\n",
              "      <td>22.00</td>\n",
              "      <td>2</td>\n",
              "    </tr>\n",
              "  </tbody>\n",
              "</table>\n",
              "</div>"
            ],
            "text/plain": [
              "   IdVenda CodItem  ... ValorTotal  ItemFat\n",
              "0   536365  85123A  ...      15.30        0\n",
              "1   536365   71053  ...      20.34        1\n",
              "2   536365  84406B  ...      22.00        2\n",
              "\n",
              "[3 rows x 13 columns]"
            ]
          },
          "metadata": {
            "tags": []
          },
          "execution_count": 176
        }
      ]
    },
    {
      "cell_type": "code",
      "metadata": {
        "colab": {
          "base_uri": "https://localhost:8080/",
          "height": 173
        },
        "id": "VEcsLnFR22Dq",
        "outputId": "6ab2a0c9-2577-479d-bf6f-c33f91fbe0cc"
      },
      "source": [
        "modelo3 = dados2[['IdCliente','ItemFat','PrecoUnit','Qtde']]\n",
        "modelo3.head(4)"
      ],
      "execution_count": 182,
      "outputs": [
        {
          "output_type": "execute_result",
          "data": {
            "text/html": [
              "<div>\n",
              "<style scoped>\n",
              "    .dataframe tbody tr th:only-of-type {\n",
              "        vertical-align: middle;\n",
              "    }\n",
              "\n",
              "    .dataframe tbody tr th {\n",
              "        vertical-align: top;\n",
              "    }\n",
              "\n",
              "    .dataframe thead th {\n",
              "        text-align: right;\n",
              "    }\n",
              "</style>\n",
              "<table border=\"1\" class=\"dataframe\">\n",
              "  <thead>\n",
              "    <tr style=\"text-align: right;\">\n",
              "      <th></th>\n",
              "      <th>IdCliente</th>\n",
              "      <th>ItemFat</th>\n",
              "      <th>PrecoUnit</th>\n",
              "      <th>Qtde</th>\n",
              "    </tr>\n",
              "  </thead>\n",
              "  <tbody>\n",
              "    <tr>\n",
              "      <th>0</th>\n",
              "      <td>17850</td>\n",
              "      <td>0</td>\n",
              "      <td>2.55</td>\n",
              "      <td>6</td>\n",
              "    </tr>\n",
              "    <tr>\n",
              "      <th>1</th>\n",
              "      <td>17850</td>\n",
              "      <td>1</td>\n",
              "      <td>3.39</td>\n",
              "      <td>6</td>\n",
              "    </tr>\n",
              "    <tr>\n",
              "      <th>2</th>\n",
              "      <td>17850</td>\n",
              "      <td>2</td>\n",
              "      <td>2.75</td>\n",
              "      <td>8</td>\n",
              "    </tr>\n",
              "    <tr>\n",
              "      <th>3</th>\n",
              "      <td>17850</td>\n",
              "      <td>3</td>\n",
              "      <td>3.39</td>\n",
              "      <td>6</td>\n",
              "    </tr>\n",
              "  </tbody>\n",
              "</table>\n",
              "</div>"
            ],
            "text/plain": [
              "   IdCliente  ItemFat  PrecoUnit  Qtde\n",
              "0      17850        0       2.55     6\n",
              "1      17850        1       3.39     6\n",
              "2      17850        2       2.75     8\n",
              "3      17850        3       3.39     6"
            ]
          },
          "metadata": {
            "tags": []
          },
          "execution_count": 182
        }
      ]
    },
    {
      "cell_type": "code",
      "metadata": {
        "colab": {
          "base_uri": "https://localhost:8080/"
        },
        "id": "RnHgP3XKXUUZ",
        "outputId": "057d7d7f-a0a0-4ad8-a358-6c529e36b6c6"
      },
      "source": [
        "# Passando os dados dos clientes para o formato de matriz\n",
        "modelo3m = modelo3.values\n",
        "modelo3m"
      ],
      "execution_count": 183,
      "outputs": [
        {
          "output_type": "execute_result",
          "data": {
            "text/plain": [
              "array([[1.785e+04, 0.000e+00, 2.550e+00, 6.000e+00],\n",
              "       [1.785e+04, 1.000e+00, 3.390e+00, 6.000e+00],\n",
              "       [1.785e+04, 2.000e+00, 2.750e+00, 8.000e+00],\n",
              "       ...,\n",
              "       [1.268e+04, 2.925e+03, 4.150e+00, 4.000e+00],\n",
              "       [1.268e+04, 2.928e+03, 4.150e+00, 4.000e+00],\n",
              "       [1.268e+04, 2.400e+03, 4.950e+00, 3.000e+00]])"
            ]
          },
          "metadata": {
            "tags": []
          },
          "execution_count": 183
        }
      ]
    },
    {
      "cell_type": "code",
      "metadata": {
        "id": "iHgLaoWH2aXk",
        "colab": {
          "base_uri": "https://localhost:8080/"
        },
        "outputId": "5b3c24ec-d055-4517-d49a-758640301de8"
      },
      "source": [
        "# Escalonando os dados\n",
        "sc = StandardScaler()\n",
        "modelo3m = sc.fit_transform(modelo3m)\n",
        "modelo3m"
      ],
      "execution_count": 184,
      "outputs": [
        {
          "output_type": "execute_result",
          "data": {
            "text/plain": [
              "array([[ 1.49175372, -1.13044773, -0.03680921, -0.17303048],\n",
              "       [ 1.49175372, -1.12960507,  0.02338694, -0.17303048],\n",
              "       [ 1.49175372, -1.12876241, -0.02247679, -0.1191982 ],\n",
              "       ...,\n",
              "       [-1.52610681,  1.33433447,  0.07785013, -0.22686276],\n",
              "       [-1.52610681,  1.33686245,  0.07785013, -0.22686276],\n",
              "       [-1.52610681,  0.89193766,  0.1351798 , -0.2537789 ]])"
            ]
          },
          "metadata": {
            "tags": []
          },
          "execution_count": 184
        }
      ]
    },
    {
      "cell_type": "code",
      "metadata": {
        "colab": {
          "base_uri": "https://localhost:8080/",
          "height": 399
        },
        "id": "fK4D61MidQYR",
        "outputId": "90310c55-7996-4db6-fb44-4afede65c966"
      },
      "source": [
        "# Escolhendo o numero de clusters pelo método Elbow utilizando K-Means\n",
        "\n",
        "ks = range(1, 11)\n",
        "inertia = [] # inertia: Soma das distâncias quadráticas intra cluster\n",
        "\n",
        "for k in ks:\n",
        "    # Criando um modelo KMeans com k clusters:\n",
        "    model = KMeans(n_clusters= k)\n",
        "    \n",
        "    # Fitando os dados no modelo\n",
        "    model.fit(modelo3m)\n",
        "    \n",
        "    # Adicionado os resultados da inertia na sua lista\n",
        "    inertia.append(model.inertia_)\n",
        "    \n",
        "# Gráfico Elbow\n",
        "plt.figure(figsize=(15,6))\n",
        "plt.plot(ks, inertia, '-o')\n",
        "plt.xlabel('Num. de clusters')\n",
        "plt.ylabel('Soma das distâncias Q intra clusters')\n",
        "plt.xticks(ks)\n",
        "plt.show()"
      ],
      "execution_count": 185,
      "outputs": [
        {
          "output_type": "display_data",
          "data": {
            "image/png": "[encoded data removed]",
            "text/plain": [
              "<Figure size 1080x432 with 1 Axes>"
            ]
          },
          "metadata": {
            "tags": [],
            "needs_background": "light"
          }
        }
      ]
    },
    {
      "cell_type": "code",
      "metadata": {
        "colab": {
          "base_uri": "https://localhost:8080/"
        },
        "id": "K4_7loTEdQVf",
        "outputId": "e3d47e45-7e03-4e69-b000-e809aa338178"
      },
      "source": [
        "#Criando um modelo\n",
        "modelo = KMeans(n_clusters=5)\n",
        "modelo.fit(modelo3m)"
      ],
      "execution_count": 186,
      "outputs": [
        {
          "output_type": "execute_result",
          "data": {
            "text/plain": [
              "KMeans(algorithm='auto', copy_x=True, init='k-means++', max_iter=300,\n",
              "       n_clusters=5, n_init=10, n_jobs=None, precompute_distances='auto',\n",
              "       random_state=None, tol=0.0001, verbose=0)"
            ]
          },
          "metadata": {
            "tags": []
          },
          "execution_count": 186
        }
      ]
    },
    {
      "cell_type": "code",
      "metadata": {
        "colab": {
          "base_uri": "https://localhost:8080/",
          "height": 204
        },
        "id": "6qxblphVdQSm",
        "outputId": "7bf9d9c4-cc0b-4901-df46-b12abbfaa340"
      },
      "source": [
        "# Adicionando os clusters na tabela de clientes\n",
        "dados2['Categoria'] = modelo.predict(modelo3m)\n",
        "dados2.head()"
      ],
      "execution_count": 189,
      "outputs": [
        {
          "output_type": "execute_result",
          "data": {
            "text/html": [
              "<div>\n",
              "<style scoped>\n",
              "    .dataframe tbody tr th:only-of-type {\n",
              "        vertical-align: middle;\n",
              "    }\n",
              "\n",
              "    .dataframe tbody tr th {\n",
              "        vertical-align: top;\n",
              "    }\n",
              "\n",
              "    .dataframe thead th {\n",
              "        text-align: right;\n",
              "    }\n",
              "</style>\n",
              "<table border=\"1\" class=\"dataframe\">\n",
              "  <thead>\n",
              "    <tr style=\"text-align: right;\">\n",
              "      <th></th>\n",
              "      <th>IdVenda</th>\n",
              "      <th>CodItem</th>\n",
              "      <th>Item</th>\n",
              "      <th>Qtde</th>\n",
              "      <th>DataVenda</th>\n",
              "      <th>PrecoUnit</th>\n",
              "      <th>IdCliente</th>\n",
              "      <th>Pais</th>\n",
              "      <th>Ano</th>\n",
              "      <th>Mes</th>\n",
              "      <th>Dia</th>\n",
              "      <th>ValorTotal</th>\n",
              "      <th>ItemFat</th>\n",
              "      <th>Categoria</th>\n",
              "    </tr>\n",
              "  </thead>\n",
              "  <tbody>\n",
              "    <tr>\n",
              "      <th>0</th>\n",
              "      <td>536365</td>\n",
              "      <td>85123A</td>\n",
              "      <td>WHITE HANGING HEART T-LIGHT HOLDER</td>\n",
              "      <td>6</td>\n",
              "      <td>2016-11-29</td>\n",
              "      <td>2.55</td>\n",
              "      <td>17850</td>\n",
              "      <td>United Kingdom</td>\n",
              "      <td>2016</td>\n",
              "      <td>11</td>\n",
              "      <td>29</td>\n",
              "      <td>15.30</td>\n",
              "      <td>0</td>\n",
              "      <td>0</td>\n",
              "    </tr>\n",
              "    <tr>\n",
              "      <th>1</th>\n",
              "      <td>536365</td>\n",
              "      <td>71053</td>\n",
              "      <td>WHITE METAL LANTERN</td>\n",
              "      <td>6</td>\n",
              "      <td>2016-11-29</td>\n",
              "      <td>3.39</td>\n",
              "      <td>17850</td>\n",
              "      <td>United Kingdom</td>\n",
              "      <td>2016</td>\n",
              "      <td>11</td>\n",
              "      <td>29</td>\n",
              "      <td>20.34</td>\n",
              "      <td>1</td>\n",
              "      <td>0</td>\n",
              "    </tr>\n",
              "    <tr>\n",
              "      <th>2</th>\n",
              "      <td>536365</td>\n",
              "      <td>84406B</td>\n",
              "      <td>CREAM CUPID HEARTS COAT HANGER</td>\n",
              "      <td>8</td>\n",
              "      <td>2016-11-29</td>\n",
              "      <td>2.75</td>\n",
              "      <td>17850</td>\n",
              "      <td>United Kingdom</td>\n",
              "      <td>2016</td>\n",
              "      <td>11</td>\n",
              "      <td>29</td>\n",
              "      <td>22.00</td>\n",
              "      <td>2</td>\n",
              "      <td>0</td>\n",
              "    </tr>\n",
              "    <tr>\n",
              "      <th>3</th>\n",
              "      <td>536365</td>\n",
              "      <td>84029G</td>\n",
              "      <td>KNITTED UNION FLAG HOT WATER BOTTLE</td>\n",
              "      <td>6</td>\n",
              "      <td>2016-11-29</td>\n",
              "      <td>3.39</td>\n",
              "      <td>17850</td>\n",
              "      <td>United Kingdom</td>\n",
              "      <td>2016</td>\n",
              "      <td>11</td>\n",
              "      <td>29</td>\n",
              "      <td>20.34</td>\n",
              "      <td>3</td>\n",
              "      <td>0</td>\n",
              "    </tr>\n",
              "    <tr>\n",
              "      <th>4</th>\n",
              "      <td>536365</td>\n",
              "      <td>84029E</td>\n",
              "      <td>RED WOOLLY HOTTIE WHITE HEART.</td>\n",
              "      <td>6</td>\n",
              "      <td>2016-11-29</td>\n",
              "      <td>3.39</td>\n",
              "      <td>17850</td>\n",
              "      <td>United Kingdom</td>\n",
              "      <td>2016</td>\n",
              "      <td>11</td>\n",
              "      <td>29</td>\n",
              "      <td>20.34</td>\n",
              "      <td>4</td>\n",
              "      <td>0</td>\n",
              "    </tr>\n",
              "  </tbody>\n",
              "</table>\n",
              "</div>"
            ],
            "text/plain": [
              "   IdVenda CodItem  ... ItemFat  Categoria\n",
              "0   536365  85123A  ...       0          0\n",
              "1   536365   71053  ...       1          0\n",
              "2   536365  84406B  ...       2          0\n",
              "3   536365  84029G  ...       3          0\n",
              "4   536365  84029E  ...       4          0\n",
              "\n",
              "[5 rows x 14 columns]"
            ]
          },
          "metadata": {
            "tags": []
          },
          "execution_count": 189
        }
      ]
    },
    {
      "cell_type": "code",
      "metadata": {
        "colab": {
          "base_uri": "https://localhost:8080/"
        },
        "id": "Hhr4axJNh-kV",
        "outputId": "9f883a05-8feb-4310-f6b3-c6bc45ad1f0b"
      },
      "source": [
        "dados2['Categoria'].value_counts()"
      ],
      "execution_count": 191,
      "outputs": [
        {
          "output_type": "execute_result",
          "data": {
            "text/plain": [
              "4    151302\n",
              "0    134517\n",
              "1    110809\n",
              "3      1196\n",
              "2        22\n",
              "Name: Categoria, dtype: int64"
            ]
          },
          "metadata": {
            "tags": []
          },
          "execution_count": 191
        }
      ]
    },
    {
      "cell_type": "code",
      "metadata": {
        "colab": {
          "base_uri": "https://localhost:8080/",
          "height": 419
        },
        "id": "gKQtWzUMgj0v",
        "outputId": "f45a2b7f-9921-40d3-be25-9f68689bdc34"
      },
      "source": [
        "dados2[dados2['Categoria'] == 0]"
      ],
      "execution_count": 193,
      "outputs": [
        {
          "output_type": "execute_result",
          "data": {
            "text/html": [
              "<div>\n",
              "<style scoped>\n",
              "    .dataframe tbody tr th:only-of-type {\n",
              "        vertical-align: middle;\n",
              "    }\n",
              "\n",
              "    .dataframe tbody tr th {\n",
              "        vertical-align: top;\n",
              "    }\n",
              "\n",
              "    .dataframe thead th {\n",
              "        text-align: right;\n",
              "    }\n",
              "</style>\n",
              "<table border=\"1\" class=\"dataframe\">\n",
              "  <thead>\n",
              "    <tr style=\"text-align: right;\">\n",
              "      <th></th>\n",
              "      <th>IdVenda</th>\n",
              "      <th>CodItem</th>\n",
              "      <th>Item</th>\n",
              "      <th>Qtde</th>\n",
              "      <th>DataVenda</th>\n",
              "      <th>PrecoUnit</th>\n",
              "      <th>IdCliente</th>\n",
              "      <th>Pais</th>\n",
              "      <th>Ano</th>\n",
              "      <th>Mes</th>\n",
              "      <th>Dia</th>\n",
              "      <th>ValorTotal</th>\n",
              "      <th>ItemFat</th>\n",
              "      <th>Categoria</th>\n",
              "    </tr>\n",
              "  </thead>\n",
              "  <tbody>\n",
              "    <tr>\n",
              "      <th>0</th>\n",
              "      <td>536365</td>\n",
              "      <td>85123A</td>\n",
              "      <td>WHITE HANGING HEART T-LIGHT HOLDER</td>\n",
              "      <td>6</td>\n",
              "      <td>2016-11-29</td>\n",
              "      <td>2.55</td>\n",
              "      <td>17850</td>\n",
              "      <td>United Kingdom</td>\n",
              "      <td>2016</td>\n",
              "      <td>11</td>\n",
              "      <td>29</td>\n",
              "      <td>15.30</td>\n",
              "      <td>0</td>\n",
              "      <td>0</td>\n",
              "    </tr>\n",
              "    <tr>\n",
              "      <th>1</th>\n",
              "      <td>536365</td>\n",
              "      <td>71053</td>\n",
              "      <td>WHITE METAL LANTERN</td>\n",
              "      <td>6</td>\n",
              "      <td>2016-11-29</td>\n",
              "      <td>3.39</td>\n",
              "      <td>17850</td>\n",
              "      <td>United Kingdom</td>\n",
              "      <td>2016</td>\n",
              "      <td>11</td>\n",
              "      <td>29</td>\n",
              "      <td>20.34</td>\n",
              "      <td>1</td>\n",
              "      <td>0</td>\n",
              "    </tr>\n",
              "    <tr>\n",
              "      <th>2</th>\n",
              "      <td>536365</td>\n",
              "      <td>84406B</td>\n",
              "      <td>CREAM CUPID HEARTS COAT HANGER</td>\n",
              "      <td>8</td>\n",
              "      <td>2016-11-29</td>\n",
              "      <td>2.75</td>\n",
              "      <td>17850</td>\n",
              "      <td>United Kingdom</td>\n",
              "      <td>2016</td>\n",
              "      <td>11</td>\n",
              "      <td>29</td>\n",
              "      <td>22.00</td>\n",
              "      <td>2</td>\n",
              "      <td>0</td>\n",
              "    </tr>\n",
              "    <tr>\n",
              "      <th>3</th>\n",
              "      <td>536365</td>\n",
              "      <td>84029G</td>\n",
              "      <td>KNITTED UNION FLAG HOT WATER BOTTLE</td>\n",
              "      <td>6</td>\n",
              "      <td>2016-11-29</td>\n",
              "      <td>3.39</td>\n",
              "      <td>17850</td>\n",
              "      <td>United Kingdom</td>\n",
              "      <td>2016</td>\n",
              "      <td>11</td>\n",
              "      <td>29</td>\n",
              "      <td>20.34</td>\n",
              "      <td>3</td>\n",
              "      <td>0</td>\n",
              "    </tr>\n",
              "    <tr>\n",
              "      <th>4</th>\n",
              "      <td>536365</td>\n",
              "      <td>84029E</td>\n",
              "      <td>RED WOOLLY HOTTIE WHITE HEART.</td>\n",
              "      <td>6</td>\n",
              "      <td>2016-11-29</td>\n",
              "      <td>3.39</td>\n",
              "      <td>17850</td>\n",
              "      <td>United Kingdom</td>\n",
              "      <td>2016</td>\n",
              "      <td>11</td>\n",
              "      <td>29</td>\n",
              "      <td>20.34</td>\n",
              "      <td>4</td>\n",
              "      <td>0</td>\n",
              "    </tr>\n",
              "    <tr>\n",
              "      <th>...</th>\n",
              "      <td>...</td>\n",
              "      <td>...</td>\n",
              "      <td>...</td>\n",
              "      <td>...</td>\n",
              "      <td>...</td>\n",
              "      <td>...</td>\n",
              "      <td>...</td>\n",
              "      <td>...</td>\n",
              "      <td>...</td>\n",
              "      <td>...</td>\n",
              "      <td>...</td>\n",
              "      <td>...</td>\n",
              "      <td>...</td>\n",
              "      <td>...</td>\n",
              "    </tr>\n",
              "    <tr>\n",
              "      <th>397817</th>\n",
              "      <td>581585</td>\n",
              "      <td>22727</td>\n",
              "      <td>ALARM CLOCK BAKELIKE RED</td>\n",
              "      <td>4</td>\n",
              "      <td>2017-12-07</td>\n",
              "      <td>3.75</td>\n",
              "      <td>15804</td>\n",
              "      <td>United Kingdom</td>\n",
              "      <td>2017</td>\n",
              "      <td>12</td>\n",
              "      <td>7</td>\n",
              "      <td>15.00</td>\n",
              "      <td>27</td>\n",
              "      <td>0</td>\n",
              "    </tr>\n",
              "    <tr>\n",
              "      <th>397818</th>\n",
              "      <td>581585</td>\n",
              "      <td>16016</td>\n",
              "      <td>LARGE CHINESE STYLE SCISSOR</td>\n",
              "      <td>10</td>\n",
              "      <td>2017-12-07</td>\n",
              "      <td>0.85</td>\n",
              "      <td>15804</td>\n",
              "      <td>United Kingdom</td>\n",
              "      <td>2017</td>\n",
              "      <td>12</td>\n",
              "      <td>7</td>\n",
              "      <td>8.50</td>\n",
              "      <td>466</td>\n",
              "      <td>0</td>\n",
              "    </tr>\n",
              "    <tr>\n",
              "      <th>397819</th>\n",
              "      <td>581585</td>\n",
              "      <td>21916</td>\n",
              "      <td>SET 12 RETRO WHITE CHALK STICKS</td>\n",
              "      <td>24</td>\n",
              "      <td>2017-12-07</td>\n",
              "      <td>0.42</td>\n",
              "      <td>15804</td>\n",
              "      <td>United Kingdom</td>\n",
              "      <td>2017</td>\n",
              "      <td>12</td>\n",
              "      <td>7</td>\n",
              "      <td>10.08</td>\n",
              "      <td>417</td>\n",
              "      <td>0</td>\n",
              "    </tr>\n",
              "    <tr>\n",
              "      <th>397820</th>\n",
              "      <td>581585</td>\n",
              "      <td>84692</td>\n",
              "      <td>BOX OF 24 COCKTAIL PARASOLS</td>\n",
              "      <td>25</td>\n",
              "      <td>2017-12-07</td>\n",
              "      <td>0.42</td>\n",
              "      <td>15804</td>\n",
              "      <td>United Kingdom</td>\n",
              "      <td>2017</td>\n",
              "      <td>12</td>\n",
              "      <td>7</td>\n",
              "      <td>10.50</td>\n",
              "      <td>685</td>\n",
              "      <td>0</td>\n",
              "    </tr>\n",
              "    <tr>\n",
              "      <th>397823</th>\n",
              "      <td>581585</td>\n",
              "      <td>22398</td>\n",
              "      <td>MAGNETS PACK OF 4 SWALLOWS</td>\n",
              "      <td>12</td>\n",
              "      <td>2017-12-07</td>\n",
              "      <td>0.39</td>\n",
              "      <td>15804</td>\n",
              "      <td>United Kingdom</td>\n",
              "      <td>2017</td>\n",
              "      <td>12</td>\n",
              "      <td>7</td>\n",
              "      <td>4.68</td>\n",
              "      <td>1428</td>\n",
              "      <td>0</td>\n",
              "    </tr>\n",
              "  </tbody>\n",
              "</table>\n",
              "<p>134517 rows × 14 columns</p>\n",
              "</div>"
            ],
            "text/plain": [
              "        IdVenda CodItem  ... ItemFat  Categoria\n",
              "0        536365  85123A  ...       0          0\n",
              "1        536365   71053  ...       1          0\n",
              "2        536365  84406B  ...       2          0\n",
              "3        536365  84029G  ...       3          0\n",
              "4        536365  84029E  ...       4          0\n",
              "...         ...     ...  ...     ...        ...\n",
              "397817   581585   22727  ...      27          0\n",
              "397818   581585   16016  ...     466          0\n",
              "397819   581585   21916  ...     417          0\n",
              "397820   581585   84692  ...     685          0\n",
              "397823   581585   22398  ...    1428          0\n",
              "\n",
              "[134517 rows x 14 columns]"
            ]
          },
          "metadata": {
            "tags": []
          },
          "execution_count": 193
        }
      ]
    },
    {
      "cell_type": "code",
      "metadata": {
        "colab": {
          "base_uri": "https://localhost:8080/",
          "height": 265
        },
        "id": "B9vQcDnIknAR",
        "outputId": "a2aaf026-4282-45af-ff92-edb3c4bbc3e2"
      },
      "source": [
        "dados2[dados2['Categoria'] == 4].groupby('IdCliente')['Qtde'].sum().sort_values(ascending=False).head(10).plot(kind='barh');"
      ],
      "execution_count": 194,
      "outputs": [
        {
          "output_type": "display_data",
          "data": {
            "image/png": "[encoded data removed]",
            "text/plain": [
              "<Figure size 432x288 with 1 Axes>"
            ]
          },
          "metadata": {
            "tags": [],
            "needs_background": "light"
          }
        }
      ]
    },
    {
      "cell_type": "code",
      "metadata": {
        "colab": {
          "base_uri": "https://localhost:8080/",
          "height": 265
        },
        "id": "6mSu5fIWk3n0",
        "outputId": "d5d387e7-1248-4f1b-9a2a-a4933e2b445f"
      },
      "source": [
        "dados2[dados2['Categoria'] == 4].groupby('IdCliente')['ValorTotal'].sum().sort_values(ascending=False).head(10).plot(kind='barh');"
      ],
      "execution_count": 195,
      "outputs": [
        {
          "output_type": "display_data",
          "data": {
            "image/png": "[encoded data removed]",
            "text/plain": [
              "<Figure size 432x288 with 1 Axes>"
            ]
          },
          "metadata": {
            "tags": [],
            "needs_background": "light"
          }
        }
      ]
    },
    {
      "cell_type": "markdown",
      "metadata": {
        "id": "zvqvRXJN6AJa"
      },
      "source": [
        ""
      ]
    }
  ]
}